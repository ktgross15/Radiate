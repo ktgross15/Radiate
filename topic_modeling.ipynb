{
 "cells": [
  {
   "cell_type": "markdown",
   "metadata": {},
   "source": [
    "# Topic Modeling on User Bios"
   ]
  },
  {
   "cell_type": "code",
   "execution_count": 1,
   "metadata": {
    "collapsed": true
   },
   "outputs": [],
   "source": [
    "import pandas as pd\n",
    "from sklearn.feature_extraction.text import TfidfVectorizer\n",
    "from sklearn.decomposition import NMF\n",
    "from nltk import word_tokenize, tokenize\n",
    "from nltk.corpus import stopwords\n",
    "from nltk.stem.wordnet import WordNetLemmatizer\n",
    "from nltk.stem.porter import PorterStemmer\n",
    "import re\n",
    "# from sklearn.cluster import KMeans\n",
    "import string"
   ]
  },
  {
   "cell_type": "code",
   "execution_count": 2,
   "metadata": {
    "collapsed": true
   },
   "outputs": [],
   "source": [
    "df_peeps = pd.read_json('radiate_peeps.json')"
   ]
  },
  {
   "cell_type": "code",
   "execution_count": 20,
   "metadata": {},
   "outputs": [],
   "source": [
    "df_peeps.set_index('pk', inplace=True)"
   ]
  },
  {
   "cell_type": "code",
   "execution_count": 21,
   "metadata": {},
   "outputs": [
    {
     "data": {
      "text/html": [
       "<div>\n",
       "<style>\n",
       "    .dataframe thead tr:only-child th {\n",
       "        text-align: right;\n",
       "    }\n",
       "\n",
       "    .dataframe thead th {\n",
       "        text-align: left;\n",
       "    }\n",
       "\n",
       "    .dataframe tbody tr th {\n",
       "        vertical-align: top;\n",
       "    }\n",
       "</style>\n",
       "<table border=\"1\" class=\"dataframe\">\n",
       "  <thead>\n",
       "    <tr style=\"text-align: right;\">\n",
       "      <th></th>\n",
       "      <th>android_api_level</th>\n",
       "      <th>birthday</th>\n",
       "      <th>country</th>\n",
       "      <th>crush_ratio</th>\n",
       "      <th>gender</th>\n",
       "      <th>has_instagram</th>\n",
       "      <th>ios_system_version</th>\n",
       "      <th>last_location</th>\n",
       "      <th>last_login</th>\n",
       "      <th>matches</th>\n",
       "      <th>peep_bubbles__count</th>\n",
       "      <th>tagline</th>\n",
       "      <th>bio_topic_0</th>\n",
       "      <th>bio_topic_1</th>\n",
       "      <th>bio_topic_2</th>\n",
       "      <th>bio_topic_3</th>\n",
       "      <th>bio_topic_4</th>\n",
       "    </tr>\n",
       "    <tr>\n",
       "      <th>pk</th>\n",
       "      <th></th>\n",
       "      <th></th>\n",
       "      <th></th>\n",
       "      <th></th>\n",
       "      <th></th>\n",
       "      <th></th>\n",
       "      <th></th>\n",
       "      <th></th>\n",
       "      <th></th>\n",
       "      <th></th>\n",
       "      <th></th>\n",
       "      <th></th>\n",
       "      <th></th>\n",
       "      <th></th>\n",
       "      <th></th>\n",
       "      <th></th>\n",
       "      <th></th>\n",
       "    </tr>\n",
       "  </thead>\n",
       "  <tbody>\n",
       "    <tr>\n",
       "      <th>263742</th>\n",
       "      <td>23.0</td>\n",
       "      <td>1997-09-21</td>\n",
       "      <td>US</td>\n",
       "      <td>0.772937</td>\n",
       "      <td>f</td>\n",
       "      <td>False</td>\n",
       "      <td>10.3.2</td>\n",
       "      <td>[-117.1880506, 33.7205858]</td>\n",
       "      <td>2017-12-25T21:22:11.543180+00:00</td>\n",
       "      <td>[{u'created_on': u'2018-01-24T09:47:08.339733+...</td>\n",
       "      <td>19</td>\n",
       "      <td>🤷🏼‍♀️</td>\n",
       "      <td>0.000080</td>\n",
       "      <td>0.000000</td>\n",
       "      <td>0.000000</td>\n",
       "      <td>0.000267</td>\n",
       "      <td>0.000075</td>\n",
       "    </tr>\n",
       "    <tr>\n",
       "      <th>292558</th>\n",
       "      <td>NaN</td>\n",
       "      <td>1993-03-30</td>\n",
       "      <td>US</td>\n",
       "      <td>0.674425</td>\n",
       "      <td>f</td>\n",
       "      <td>False</td>\n",
       "      <td>10.3.1</td>\n",
       "      <td>[-84.2233889662, 30.5663066025]</td>\n",
       "      <td>2018-01-24T21:23:44.066424+00:00</td>\n",
       "      <td>[{u'created_on': u'2018-01-12T04:58:52.210761+...</td>\n",
       "      <td>61</td>\n",
       "      <td>I have discount tickets for most festivals:\\n\\...</td>\n",
       "      <td>0.004704</td>\n",
       "      <td>0.000150</td>\n",
       "      <td>0.001322</td>\n",
       "      <td>0.000498</td>\n",
       "      <td>0.001114</td>\n",
       "    </tr>\n",
       "    <tr>\n",
       "      <th>312457</th>\n",
       "      <td>NaN</td>\n",
       "      <td>1990-09-13</td>\n",
       "      <td>US</td>\n",
       "      <td>0.173913</td>\n",
       "      <td>m</td>\n",
       "      <td>False</td>\n",
       "      <td>10.3.3</td>\n",
       "      <td>[-88.1918462698, 41.5387220045]</td>\n",
       "      <td>2017-10-06T01:28:30.598312+00:00</td>\n",
       "      <td>[{u'created_on': u'2017-09-22T01:11:16.860239+...</td>\n",
       "      <td>4</td>\n",
       "      <td></td>\n",
       "      <td>0.000000</td>\n",
       "      <td>0.000000</td>\n",
       "      <td>0.000000</td>\n",
       "      <td>0.000000</td>\n",
       "      <td>0.000000</td>\n",
       "    </tr>\n",
       "    <tr>\n",
       "      <th>238027</th>\n",
       "      <td>NaN</td>\n",
       "      <td>1988-05-18</td>\n",
       "      <td>None</td>\n",
       "      <td>0.183333</td>\n",
       "      <td>m</td>\n",
       "      <td>False</td>\n",
       "      <td>None</td>\n",
       "      <td>[-122.661078544, 45.5122568272]</td>\n",
       "      <td>2016-07-20T23:57:13.011737+00:00</td>\n",
       "      <td>[{u'created_on': u'2017-05-16T15:52:53.757064+...</td>\n",
       "      <td>3</td>\n",
       "      <td>Tune in to my radio show \"Learning to Grow\" wi...</td>\n",
       "      <td>0.009298</td>\n",
       "      <td>0.000851</td>\n",
       "      <td>0.000220</td>\n",
       "      <td>0.000000</td>\n",
       "      <td>0.000813</td>\n",
       "    </tr>\n",
       "    <tr>\n",
       "      <th>326086</th>\n",
       "      <td>NaN</td>\n",
       "      <td>1997-03-02</td>\n",
       "      <td>None</td>\n",
       "      <td>0.750000</td>\n",
       "      <td>f</td>\n",
       "      <td>False</td>\n",
       "      <td>10.3.3</td>\n",
       "      <td>None</td>\n",
       "      <td>2017-08-25T16:06:45.288857+00:00</td>\n",
       "      <td>[{u'created_on': u'2017-08-25T16:03:49.042583+...</td>\n",
       "      <td>3</td>\n",
       "      <td></td>\n",
       "      <td>0.000000</td>\n",
       "      <td>0.000000</td>\n",
       "      <td>0.000000</td>\n",
       "      <td>0.000000</td>\n",
       "      <td>0.000000</td>\n",
       "    </tr>\n",
       "  </tbody>\n",
       "</table>\n",
       "</div>"
      ],
      "text/plain": [
       "        android_api_level    birthday country  crush_ratio gender  \\\n",
       "pk                                                                  \n",
       "263742               23.0  1997-09-21      US     0.772937      f   \n",
       "292558                NaN  1993-03-30      US     0.674425      f   \n",
       "312457                NaN  1990-09-13      US     0.173913      m   \n",
       "238027                NaN  1988-05-18    None     0.183333      m   \n",
       "326086                NaN  1997-03-02    None     0.750000      f   \n",
       "\n",
       "        has_instagram ios_system_version                    last_location  \\\n",
       "pk                                                                          \n",
       "263742          False             10.3.2       [-117.1880506, 33.7205858]   \n",
       "292558          False             10.3.1  [-84.2233889662, 30.5663066025]   \n",
       "312457          False             10.3.3  [-88.1918462698, 41.5387220045]   \n",
       "238027          False               None  [-122.661078544, 45.5122568272]   \n",
       "326086          False             10.3.3                             None   \n",
       "\n",
       "                              last_login  \\\n",
       "pk                                         \n",
       "263742  2017-12-25T21:22:11.543180+00:00   \n",
       "292558  2018-01-24T21:23:44.066424+00:00   \n",
       "312457  2017-10-06T01:28:30.598312+00:00   \n",
       "238027  2016-07-20T23:57:13.011737+00:00   \n",
       "326086  2017-08-25T16:06:45.288857+00:00   \n",
       "\n",
       "                                                  matches  \\\n",
       "pk                                                          \n",
       "263742  [{u'created_on': u'2018-01-24T09:47:08.339733+...   \n",
       "292558  [{u'created_on': u'2018-01-12T04:58:52.210761+...   \n",
       "312457  [{u'created_on': u'2017-09-22T01:11:16.860239+...   \n",
       "238027  [{u'created_on': u'2017-05-16T15:52:53.757064+...   \n",
       "326086  [{u'created_on': u'2017-08-25T16:03:49.042583+...   \n",
       "\n",
       "        peep_bubbles__count  \\\n",
       "pk                            \n",
       "263742                   19   \n",
       "292558                   61   \n",
       "312457                    4   \n",
       "238027                    3   \n",
       "326086                    3   \n",
       "\n",
       "                                                  tagline  bio_topic_0  \\\n",
       "pk                                                                       \n",
       "263742                                            🤷🏼‍♀️     0.000080   \n",
       "292558  I have discount tickets for most festivals:\\n\\...     0.004704   \n",
       "312457                                                        0.000000   \n",
       "238027  Tune in to my radio show \"Learning to Grow\" wi...     0.009298   \n",
       "326086                                                        0.000000   \n",
       "\n",
       "        bio_topic_1  bio_topic_2  bio_topic_3  bio_topic_4  \n",
       "pk                                                          \n",
       "263742     0.000000     0.000000     0.000267     0.000075  \n",
       "292558     0.000150     0.001322     0.000498     0.001114  \n",
       "312457     0.000000     0.000000     0.000000     0.000000  \n",
       "238027     0.000851     0.000220     0.000000     0.000813  \n",
       "326086     0.000000     0.000000     0.000000     0.000000  "
      ]
     },
     "execution_count": 21,
     "metadata": {},
     "output_type": "execute_result"
    }
   ],
   "source": [
    "df_peeps.head()"
   ]
  },
  {
   "cell_type": "code",
   "execution_count": 23,
   "metadata": {
    "collapsed": true
   },
   "outputs": [],
   "source": [
    "docs = df_peeps['tagline']"
   ]
  },
  {
   "cell_type": "code",
   "execution_count": 25,
   "metadata": {},
   "outputs": [
    {
     "data": {
      "text/plain": [
       "pk\n",
       "263742                                              🤷🏼‍♀️\n",
       "292558    I have discount tickets for most festivals:\\n\\...\n",
       "312457                                                     \n",
       "238027    Tune in to my radio show \"Learning to Grow\" wi...\n",
       "326086                                                     \n",
       "310246                                                     \n",
       "260988                                                     \n",
       "244211                                                 🍄🐢\n",
       "267361    Always looking for new people to get down with...\n",
       "292967                       Looking for more rage friends!\n",
       "Name: tagline, dtype: object"
      ]
     },
     "execution_count": 25,
     "metadata": {},
     "output_type": "execute_result"
    }
   ],
   "source": [
    "docs.head(10)"
   ]
  },
  {
   "cell_type": "code",
   "execution_count": 5,
   "metadata": {
    "collapsed": true
   },
   "outputs": [],
   "source": [
    "def tokenize(text):\n",
    "    tokens = word_tokenize(text)\n",
    "    stems = []\n",
    "    for token in tokens:\n",
    "        if token not in string.punctuation and token[0]!=\"'\":\n",
    "            stems.append(PorterStemmer().stem(token))\n",
    "    return stems"
   ]
  },
  {
   "cell_type": "code",
   "execution_count": 12,
   "metadata": {
    "collapsed": true
   },
   "outputs": [],
   "source": [
    "vectorizer = TfidfVectorizer(tokenizer=tokenize, stop_words='english', ngram_range=(1,2))\n",
    "dtm = vectorizer.fit_transform(docs)\n",
    "feature_names = vectorizer.get_feature_names()"
   ]
  },
  {
   "cell_type": "code",
   "execution_count": 13,
   "metadata": {},
   "outputs": [
    {
     "data": {
      "text/plain": [
       "NMF(alpha=0.0, beta=1, eta=0.1, init=None, l1_ratio=0.0, max_iter=200,\n",
       "  n_components=5, nls_max_iter=2000, random_state=None, shuffle=False,\n",
       "  solver='cd', sparseness=None, tol=0.0001, verbose=0)"
      ]
     },
     "execution_count": 13,
     "metadata": {},
     "output_type": "execute_result"
    }
   ],
   "source": [
    "num_topics = 5\n",
    "\n",
    "nmf = NMF(n_components=num_topics)\n",
    "nmf.fit(dtm)"
   ]
  },
  {
   "cell_type": "code",
   "execution_count": 14,
   "metadata": {},
   "outputs": [
    {
     "name": "stdout",
     "output_type": "stream",
     "text": [
      "Topic 1: new, peopl, love, meet, meet new\n",
      "Topic 2: good, vibe, good vibe, time, good time\n",
      "Topic 3: let, rage, let rage, weird, let weird\n",
      "Topic 4: rave, bae, rave bae, look, look rave\n",
      "Topic 5: basshead, headbang, 👽, ig, basshead 👽\n"
     ]
    }
   ],
   "source": [
    "def display_topics(model, feature_names, no_top_words):\n",
    "    for topic_idx, topic in enumerate(model.components_):\n",
    "        results = \", \".join([feature_names[i] for i in topic.argsort()[:-no_top_words - 1:-1]])\n",
    "        print \"Topic %d:\" % (topic_idx+1), results\n",
    "        \n",
    "display_topics(nmf, feature_names, 5)"
   ]
  },
  {
   "cell_type": "markdown",
   "metadata": {},
   "source": [
    "Above are the top 5 words/emojis/bigrams for the top 5 bio topics - we can see that the first is clearly about meeting new people, the second is about good vibes, and so on."
   ]
  },
  {
   "cell_type": "code",
   "execution_count": 15,
   "metadata": {
    "collapsed": true
   },
   "outputs": [],
   "source": [
    "W = nmf.transform(dtm)"
   ]
  },
  {
   "cell_type": "code",
   "execution_count": 16,
   "metadata": {
    "collapsed": true
   },
   "outputs": [],
   "source": [
    "for i in range(num_topics):\n",
    "    col_name = 'bio_topic_'+str(i)\n",
    "    df_peeps[col_name] = W[:,i]"
   ]
  },
  {
   "cell_type": "code",
   "execution_count": null,
   "metadata": {
    "collapsed": true
   },
   "outputs": [],
   "source": []
  }
 ],
 "metadata": {
  "kernelspec": {
   "display_name": "Python 2",
   "language": "python",
   "name": "python2"
  },
  "language_info": {
   "codemirror_mode": {
    "name": "ipython",
    "version": 2
   },
   "file_extension": ".py",
   "mimetype": "text/x-python",
   "name": "python",
   "nbconvert_exporter": "python",
   "pygments_lexer": "ipython2",
   "version": "2.7.14"
  }
 },
 "nbformat": 4,
 "nbformat_minor": 2
}
