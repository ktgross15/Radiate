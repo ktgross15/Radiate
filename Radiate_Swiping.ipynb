{
 "cells": [
  {
   "cell_type": "code",
   "execution_count": 218,
   "metadata": {},
   "outputs": [],
   "source": [
    "import pandas as pd\n",
    "import numpy as np\n",
    "from surprise import Dataset, Reader, NormalPredictor, KNNBasic\n",
    "from surprise.model_selection import cross_validate\n",
    "from sklearn.metrics.pairwise import cosine_similarity\n",
    "import matplotlib.pyplot as plt\n",
    "%matplotlib inline\n",
    "from scipy import sparse\n",
    "from sklearn.metrics.pairwise import *\n",
    "from surprise import Reader, Dataset, KNNBasic, accuracy\n",
    "from surprise.model_selection import train_test_split\n",
    "from surprise.model_selection import KFold"
   ]
  },
  {
   "cell_type": "code",
   "execution_count": 173,
   "metadata": {},
   "outputs": [],
   "source": [
    "df = pd.read_csv('radiate_crushes.csv', parse_dates=['created_on','updated_on'])"
   ]
  },
  {
   "cell_type": "code",
   "execution_count": 174,
   "metadata": {},
   "outputs": [],
   "source": [
    "df['is_positive'] = df['is_positive'].map({True:1, False:-1})"
   ]
  },
  {
   "cell_type": "code",
   "execution_count": 179,
   "metadata": {},
   "outputs": [
    {
     "name": "stdout",
     "output_type": "stream",
     "text": [
      "<class 'pandas.core.frame.DataFrame'>\n",
      "Int64Index: 80698314 entries, 80698313 to 0\n",
      "Data columns (total 6 columns):\n",
      "peep_to_id      int64\n",
      "peep_from_id    int64\n",
      "bubble_id       float64\n",
      "is_positive     int64\n",
      "created_on      datetime64[ns]\n",
      "updated_on      datetime64[ns]\n",
      "dtypes: datetime64[ns](2), float64(1), int64(3)\n",
      "memory usage: 4.2 GB\n"
     ]
    }
   ],
   "source": [
    "df.info()"
   ]
  },
  {
   "cell_type": "code",
   "execution_count": 176,
   "metadata": {},
   "outputs": [],
   "source": [
    "df.sort_values(by='updated_on', inplace=True)"
   ]
  },
  {
   "cell_type": "code",
   "execution_count": 177,
   "metadata": {},
   "outputs": [
    {
     "data": {
      "text/html": [
       "<div>\n",
       "<style scoped>\n",
       "    .dataframe tbody tr th:only-of-type {\n",
       "        vertical-align: middle;\n",
       "    }\n",
       "\n",
       "    .dataframe tbody tr th {\n",
       "        vertical-align: top;\n",
       "    }\n",
       "\n",
       "    .dataframe thead th {\n",
       "        text-align: right;\n",
       "    }\n",
       "</style>\n",
       "<table border=\"1\" class=\"dataframe\">\n",
       "  <thead>\n",
       "    <tr style=\"text-align: right;\">\n",
       "      <th></th>\n",
       "      <th>peep_to_id</th>\n",
       "      <th>peep_from_id</th>\n",
       "      <th>bubble_id</th>\n",
       "      <th>is_positive</th>\n",
       "      <th>created_on</th>\n",
       "      <th>updated_on</th>\n",
       "    </tr>\n",
       "  </thead>\n",
       "  <tbody>\n",
       "    <tr>\n",
       "      <th>80698313</th>\n",
       "      <td>200016</td>\n",
       "      <td>200017</td>\n",
       "      <td>10.0</td>\n",
       "      <td>1</td>\n",
       "      <td>2015-05-03 05:25:16.576871</td>\n",
       "      <td>2015-05-24 03:45:03.551374</td>\n",
       "    </tr>\n",
       "    <tr>\n",
       "      <th>80698161</th>\n",
       "      <td>200007</td>\n",
       "      <td>200043</td>\n",
       "      <td>9.0</td>\n",
       "      <td>1</td>\n",
       "      <td>2015-05-20 03:29:34.081895</td>\n",
       "      <td>2015-05-24 03:45:03.551374</td>\n",
       "    </tr>\n",
       "    <tr>\n",
       "      <th>80698160</th>\n",
       "      <td>200006</td>\n",
       "      <td>200045</td>\n",
       "      <td>9.0</td>\n",
       "      <td>-1</td>\n",
       "      <td>2015-05-21 14:31:45.561990</td>\n",
       "      <td>2015-05-24 03:45:03.551374</td>\n",
       "    </tr>\n",
       "    <tr>\n",
       "      <th>80698159</th>\n",
       "      <td>200043</td>\n",
       "      <td>200007</td>\n",
       "      <td>9.0</td>\n",
       "      <td>1</td>\n",
       "      <td>2015-05-20 03:34:11.161917</td>\n",
       "      <td>2015-05-24 03:45:03.551374</td>\n",
       "    </tr>\n",
       "    <tr>\n",
       "      <th>80698158</th>\n",
       "      <td>200040</td>\n",
       "      <td>200007</td>\n",
       "      <td>9.0</td>\n",
       "      <td>1</td>\n",
       "      <td>2015-05-20 03:33:58.633158</td>\n",
       "      <td>2015-05-24 03:45:03.551374</td>\n",
       "    </tr>\n",
       "  </tbody>\n",
       "</table>\n",
       "</div>"
      ],
      "text/plain": [
       "          peep_to_id  peep_from_id  bubble_id  is_positive  \\\n",
       "80698313      200016        200017       10.0            1   \n",
       "80698161      200007        200043        9.0            1   \n",
       "80698160      200006        200045        9.0           -1   \n",
       "80698159      200043        200007        9.0            1   \n",
       "80698158      200040        200007        9.0            1   \n",
       "\n",
       "                         created_on                 updated_on  \n",
       "80698313 2015-05-03 05:25:16.576871 2015-05-24 03:45:03.551374  \n",
       "80698161 2015-05-20 03:29:34.081895 2015-05-24 03:45:03.551374  \n",
       "80698160 2015-05-21 14:31:45.561990 2015-05-24 03:45:03.551374  \n",
       "80698159 2015-05-20 03:34:11.161917 2015-05-24 03:45:03.551374  \n",
       "80698158 2015-05-20 03:33:58.633158 2015-05-24 03:45:03.551374  "
      ]
     },
     "execution_count": 177,
     "metadata": {},
     "output_type": "execute_result"
    }
   ],
   "source": [
    "df.head()"
   ]
  },
  {
   "cell_type": "code",
   "execution_count": 191,
   "metadata": {},
   "outputs": [],
   "source": [
    "df.dropna(inplace=True)"
   ]
  },
  {
   "cell_type": "code",
   "execution_count": 178,
   "metadata": {},
   "outputs": [
    {
     "data": {
      "text/plain": [
       " 1    46174012\n",
       "-1    34524302\n",
       "Name: is_positive, dtype: int64"
      ]
     },
     "execution_count": 178,
     "metadata": {},
     "output_type": "execute_result"
    }
   ],
   "source": [
    "df['is_positive'].value_counts()"
   ]
  },
  {
   "cell_type": "code",
   "execution_count": 181,
   "metadata": {},
   "outputs": [],
   "source": [
    "# remove duplicates\n",
    "\n",
    "df2 = df.groupby(['peep_to_id','peep_from_id']).last()"
   ]
  },
  {
   "cell_type": "code",
   "execution_count": 182,
   "metadata": {},
   "outputs": [],
   "source": [
    "df2.reset_index(inplace=True)"
   ]
  },
  {
   "cell_type": "code",
   "execution_count": 184,
   "metadata": {},
   "outputs": [],
   "source": [
    "swipe_counts = df2.groupby('peep_from_id',as_index=False)['peep_to_id'].count()\n",
    "swipe_counts.rename(columns={'peep_to_id':'num_swipes'}, inplace=True)"
   ]
  },
  {
   "cell_type": "code",
   "execution_count": 186,
   "metadata": {},
   "outputs": [],
   "source": [
    "df2 = df2.merge(swipe_counts)"
   ]
  },
  {
   "cell_type": "code",
   "execution_count": 187,
   "metadata": {},
   "outputs": [],
   "source": [
    "df2 = df2[df2['num_swipes']>=25]\n",
    "\n",
    "# decide later if we should keep this"
   ]
  },
  {
   "cell_type": "code",
   "execution_count": 209,
   "metadata": {},
   "outputs": [],
   "source": [
    "# df2.to_pickle('df2.pkl')"
   ]
  },
  {
   "cell_type": "code",
   "execution_count": 211,
   "metadata": {},
   "outputs": [],
   "source": [
    "df2 = df2[['peep_from_id','peep_to_id','is_positive']]"
   ]
  },
  {
   "cell_type": "code",
   "execution_count": 212,
   "metadata": {},
   "outputs": [
    {
     "data": {
      "text/html": [
       "<div>\n",
       "<style scoped>\n",
       "    .dataframe tbody tr th:only-of-type {\n",
       "        vertical-align: middle;\n",
       "    }\n",
       "\n",
       "    .dataframe tbody tr th {\n",
       "        vertical-align: top;\n",
       "    }\n",
       "\n",
       "    .dataframe thead th {\n",
       "        text-align: right;\n",
       "    }\n",
       "</style>\n",
       "<table border=\"1\" class=\"dataframe\">\n",
       "  <thead>\n",
       "    <tr style=\"text-align: right;\">\n",
       "      <th></th>\n",
       "      <th>peep_from_id</th>\n",
       "      <th>peep_to_id</th>\n",
       "      <th>is_positive</th>\n",
       "    </tr>\n",
       "  </thead>\n",
       "  <tbody>\n",
       "    <tr>\n",
       "      <th>0</th>\n",
       "      <td>200007</td>\n",
       "      <td>200006</td>\n",
       "      <td>-1</td>\n",
       "    </tr>\n",
       "    <tr>\n",
       "      <th>1</th>\n",
       "      <td>200007</td>\n",
       "      <td>200008</td>\n",
       "      <td>-1</td>\n",
       "    </tr>\n",
       "    <tr>\n",
       "      <th>2</th>\n",
       "      <td>200007</td>\n",
       "      <td>200013</td>\n",
       "      <td>1</td>\n",
       "    </tr>\n",
       "    <tr>\n",
       "      <th>3</th>\n",
       "      <td>200007</td>\n",
       "      <td>200016</td>\n",
       "      <td>1</td>\n",
       "    </tr>\n",
       "    <tr>\n",
       "      <th>4</th>\n",
       "      <td>200007</td>\n",
       "      <td>200017</td>\n",
       "      <td>-1</td>\n",
       "    </tr>\n",
       "  </tbody>\n",
       "</table>\n",
       "</div>"
      ],
      "text/plain": [
       "   peep_from_id  peep_to_id  is_positive\n",
       "0        200007      200006           -1\n",
       "1        200007      200008           -1\n",
       "2        200007      200013            1\n",
       "3        200007      200016            1\n",
       "4        200007      200017           -1"
      ]
     },
     "execution_count": 212,
     "metadata": {},
     "output_type": "execute_result"
    }
   ],
   "source": [
    "df2.head()"
   ]
  },
  {
   "cell_type": "code",
   "execution_count": 194,
   "metadata": {},
   "outputs": [
    {
     "name": "stdout",
     "output_type": "stream",
     "text": [
      "<class 'pandas.core.frame.DataFrame'>\n",
      "Int64Index: 80000 entries, 0 to 153793\n",
      "Data columns (total 3 columns):\n",
      "peep_to_id      80000 non-null int64\n",
      "peep_from_id    80000 non-null int64\n",
      "is_positive     80000 non-null int64\n",
      "dtypes: int64(3)\n",
      "memory usage: 2.4 MB\n"
     ]
    }
   ],
   "source": [
    "small_df.info()"
   ]
  },
  {
   "cell_type": "code",
   "execution_count": 10,
   "metadata": {},
   "outputs": [],
   "source": [
    "# plt.hist(df['num_swipes'], range=(0,100))\n",
    "# plt.show()"
   ]
  },
  {
   "cell_type": "code",
   "execution_count": 193,
   "metadata": {},
   "outputs": [],
   "source": [
    "small_df = df2[['peep_to_id', 'peep_from_id', 'is_positive']].iloc[:80000,:]"
   ]
  },
  {
   "cell_type": "code",
   "execution_count": 148,
   "metadata": {},
   "outputs": [],
   "source": [
    "# utility_mat = sparse.coo_matrix((small_df['is_positive'], (small_df['peep_from_id'], small_df['peep_to_id'])))"
   ]
  },
  {
   "cell_type": "code",
   "execution_count": 195,
   "metadata": {},
   "outputs": [],
   "source": [
    "reader = Reader(rating_scale=(-1,1))"
   ]
  },
  {
   "cell_type": "code",
   "execution_count": 219,
   "metadata": {},
   "outputs": [],
   "source": [
    "data_small = Dataset.load_from_df(small_df[['peep_from_id','peep_to_id','is_positive']], reader)"
   ]
  },
  {
   "cell_type": "code",
   "execution_count": 220,
   "metadata": {},
   "outputs": [],
   "source": [
    "trainset, testset = train_test_split(data_small, test_size=.25)"
   ]
  },
  {
   "cell_type": "code",
   "execution_count": 221,
   "metadata": {},
   "outputs": [
    {
     "name": "stdout",
     "output_type": "stream",
     "text": [
      "Computing the msd similarity matrix...\n",
      "Done computing similarity matrix.\n",
      "RMSE: 1.0147\n"
     ]
    },
    {
     "data": {
      "text/plain": [
       "1.0146890425226514"
      ]
     },
     "execution_count": 221,
     "metadata": {},
     "output_type": "execute_result"
    }
   ],
   "source": [
    "algo = KNNBasic()\n",
    "\n",
    "# Train the algorithm on the trainset, and predict ratings for the testset\n",
    "algo.fit(trainset)\n",
    "predictions = algo.test(testset)\n",
    "\n",
    "# Then compute RMSE\n",
    "accuracy.rmse(predictions)"
   ]
  },
  {
   "cell_type": "markdown",
   "metadata": {},
   "source": [
    "# CLEANER CODE"
   ]
  },
  {
   "cell_type": "code",
   "execution_count": 222,
   "metadata": {},
   "outputs": [
    {
     "data": {
      "text/html": [
       "<div>\n",
       "<style scoped>\n",
       "    .dataframe tbody tr th:only-of-type {\n",
       "        vertical-align: middle;\n",
       "    }\n",
       "\n",
       "    .dataframe tbody tr th {\n",
       "        vertical-align: top;\n",
       "    }\n",
       "\n",
       "    .dataframe thead th {\n",
       "        text-align: right;\n",
       "    }\n",
       "</style>\n",
       "<table border=\"1\" class=\"dataframe\">\n",
       "  <thead>\n",
       "    <tr style=\"text-align: right;\">\n",
       "      <th></th>\n",
       "      <th>peep_from_id</th>\n",
       "      <th>peep_to_id</th>\n",
       "      <th>is_positive</th>\n",
       "    </tr>\n",
       "  </thead>\n",
       "  <tbody>\n",
       "    <tr>\n",
       "      <th>0</th>\n",
       "      <td>200007</td>\n",
       "      <td>200006</td>\n",
       "      <td>-1</td>\n",
       "    </tr>\n",
       "    <tr>\n",
       "      <th>1</th>\n",
       "      <td>200007</td>\n",
       "      <td>200008</td>\n",
       "      <td>-1</td>\n",
       "    </tr>\n",
       "    <tr>\n",
       "      <th>2</th>\n",
       "      <td>200007</td>\n",
       "      <td>200013</td>\n",
       "      <td>1</td>\n",
       "    </tr>\n",
       "    <tr>\n",
       "      <th>3</th>\n",
       "      <td>200007</td>\n",
       "      <td>200016</td>\n",
       "      <td>1</td>\n",
       "    </tr>\n",
       "    <tr>\n",
       "      <th>4</th>\n",
       "      <td>200007</td>\n",
       "      <td>200017</td>\n",
       "      <td>-1</td>\n",
       "    </tr>\n",
       "  </tbody>\n",
       "</table>\n",
       "</div>"
      ],
      "text/plain": [
       "   peep_from_id  peep_to_id  is_positive\n",
       "0        200007      200006           -1\n",
       "1        200007      200008           -1\n",
       "2        200007      200013            1\n",
       "3        200007      200016            1\n",
       "4        200007      200017           -1"
      ]
     },
     "execution_count": 222,
     "metadata": {},
     "output_type": "execute_result"
    }
   ],
   "source": [
    "df2.head()"
   ]
  },
  {
   "cell_type": "code",
   "execution_count": 224,
   "metadata": {},
   "outputs": [],
   "source": [
    "reader = Reader(rating_scale=(-1,1))\n",
    "data = Dataset.load_from_df(df2, reader)"
   ]
  },
  {
   "cell_type": "code",
   "execution_count": null,
   "metadata": {},
   "outputs": [],
   "source": [
    "trainset, testset = train_test_split(data, test_size=.25)\n",
    "\n",
    "knn = KNNBasic()\n",
    "knn.fit(trainset)\n",
    "predictions = knn.test(testset)\n",
    "\n",
    "accuracy.rmse(predictions)"
   ]
  },
  {
   "cell_type": "code",
   "execution_count": null,
   "metadata": {},
   "outputs": [],
   "source": []
  },
  {
   "cell_type": "code",
   "execution_count": null,
   "metadata": {},
   "outputs": [],
   "source": []
  },
  {
   "cell_type": "code",
   "execution_count": null,
   "metadata": {},
   "outputs": [],
   "source": []
  },
  {
   "cell_type": "code",
   "execution_count": 197,
   "metadata": {},
   "outputs": [
    {
     "name": "stdout",
     "output_type": "stream",
     "text": [
      "Computing the msd similarity matrix...\n",
      "Done computing similarity matrix.\n",
      "RMSE: 1.0192\n",
      "Computing the msd similarity matrix...\n",
      "Done computing similarity matrix.\n",
      "RMSE: 1.0279\n",
      "Computing the msd similarity matrix...\n",
      "Done computing similarity matrix.\n",
      "RMSE: 1.0208\n"
     ]
    }
   ],
   "source": [
    "# kf = KFold(n_splits=3)\n",
    "# knn = KNNBasic()\n",
    "\n",
    "# for trainset, testset in kf.split(data):\n",
    "\n",
    "#     knn.fit(trainset)\n",
    "#     predictions = knn.test(testset)\n",
    "\n",
    "#     accuracy.rmse(predictions, verbose=True)"
   ]
  },
  {
   "cell_type": "code",
   "execution_count": 207,
   "metadata": {},
   "outputs": [
    {
     "data": {
      "text/plain": [
       "[Prediction(uid=201166, iid=203650, r_ui=-1.0, est=-1, details={u'actual_k': 1, u'was_impossible': False}),\n",
       " Prediction(uid=201524, iid=215271, r_ui=-1.0, est=-1, details={u'actual_k': 4, u'was_impossible': False}),\n",
       " Prediction(uid=201162, iid=288093, r_ui=-1.0, est=1, details={u'actual_k': 1, u'was_impossible': False}),\n",
       " Prediction(uid=200180, iid=200817, r_ui=1.0, est=0.031020853279808858, details={u'actual_k': 15, u'was_impossible': False}),\n",
       " Prediction(uid=200017, iid=203964, r_ui=1.0, est=-1, details={u'actual_k': 2, u'was_impossible': False}),\n",
       " Prediction(uid=201490, iid=220042, r_ui=1.0, est=-0.07968650391870091, details={u'reason': 'User and/or item is unkown.', u'was_impossible': True}),\n",
       " Prediction(uid=200629, iid=267772, r_ui=-1.0, est=-0.07968650391870091, details={u'reason': 'User and/or item is unkown.', u'was_impossible': True}),\n",
       " Prediction(uid=200016, iid=288400, r_ui=-1.0, est=-0.07968650391870091, details={u'reason': 'User and/or item is unkown.', u'was_impossible': True}),\n",
       " Prediction(uid=200016, iid=304393, r_ui=1.0, est=-0.07968650391870091, details={u'reason': 'User and/or item is unkown.', u'was_impossible': True}),\n",
       " Prediction(uid=201490, iid=229858, r_ui=-1.0, est=0.9999999999999996, details={u'actual_k': 1, u'was_impossible': False}),\n",
       " Prediction(uid=201490, iid=215891, r_ui=-1.0, est=-0.07968650391870091, details={u'reason': 'User and/or item is unkown.', u'was_impossible': True}),\n",
       " Prediction(uid=200017, iid=289865, r_ui=1.0, est=1, details={u'actual_k': 1, u'was_impossible': False}),\n",
       " Prediction(uid=200017, iid=203302, r_ui=1.0, est=-0.07968650391870091, details={u'reason': 'User and/or item is unkown.', u'was_impossible': True}),\n",
       " Prediction(uid=202940, iid=202087, r_ui=1.0, est=-1, details={u'actual_k': 10, u'was_impossible': False}),\n",
       " Prediction(uid=200273, iid=242128, r_ui=-1.0, est=-0.07968650391870091, details={u'reason': 'User and/or item is unkown.', u'was_impossible': True}),\n",
       " Prediction(uid=201490, iid=240429, r_ui=-1.0, est=-0.016964543095992823, details={u'actual_k': 2, u'was_impossible': False}),\n",
       " Prediction(uid=200016, iid=202614, r_ui=1.0, est=1, details={u'actual_k': 1, u'was_impossible': False}),\n",
       " Prediction(uid=201953, iid=229760, r_ui=1.0, est=1, details={u'actual_k': 2, u'was_impossible': False}),\n",
       " Prediction(uid=203145, iid=273928, r_ui=-1.0, est=-0.07968650391870091, details={u'reason': 'User and/or item is unkown.', u'was_impossible': True}),\n",
       " Prediction(uid=202942, iid=203002, r_ui=-1.0, est=-0.7942677995591039, details={u'actual_k': 6, u'was_impossible': False})]"
      ]
     },
     "execution_count": 207,
     "metadata": {},
     "output_type": "execute_result"
    }
   ],
   "source": [
    "predictions[:20]"
   ]
  },
  {
   "cell_type": "code",
   "execution_count": 208,
   "metadata": {},
   "outputs": [
    {
     "data": {
      "text/html": [
       "<div>\n",
       "<style scoped>\n",
       "    .dataframe tbody tr th:only-of-type {\n",
       "        vertical-align: middle;\n",
       "    }\n",
       "\n",
       "    .dataframe tbody tr th {\n",
       "        vertical-align: top;\n",
       "    }\n",
       "\n",
       "    .dataframe thead th {\n",
       "        text-align: right;\n",
       "    }\n",
       "</style>\n",
       "<table border=\"1\" class=\"dataframe\">\n",
       "  <thead>\n",
       "    <tr style=\"text-align: right;\">\n",
       "      <th></th>\n",
       "      <th>peep_to_id</th>\n",
       "      <th>peep_from_id</th>\n",
       "      <th>is_positive</th>\n",
       "    </tr>\n",
       "  </thead>\n",
       "  <tbody>\n",
       "    <tr>\n",
       "      <th>121170</th>\n",
       "      <td>220042</td>\n",
       "      <td>201490</td>\n",
       "      <td>1</td>\n",
       "    </tr>\n",
       "  </tbody>\n",
       "</table>\n",
       "</div>"
      ],
      "text/plain": [
       "        peep_to_id  peep_from_id  is_positive\n",
       "121170      220042        201490            1"
      ]
     },
     "execution_count": 208,
     "metadata": {},
     "output_type": "execute_result"
    }
   ],
   "source": [
    "small_df[(small_df['peep_from_id']==201490) & (small_df['peep_to_id']==220042)]"
   ]
  },
  {
   "cell_type": "code",
   "execution_count": 201,
   "metadata": {},
   "outputs": [],
   "source": [
    "# similarities = cosine_similarity(utility_mat)\n",
    "# sims = paired_cosine_distances(sparse_df[])"
   ]
  },
  {
   "cell_type": "code",
   "execution_count": 129,
   "metadata": {},
   "outputs": [],
   "source": [
    "# sparse_df = pd.DataFrame({'index': utility_mat.row, 'col': utility_mat.col, 'data': utility_mat.data})"
   ]
  },
  {
   "cell_type": "code",
   "execution_count": 202,
   "metadata": {},
   "outputs": [],
   "source": [
    "# sparse_df = pd.DataFrame({'index': utility_mat.row, 'col': utility_mat.col, 'data': utlity_mat.data})"
   ]
  },
  {
   "cell_type": "code",
   "execution_count": 204,
   "metadata": {},
   "outputs": [],
   "source": [
    "knn = KNNBasic(name='cosine', user_based=True)"
   ]
  },
  {
   "cell_type": "code",
   "execution_count": 206,
   "metadata": {},
   "outputs": [],
   "source": [
    "# train, test = train_test_split(small_df.)\n",
    "# knn.train(utility_mat, n_users=len(utility_mat))"
   ]
  },
  {
   "cell_type": "code",
   "execution_count": null,
   "metadata": {},
   "outputs": [],
   "source": []
  }
 ],
 "metadata": {
  "kernelspec": {
   "display_name": "Python 2",
   "language": "python",
   "name": "python2"
  },
  "language_info": {
   "codemirror_mode": {
    "name": "ipython",
    "version": 2
   },
   "file_extension": ".py",
   "mimetype": "text/x-python",
   "name": "python",
   "nbconvert_exporter": "python",
   "pygments_lexer": "ipython2",
   "version": "2.7.12"
  }
 },
 "nbformat": 4,
 "nbformat_minor": 2
}
