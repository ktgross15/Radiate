{
 "cells": [
  {
   "cell_type": "code",
   "execution_count": 1,
   "metadata": {
    "collapsed": true
   },
   "outputs": [],
   "source": [
    "import pandas as pd\n",
    "import numpy as np\n",
    "import datetime as dt\n",
    "import matplotlib.pyplot as plt\n",
    "%matplotlib inline\n",
    "from pandas.plotting import scatter_matrix\n",
    "import json\n",
    "from itertools import chain\n",
    "import multiprocessing\n",
    "from collections import defaultdict"
   ]
  },
  {
   "cell_type": "markdown",
   "metadata": {},
   "source": [
    "# Data Cleaning/EDA"
   ]
  },
  {
   "cell_type": "markdown",
   "metadata": {},
   "source": [
    "First dataframe - each column is an individual user. This is the main dataframe we will work off of."
   ]
  },
  {
   "cell_type": "code",
   "execution_count": 2,
   "metadata": {
    "collapsed": true
   },
   "outputs": [],
   "source": [
    "df_users = pd.read_json('radiate_peeps.json')"
   ]
  },
  {
   "cell_type": "code",
   "execution_count": 3,
   "metadata": {
    "collapsed": true
   },
   "outputs": [],
   "source": [
    "df_users.set_index('pk', inplace=True)"
   ]
  },
  {
   "cell_type": "code",
   "execution_count": 4,
   "metadata": {},
   "outputs": [
    {
     "data": {
      "text/html": [
       "<div>\n",
       "<style scoped>\n",
       "    .dataframe tbody tr th:only-of-type {\n",
       "        vertical-align: middle;\n",
       "    }\n",
       "\n",
       "    .dataframe tbody tr th {\n",
       "        vertical-align: top;\n",
       "    }\n",
       "\n",
       "    .dataframe thead th {\n",
       "        text-align: right;\n",
       "    }\n",
       "</style>\n",
       "<table border=\"1\" class=\"dataframe\">\n",
       "  <thead>\n",
       "    <tr style=\"text-align: right;\">\n",
       "      <th></th>\n",
       "      <th>android_api_level</th>\n",
       "      <th>birthday</th>\n",
       "      <th>country</th>\n",
       "      <th>crush_ratio</th>\n",
       "      <th>gender</th>\n",
       "      <th>has_instagram</th>\n",
       "      <th>ios_system_version</th>\n",
       "      <th>last_location</th>\n",
       "      <th>last_login</th>\n",
       "      <th>matches</th>\n",
       "      <th>peep_bubbles__count</th>\n",
       "      <th>tagline</th>\n",
       "    </tr>\n",
       "    <tr>\n",
       "      <th>pk</th>\n",
       "      <th></th>\n",
       "      <th></th>\n",
       "      <th></th>\n",
       "      <th></th>\n",
       "      <th></th>\n",
       "      <th></th>\n",
       "      <th></th>\n",
       "      <th></th>\n",
       "      <th></th>\n",
       "      <th></th>\n",
       "      <th></th>\n",
       "      <th></th>\n",
       "    </tr>\n",
       "  </thead>\n",
       "  <tbody>\n",
       "    <tr>\n",
       "      <th>263742</th>\n",
       "      <td>23.0</td>\n",
       "      <td>1997-09-21</td>\n",
       "      <td>US</td>\n",
       "      <td>0.772937</td>\n",
       "      <td>f</td>\n",
       "      <td>False</td>\n",
       "      <td>10.3.2</td>\n",
       "      <td>[-117.1880506, 33.7205858]</td>\n",
       "      <td>2017-12-25T21:22:11.543180+00:00</td>\n",
       "      <td>[{u'created_on': u'2018-01-24T09:47:08.339733+...</td>\n",
       "      <td>19</td>\n",
       "      <td>🤷🏼‍♀️</td>\n",
       "    </tr>\n",
       "    <tr>\n",
       "      <th>292558</th>\n",
       "      <td>NaN</td>\n",
       "      <td>1993-03-30</td>\n",
       "      <td>US</td>\n",
       "      <td>0.674425</td>\n",
       "      <td>f</td>\n",
       "      <td>False</td>\n",
       "      <td>10.3.1</td>\n",
       "      <td>[-84.2233889662, 30.5663066025]</td>\n",
       "      <td>2018-01-24T21:23:44.066424+00:00</td>\n",
       "      <td>[{u'created_on': u'2018-01-12T04:58:52.210761+...</td>\n",
       "      <td>61</td>\n",
       "      <td>I have discount tickets for most festivals:\\n\\...</td>\n",
       "    </tr>\n",
       "    <tr>\n",
       "      <th>312457</th>\n",
       "      <td>NaN</td>\n",
       "      <td>1990-09-13</td>\n",
       "      <td>US</td>\n",
       "      <td>0.173913</td>\n",
       "      <td>m</td>\n",
       "      <td>False</td>\n",
       "      <td>10.3.3</td>\n",
       "      <td>[-88.1918462698, 41.5387220045]</td>\n",
       "      <td>2017-10-06T01:28:30.598312+00:00</td>\n",
       "      <td>[{u'created_on': u'2017-09-22T01:11:16.860239+...</td>\n",
       "      <td>4</td>\n",
       "      <td></td>\n",
       "    </tr>\n",
       "    <tr>\n",
       "      <th>238027</th>\n",
       "      <td>NaN</td>\n",
       "      <td>1988-05-18</td>\n",
       "      <td>None</td>\n",
       "      <td>0.183333</td>\n",
       "      <td>m</td>\n",
       "      <td>False</td>\n",
       "      <td>None</td>\n",
       "      <td>[-122.661078544, 45.5122568272]</td>\n",
       "      <td>2016-07-20T23:57:13.011737+00:00</td>\n",
       "      <td>[{u'created_on': u'2017-05-16T15:52:53.757064+...</td>\n",
       "      <td>3</td>\n",
       "      <td>Tune in to my radio show \"Learning to Grow\" wi...</td>\n",
       "    </tr>\n",
       "    <tr>\n",
       "      <th>326086</th>\n",
       "      <td>NaN</td>\n",
       "      <td>1997-03-02</td>\n",
       "      <td>None</td>\n",
       "      <td>0.750000</td>\n",
       "      <td>f</td>\n",
       "      <td>False</td>\n",
       "      <td>10.3.3</td>\n",
       "      <td>None</td>\n",
       "      <td>2017-08-25T16:06:45.288857+00:00</td>\n",
       "      <td>[{u'created_on': u'2017-08-25T16:03:49.042583+...</td>\n",
       "      <td>3</td>\n",
       "      <td></td>\n",
       "    </tr>\n",
       "  </tbody>\n",
       "</table>\n",
       "</div>"
      ],
      "text/plain": [
       "        android_api_level    birthday country  crush_ratio gender  \\\n",
       "pk                                                                  \n",
       "263742               23.0  1997-09-21      US     0.772937      f   \n",
       "292558                NaN  1993-03-30      US     0.674425      f   \n",
       "312457                NaN  1990-09-13      US     0.173913      m   \n",
       "238027                NaN  1988-05-18    None     0.183333      m   \n",
       "326086                NaN  1997-03-02    None     0.750000      f   \n",
       "\n",
       "        has_instagram ios_system_version                    last_location  \\\n",
       "pk                                                                          \n",
       "263742          False             10.3.2       [-117.1880506, 33.7205858]   \n",
       "292558          False             10.3.1  [-84.2233889662, 30.5663066025]   \n",
       "312457          False             10.3.3  [-88.1918462698, 41.5387220045]   \n",
       "238027          False               None  [-122.661078544, 45.5122568272]   \n",
       "326086          False             10.3.3                             None   \n",
       "\n",
       "                              last_login  \\\n",
       "pk                                         \n",
       "263742  2017-12-25T21:22:11.543180+00:00   \n",
       "292558  2018-01-24T21:23:44.066424+00:00   \n",
       "312457  2017-10-06T01:28:30.598312+00:00   \n",
       "238027  2016-07-20T23:57:13.011737+00:00   \n",
       "326086  2017-08-25T16:06:45.288857+00:00   \n",
       "\n",
       "                                                  matches  \\\n",
       "pk                                                          \n",
       "263742  [{u'created_on': u'2018-01-24T09:47:08.339733+...   \n",
       "292558  [{u'created_on': u'2018-01-12T04:58:52.210761+...   \n",
       "312457  [{u'created_on': u'2017-09-22T01:11:16.860239+...   \n",
       "238027  [{u'created_on': u'2017-05-16T15:52:53.757064+...   \n",
       "326086  [{u'created_on': u'2017-08-25T16:03:49.042583+...   \n",
       "\n",
       "        peep_bubbles__count                                            tagline  \n",
       "pk                                                                              \n",
       "263742                   19                                              🤷🏼‍♀️  \n",
       "292558                   61  I have discount tickets for most festivals:\\n\\...  \n",
       "312457                    4                                                     \n",
       "238027                    3  Tune in to my radio show \"Learning to Grow\" wi...  \n",
       "326086                    3                                                     "
      ]
     },
     "execution_count": 4,
     "metadata": {},
     "output_type": "execute_result"
    }
   ],
   "source": [
    "df_users.head()"
   ]
  },
  {
   "cell_type": "code",
   "execution_count": 5,
   "metadata": {},
   "outputs": [
    {
     "name": "stdout",
     "output_type": "stream",
     "text": [
      "<class 'pandas.core.frame.DataFrame'>\n",
      "Int64Index: 143302 entries, 263742 to 306280\n",
      "Data columns (total 12 columns):\n",
      "android_api_level      22972 non-null float64\n",
      "birthday               143302 non-null object\n",
      "country                100464 non-null object\n",
      "crush_ratio            143302 non-null float64\n",
      "gender                 143302 non-null object\n",
      "has_instagram          143302 non-null bool\n",
      "ios_system_version     88708 non-null object\n",
      "last_location          121891 non-null object\n",
      "last_login             143302 non-null object\n",
      "matches                143302 non-null object\n",
      "peep_bubbles__count    143302 non-null int64\n",
      "tagline                143302 non-null object\n",
      "dtypes: bool(1), float64(2), int64(1), object(8)\n",
      "memory usage: 13.3+ MB\n"
     ]
    }
   ],
   "source": [
    "df_users.info()"
   ]
  },
  {
   "cell_type": "code",
   "execution_count": 6,
   "metadata": {
    "collapsed": true
   },
   "outputs": [],
   "source": [
    "df_users['last_login'] = pd.to_datetime(df_users['last_login'])"
   ]
  },
  {
   "cell_type": "code",
   "execution_count": 7,
   "metadata": {
    "collapsed": true
   },
   "outputs": [],
   "source": [
    "df_users['birthday'].replace('1349-12-17', np.nan, inplace=True)\n",
    "df_users['birthday'] = pd.to_datetime(df_users['birthday'])"
   ]
  },
  {
   "cell_type": "code",
   "execution_count": 8,
   "metadata": {
    "collapsed": true
   },
   "outputs": [],
   "source": [
    "# Feature Engineering - age\n",
    "\n",
    "def calculate_age(bday):\n",
    "    today = dt.date.today()\n",
    "    age = today - bday.date()\n",
    "    return age.days/365.\n",
    "\n",
    "df_users['age'] = df_users['birthday'].apply(calculate_age)\n",
    "df_users.dropna(subset=['age'], inplace=True)"
   ]
  },
  {
   "cell_type": "code",
   "execution_count": 9,
   "metadata": {},
   "outputs": [
    {
     "data": {
      "image/png": "[encoded data removed]",
      "text/plain": [
       "<matplotlib.figure.Figure at 0x7f1f58102710>"
      ]
     },
     "metadata": {},
     "output_type": "display_data"
    }
   ],
   "source": [
    "plt.hist(df_users['age'])\n",
    "plt.show()"
   ]
  },
  {
   "cell_type": "code",
   "execution_count": 11,
   "metadata": {},
   "outputs": [
    {
     "data": {
      "image/png": "[encoded data removed]",
      "text/plain": [
       "<matplotlib.figure.Figure at 0x7f1e8f17b050>"
      ]
     },
     "metadata": {},
     "output_type": "display_data"
    }
   ],
   "source": [
    "plt.hist(df_users['age'], range=(0,20))\n",
    "plt.show()"
   ]
  },
  {
   "cell_type": "code",
   "execution_count": 12,
   "metadata": {},
   "outputs": [
    {
     "data": {
      "image/png": "[encoded data removed]",
      "text/plain": [
       "<matplotlib.figure.Figure at 0x7f1e9790d2d0>"
      ]
     },
     "metadata": {},
     "output_type": "display_data"
    }
   ],
   "source": [
    "plt.hist(df_users['age'], range=(45,120))\n",
    "plt.show()"
   ]
  },
  {
   "cell_type": "markdown",
   "metadata": {},
   "source": [
    "The two histograms above show user spikes at age <2 and >90 which is likely erroneous, so we will remove these observations from the dataset."
   ]
  },
  {
   "cell_type": "code",
   "execution_count": 13,
   "metadata": {
    "collapsed": true
   },
   "outputs": [],
   "source": [
    "df_users = df_users[(df_users['age']>1) & (df_users['age']<90)]"
   ]
  },
  {
   "cell_type": "code",
   "execution_count": 14,
   "metadata": {
    "collapsed": true
   },
   "outputs": [],
   "source": [
    "# Convert binary columns to 0's and 1's\n",
    "\n",
    "df_users['gender'] = df_users['gender'].replace({'m':0,'f':1}) #0 means male\n",
    "df_users['has_instagram'] = df_users['has_instagram'].map({True:1, False:0})\n",
    "df_users['iphone_user'] = pd.isnull(df_users['android_api_level']).map({True: 1, False: 0})\n",
    "\n",
    "df_users.drop(['ios_system_version','android_api_level'], axis=1, inplace=True)"
   ]
  },
  {
   "cell_type": "code",
   "execution_count": 15,
   "metadata": {
    "collapsed": true
   },
   "outputs": [],
   "source": [
    "# Feature enginnering - has bio\n",
    "\n",
    "df_users['has_bio'] = df_users['tagline'].apply(lambda x: 0 if x=='' else 1)"
   ]
  },
  {
   "cell_type": "code",
   "execution_count": 16,
   "metadata": {
    "collapsed": true
   },
   "outputs": [],
   "source": [
    "# need to remove all matches with \"Rad the Rhino\", a robot who is matched with all users \n",
    "\n",
    "def remove_rad_match(row):\n",
    "    return row[1:]\n",
    "\n",
    "df_users['matches'] = df_users['matches'].apply(remove_rad_match)"
   ]
  },
  {
   "cell_type": "code",
   "execution_count": 17,
   "metadata": {
    "collapsed": true
   },
   "outputs": [],
   "source": [
    "# Feature engineering - create avg num messages column\n",
    "\n",
    "def avg_num_msgs(row):\n",
    "    sum_msgs = 0\n",
    "    for d in row:\n",
    "        sum_msgs += d['num_privatemessages']\n",
    "        \n",
    "    total_matches = len(row)\n",
    "    if total_matches==0:\n",
    "        return 0\n",
    "    else:\n",
    "        return sum_msgs/total_matches\n",
    "    \n",
    "df_users['avg_num_msgs'] = df_users['matches'].apply(avg_num_msgs)"
   ]
  },
  {
   "cell_type": "code",
   "execution_count": 18,
   "metadata": {
    "collapsed": true
   },
   "outputs": [],
   "source": [
    "# Feature engineering - number of matches per user\n",
    "\n",
    "df_users['num_matches'] = df_users['matches'].apply(lambda x: len(x))\n",
    "df_users['num_matches'].fillna(0, inplace=True)\n",
    "\n",
    "df_users.drop('matches', axis=1, inplace=True)"
   ]
  },
  {
   "cell_type": "markdown",
   "metadata": {},
   "source": [
    "# Logins"
   ]
  },
  {
   "cell_type": "code",
   "execution_count": 19,
   "metadata": {
    "collapsed": true
   },
   "outputs": [],
   "source": [
    "df_logins = pd.read_csv('radiate_logins.csv', usecols=[1,2], parse_dates=['login'])"
   ]
  },
  {
   "cell_type": "code",
   "execution_count": 21,
   "metadata": {},
   "outputs": [
    {
     "data": {
      "text/html": [
       "<div>\n",
       "<style scoped>\n",
       "    .dataframe tbody tr th:only-of-type {\n",
       "        vertical-align: middle;\n",
       "    }\n",
       "\n",
       "    .dataframe tbody tr th {\n",
       "        vertical-align: top;\n",
       "    }\n",
       "\n",
       "    .dataframe thead th {\n",
       "        text-align: right;\n",
       "    }\n",
       "</style>\n",
       "<table border=\"1\" class=\"dataframe\">\n",
       "  <thead>\n",
       "    <tr style=\"text-align: right;\">\n",
       "      <th></th>\n",
       "      <th>pk</th>\n",
       "      <th>login</th>\n",
       "    </tr>\n",
       "  </thead>\n",
       "  <tbody>\n",
       "    <tr>\n",
       "      <th>0</th>\n",
       "      <td>263742</td>\n",
       "      <td>2017-12-25 21:22:11.523082</td>\n",
       "    </tr>\n",
       "    <tr>\n",
       "      <th>1</th>\n",
       "      <td>263742</td>\n",
       "      <td>2017-12-25 21:10:39.479529</td>\n",
       "    </tr>\n",
       "    <tr>\n",
       "      <th>2</th>\n",
       "      <td>263742</td>\n",
       "      <td>2017-12-25 04:02:56.129357</td>\n",
       "    </tr>\n",
       "    <tr>\n",
       "      <th>3</th>\n",
       "      <td>263742</td>\n",
       "      <td>2017-12-25 04:02:23.743966</td>\n",
       "    </tr>\n",
       "    <tr>\n",
       "      <th>4</th>\n",
       "      <td>263742</td>\n",
       "      <td>2017-12-25 03:58:38.612911</td>\n",
       "    </tr>\n",
       "  </tbody>\n",
       "</table>\n",
       "</div>"
      ],
      "text/plain": [
       "       pk                      login\n",
       "0  263742 2017-12-25 21:22:11.523082\n",
       "1  263742 2017-12-25 21:10:39.479529\n",
       "2  263742 2017-12-25 04:02:56.129357\n",
       "3  263742 2017-12-25 04:02:23.743966\n",
       "4  263742 2017-12-25 03:58:38.612911"
      ]
     },
     "execution_count": 21,
     "metadata": {},
     "output_type": "execute_result"
    }
   ],
   "source": [
    "df_logins.head()"
   ]
  },
  {
   "cell_type": "code",
   "execution_count": 22,
   "metadata": {},
   "outputs": [
    {
     "name": "stdout",
     "output_type": "stream",
     "text": [
      "<class 'pandas.core.frame.DataFrame'>\n",
      "RangeIndex: 34549450 entries, 0 to 34549449\n",
      "Data columns (total 2 columns):\n",
      "pk       int64\n",
      "login    datetime64[ns]\n",
      "dtypes: datetime64[ns](1), int64(1)\n",
      "memory usage: 527.2 MB\n"
     ]
    }
   ],
   "source": [
    "df_logins.info()"
   ]
  },
  {
   "cell_type": "code",
   "execution_count": 23,
   "metadata": {
    "collapsed": true
   },
   "outputs": [],
   "source": [
    "df_logins['weekend'] = np.where(df_logins['login'].dt.weekday>=5, 1, 0) #sat and sun\n",
    "df_logins['weekday'] = np.where(df_logins['login'].dt.weekday<5, 1, 0)\n",
    "\n",
    "# 0 is Monday and 6 is Sunday"
   ]
  },
  {
   "cell_type": "code",
   "execution_count": 24,
   "metadata": {
    "collapsed": true
   },
   "outputs": [],
   "source": [
    "def calendar_qtr(row):\n",
    "    doy = row.timetuple().tm_yday\n",
    "    if doy in range(0, 92):\n",
    "        return 'Q1'\n",
    "    elif doy in range(92, 183):\n",
    "        return 'Q2'\n",
    "    elif doy in range(183, 274):\n",
    "        return 'Q3'\n",
    "    else:\n",
    "        return 'Q4'"
   ]
  },
  {
   "cell_type": "code",
   "execution_count": 25,
   "metadata": {
    "collapsed": true
   },
   "outputs": [],
   "source": [
    "df_logins['qtr'] = df_logins['login'].apply(calendar_qtr)"
   ]
  },
  {
   "cell_type": "code",
   "execution_count": 26,
   "metadata": {
    "collapsed": true
   },
   "outputs": [],
   "source": [
    "df_logins['year'] = df_logins['login'].dt.year"
   ]
  },
  {
   "cell_type": "code",
   "execution_count": 27,
   "metadata": {
    "collapsed": true
   },
   "outputs": [],
   "source": [
    "# Only look at 2016 and 2017 since these are the only two full calendar years we have\n",
    "\n",
    "df_logins = df_logins[(df_logins['year']==2016) | (df_logins['year']==2017)]"
   ]
  },
  {
   "cell_type": "code",
   "execution_count": 28,
   "metadata": {
    "collapsed": true
   },
   "outputs": [],
   "source": [
    "df_logins['qtr_yr'] = df_logins['qtr'] + '-' + df_logins['year'].map(str)"
   ]
  },
  {
   "cell_type": "code",
   "execution_count": 29,
   "metadata": {
    "collapsed": true
   },
   "outputs": [],
   "source": [
    "# Create dummies for qtr_yr\n",
    "\n",
    "qtr_yr_dum = pd.get_dummies(df_logins['qtr_yr'], prefix='')\n",
    "df_logins = pd.concat([df_logins, qtr_yr_dum], axis=1)"
   ]
  },
  {
   "cell_type": "code",
   "execution_count": 32,
   "metadata": {
    "collapsed": true
   },
   "outputs": [],
   "source": [
    "# df_logins = pd.read_pickle('df_logins.pkl')"
   ]
  },
  {
   "cell_type": "code",
   "execution_count": 30,
   "metadata": {
    "collapsed": true
   },
   "outputs": [],
   "source": [
    "# 'groupby' the logins dataframe so we can analyze logins per user\n",
    "\n",
    "df_logins_by_user = df_logins.groupby('pk').sum()"
   ]
  },
  {
   "cell_type": "code",
   "execution_count": 31,
   "metadata": {},
   "outputs": [
    {
     "data": {
      "text/html": [
       "<div>\n",
       "<style scoped>\n",
       "    .dataframe tbody tr th:only-of-type {\n",
       "        vertical-align: middle;\n",
       "    }\n",
       "\n",
       "    .dataframe tbody tr th {\n",
       "        vertical-align: top;\n",
       "    }\n",
       "\n",
       "    .dataframe thead th {\n",
       "        text-align: right;\n",
       "    }\n",
       "</style>\n",
       "<table border=\"1\" class=\"dataframe\">\n",
       "  <thead>\n",
       "    <tr style=\"text-align: right;\">\n",
       "      <th></th>\n",
       "      <th>weekend</th>\n",
       "      <th>weekday</th>\n",
       "      <th>year</th>\n",
       "      <th>_Q1-2016</th>\n",
       "      <th>_Q1-2017</th>\n",
       "      <th>_Q2-2016</th>\n",
       "      <th>_Q2-2017</th>\n",
       "      <th>_Q3-2016</th>\n",
       "      <th>_Q3-2017</th>\n",
       "      <th>_Q4-2016</th>\n",
       "      <th>_Q4-2017</th>\n",
       "    </tr>\n",
       "    <tr>\n",
       "      <th>pk</th>\n",
       "      <th></th>\n",
       "      <th></th>\n",
       "      <th></th>\n",
       "      <th></th>\n",
       "      <th></th>\n",
       "      <th></th>\n",
       "      <th></th>\n",
       "      <th></th>\n",
       "      <th></th>\n",
       "      <th></th>\n",
       "      <th></th>\n",
       "    </tr>\n",
       "  </thead>\n",
       "  <tbody>\n",
       "    <tr>\n",
       "      <th>200016</th>\n",
       "      <td>8660</td>\n",
       "      <td>21326</td>\n",
       "      <td>60464982</td>\n",
       "      <td>7603.0</td>\n",
       "      <td>1450.0</td>\n",
       "      <td>4584.0</td>\n",
       "      <td>8386.0</td>\n",
       "      <td>3345.0</td>\n",
       "      <td>1375.0</td>\n",
       "      <td>1248.0</td>\n",
       "      <td>1995.0</td>\n",
       "    </tr>\n",
       "    <tr>\n",
       "      <th>200017</th>\n",
       "      <td>10587</td>\n",
       "      <td>32935</td>\n",
       "      <td>87761354</td>\n",
       "      <td>6151.0</td>\n",
       "      <td>5398.0</td>\n",
       "      <td>7090.0</td>\n",
       "      <td>7312.0</td>\n",
       "      <td>5503.0</td>\n",
       "      <td>3821.0</td>\n",
       "      <td>3776.0</td>\n",
       "      <td>4471.0</td>\n",
       "    </tr>\n",
       "    <tr>\n",
       "      <th>200019</th>\n",
       "      <td>6</td>\n",
       "      <td>12</td>\n",
       "      <td>36288</td>\n",
       "      <td>9.0</td>\n",
       "      <td>0.0</td>\n",
       "      <td>9.0</td>\n",
       "      <td>0.0</td>\n",
       "      <td>0.0</td>\n",
       "      <td>0.0</td>\n",
       "      <td>0.0</td>\n",
       "      <td>0.0</td>\n",
       "    </tr>\n",
       "    <tr>\n",
       "      <th>200020</th>\n",
       "      <td>55</td>\n",
       "      <td>87</td>\n",
       "      <td>286297</td>\n",
       "      <td>65.0</td>\n",
       "      <td>9.0</td>\n",
       "      <td>12.0</td>\n",
       "      <td>1.0</td>\n",
       "      <td>16.0</td>\n",
       "      <td>9.0</td>\n",
       "      <td>24.0</td>\n",
       "      <td>6.0</td>\n",
       "    </tr>\n",
       "    <tr>\n",
       "      <th>200029</th>\n",
       "      <td>28</td>\n",
       "      <td>159</td>\n",
       "      <td>377054</td>\n",
       "      <td>43.0</td>\n",
       "      <td>26.0</td>\n",
       "      <td>46.0</td>\n",
       "      <td>28.0</td>\n",
       "      <td>22.0</td>\n",
       "      <td>7.0</td>\n",
       "      <td>14.0</td>\n",
       "      <td>1.0</td>\n",
       "    </tr>\n",
       "  </tbody>\n",
       "</table>\n",
       "</div>"
      ],
      "text/plain": [
       "        weekend  weekday      year  _Q1-2016  _Q1-2017  _Q2-2016  _Q2-2017  \\\n",
       "pk                                                                           \n",
       "200016     8660    21326  60464982    7603.0    1450.0    4584.0    8386.0   \n",
       "200017    10587    32935  87761354    6151.0    5398.0    7090.0    7312.0   \n",
       "200019        6       12     36288       9.0       0.0       9.0       0.0   \n",
       "200020       55       87    286297      65.0       9.0      12.0       1.0   \n",
       "200029       28      159    377054      43.0      26.0      46.0      28.0   \n",
       "\n",
       "        _Q3-2016  _Q3-2017  _Q4-2016  _Q4-2017  \n",
       "pk                                              \n",
       "200016    3345.0    1375.0    1248.0    1995.0  \n",
       "200017    5503.0    3821.0    3776.0    4471.0  \n",
       "200019       0.0       0.0       0.0       0.0  \n",
       "200020      16.0       9.0      24.0       6.0  \n",
       "200029      22.0       7.0      14.0       1.0  "
      ]
     },
     "execution_count": 31,
     "metadata": {},
     "output_type": "execute_result"
    }
   ],
   "source": [
    "df_logins_by_user.head()"
   ]
  },
  {
   "cell_type": "code",
   "execution_count": 33,
   "metadata": {
    "collapsed": true
   },
   "outputs": [],
   "source": [
    "# Feature engineering - % of logins on weekends and per calendar quarter\n",
    "\n",
    "df_logins_by_user['total'] = df_logins_by_user['weekend']+df_logins_by_user['weekday']\n",
    "\n",
    "df_logins_by_user['pct_logins_wknd'] = df_logins_by_user['weekend']/df_logins_by_user['total']\n",
    "\n",
    "df_logins_by_user['pct_logins_Q1'] = (df_logins_by_user['_Q1-2016']+df_logins_by_user['_Q1-2017'])/df_logins_by_user['total']\n",
    "df_logins_by_user['pct_logins_Q2'] = (df_logins_by_user['_Q2-2016']+df_logins_by_user['_Q2-2017'])/df_logins_by_user['total']\n",
    "df_logins_by_user['pct_logins_Q3'] = (df_logins_by_user['_Q3-2016']+df_logins_by_user['_Q3-2017'])/df_logins_by_user['total']\n",
    "df_logins_by_user['pct_logins_Q4'] = (df_logins_by_user['_Q4-2016']+df_logins_by_user['_Q4-2017'])/df_logins_by_user['total']"
   ]
  },
  {
   "cell_type": "markdown",
   "metadata": {},
   "source": [
    "Note: I have included all quarters for now to make interpretation easier in EDA but I will drop Q1 later on to make it the baseline before running models"
   ]
  },
  {
   "cell_type": "markdown",
   "metadata": {},
   "source": [
    "Because music festivals are seasonal (more popular in late Spring, Summer, and early Fall), we want to analyze the data on a year-over-year basis. First, we define quarterly churn for each user. A value of 1 means that this user logged in in a particular calendar quarter last year, but not this year. \n",
    "\n",
    "The binary churn metric we will use is, if a user churned in any particular calendar quarter, they are considered a churn user."
   ]
  },
  {
   "cell_type": "code",
   "execution_count": 34,
   "metadata": {
    "collapsed": true
   },
   "outputs": [],
   "source": [
    "def quarterly_churn(row16,row17):\n",
    "    if int(row16)>0 and int(row17)==0:\n",
    "        return 1\n",
    "    else:\n",
    "        return 0"
   ]
  },
  {
   "cell_type": "code",
   "execution_count": 35,
   "metadata": {
    "collapsed": true
   },
   "outputs": [],
   "source": [
    "for q in ['_Q1','_Q2','_Q3','_Q4']:\n",
    "    col_16 = q+'-2016'\n",
    "    col_17 = q+'-2017'\n",
    "    churn = q[1:]+'_churn'\n",
    "    df_logins_by_user[churn] = df_logins_by_user.apply(lambda x: quarterly_churn(x[col_16], x[col_17]),axis=1)"
   ]
  },
  {
   "cell_type": "code",
   "execution_count": 37,
   "metadata": {
    "collapsed": true
   },
   "outputs": [],
   "source": [
    "df_logins_by_user = df_logins_by_user[(df_logins_by_user['_Q1-2016']>0) |\n",
    "                                      (df_logins_by_user['_Q2-2016']>0) |\n",
    "                                      (df_logins_by_user['_Q3-2016']>0) |\n",
    "                                      (df_logins_by_user['_Q4-2016']>0) ]"
   ]
  },
  {
   "cell_type": "code",
   "execution_count": 38,
   "metadata": {
    "collapsed": true
   },
   "outputs": [],
   "source": [
    "df_logins_by_user['churn'] = np.where((df_logins_by_user['Q1_churn']>0)|\n",
    "                                      (df_logins_by_user['Q2_churn']>0)|\n",
    "                                      (df_logins_by_user['Q3_churn']>0)|\n",
    "                                      (df_logins_by_user['Q4_churn']>0), 1, 0)"
   ]
  },
  {
   "cell_type": "code",
   "execution_count": 39,
   "metadata": {
    "collapsed": true
   },
   "outputs": [],
   "source": [
    "# MERGE churn and login percents on weekend/calendar quarters with users dataframe\n",
    "\n",
    "df_users = df_users.merge(df_logins_by_user[['pct_logins_wknd','pct_logins_Q1','pct_logins_Q2','pct_logins_Q3','pct_logins_Q4','churn']], left_index=True, right_index=True)"
   ]
  },
  {
   "cell_type": "markdown",
   "metadata": {},
   "source": [
    "# Events"
   ]
  },
  {
   "cell_type": "code",
   "execution_count": 40,
   "metadata": {
    "collapsed": true
   },
   "outputs": [],
   "source": [
    "df_events = pd.read_json('radiate_bubbles.json', convert_dates=['date_start','date_end'])"
   ]
  },
  {
   "cell_type": "code",
   "execution_count": 41,
   "metadata": {
    "collapsed": true
   },
   "outputs": [],
   "source": [
    "df_events = df_events.set_index('bubble_id')"
   ]
  },
  {
   "cell_type": "code",
   "execution_count": 42,
   "metadata": {},
   "outputs": [
    {
     "data": {
      "text/html": [
       "<div>\n",
       "<style scoped>\n",
       "    .dataframe tbody tr th:only-of-type {\n",
       "        vertical-align: middle;\n",
       "    }\n",
       "\n",
       "    .dataframe tbody tr th {\n",
       "        vertical-align: top;\n",
       "    }\n",
       "\n",
       "    .dataframe thead th {\n",
       "        text-align: right;\n",
       "    }\n",
       "</style>\n",
       "<table border=\"1\" class=\"dataframe\">\n",
       "  <thead>\n",
       "    <tr style=\"text-align: right;\">\n",
       "      <th></th>\n",
       "      <th>address</th>\n",
       "      <th>date_end</th>\n",
       "      <th>date_start</th>\n",
       "      <th>display_name</th>\n",
       "    </tr>\n",
       "    <tr>\n",
       "      <th>bubble_id</th>\n",
       "      <th></th>\n",
       "      <th></th>\n",
       "      <th></th>\n",
       "      <th></th>\n",
       "    </tr>\n",
       "  </thead>\n",
       "  <tbody>\n",
       "    <tr>\n",
       "      <th>205</th>\n",
       "      <td>Todd Mission, TX</td>\n",
       "      <td>2017-05-07</td>\n",
       "      <td>2017-05-05</td>\n",
       "      <td>Middlelands</td>\n",
       "    </tr>\n",
       "    <tr>\n",
       "      <th>179</th>\n",
       "      <td>Nos Events Center, CA</td>\n",
       "      <td>2017-11-25</td>\n",
       "      <td>2017-11-24</td>\n",
       "      <td>Dreamstate</td>\n",
       "    </tr>\n",
       "    <tr>\n",
       "      <th>46</th>\n",
       "      <td>San Bernardino, CA</td>\n",
       "      <td>2017-09-16</td>\n",
       "      <td>2017-09-15</td>\n",
       "      <td>Nocturnal Wonderland</td>\n",
       "    </tr>\n",
       "    <tr>\n",
       "      <th>278</th>\n",
       "      <td>Oklahoma City, OK</td>\n",
       "      <td>2017-08-19</td>\n",
       "      <td>2017-08-19</td>\n",
       "      <td>DayDream</td>\n",
       "    </tr>\n",
       "    <tr>\n",
       "      <th>54</th>\n",
       "      <td>Atlantic City, NJ</td>\n",
       "      <td>2016-08-02</td>\n",
       "      <td>2016-08-01</td>\n",
       "      <td>Electric Adventure</td>\n",
       "    </tr>\n",
       "  </tbody>\n",
       "</table>\n",
       "</div>"
      ],
      "text/plain": [
       "                         address   date_end date_start          display_name\n",
       "bubble_id                                                                   \n",
       "205             Todd Mission, TX 2017-05-07 2017-05-05           Middlelands\n",
       "179        Nos Events Center, CA 2017-11-25 2017-11-24            Dreamstate\n",
       "46            San Bernardino, CA 2017-09-16 2017-09-15  Nocturnal Wonderland\n",
       "278            Oklahoma City, OK 2017-08-19 2017-08-19              DayDream\n",
       "54             Atlantic City, NJ 2016-08-02 2016-08-01    Electric Adventure"
      ]
     },
     "execution_count": 42,
     "metadata": {},
     "output_type": "execute_result"
    }
   ],
   "source": [
    "df_events.head()"
   ]
  },
  {
   "cell_type": "code",
   "execution_count": 43,
   "metadata": {},
   "outputs": [
    {
     "name": "stdout",
     "output_type": "stream",
     "text": [
      "<class 'pandas.core.frame.DataFrame'>\n",
      "Int64Index: 217 entries, 205 to 224\n",
      "Data columns (total 4 columns):\n",
      "address         217 non-null object\n",
      "date_end        217 non-null datetime64[ns]\n",
      "date_start      217 non-null datetime64[ns]\n",
      "display_name    217 non-null object\n",
      "dtypes: datetime64[ns](2), object(2)\n",
      "memory usage: 8.5+ KB\n"
     ]
    }
   ],
   "source": [
    "df_events.info()"
   ]
  },
  {
   "cell_type": "code",
   "execution_count": 44,
   "metadata": {
    "collapsed": true
   },
   "outputs": [],
   "source": [
    "def get_loc(row):\n",
    "    ix = row.find(',')\n",
    "    return row[ix+2:].upper()\n",
    "\n",
    "df_events['festival_loc'] = df_events['address'].apply(get_loc)"
   ]
  },
  {
   "cell_type": "code",
   "execution_count": 45,
   "metadata": {
    "collapsed": true
   },
   "outputs": [],
   "source": [
    "df_events.replace({\n",
    "    'CALIFORNIA':'CA',\n",
    "    'OREGON':'OR',\n",
    "    'MICHIGAN':'MI',\n",
    "    'WEST VIRGINIA':'WV',\n",
    "    'OHIO':'OH',\n",
    "    'ARIZONA':'AZ',\n",
    "    'VIRGINIA':'VA',\n",
    "    'TEXAS':'TX',\n",
    "    'FLORIDA':'FL',\n",
    "    'CHICAGO, MICHIGAN':'IL', #this is fine because IL and MI are both in East North Central census division\n",
    "    'DELAWARE':'DE',\n",
    "    'NITED KINGDOM':'UNITED KINGDOM',\n",
    "    'UK':'UNITED KINGDOM',\n",
    "    '.C. / BALTIMORE':'MD',\n",
    "    'ITI FIELD':'NY',\n",
    "    'ON':'CANADA'\n",
    "}, inplace=True)"
   ]
  },
  {
   "cell_type": "code",
   "execution_count": 46,
   "metadata": {},
   "outputs": [
    {
     "data": {
      "text/plain": [
       "CA        38\n",
       "FL        18\n",
       "TX        17\n",
       "NY        16\n",
       "CANADA    12\n",
       "Name: festival_loc, dtype: int64"
      ]
     },
     "execution_count": 46,
     "metadata": {},
     "output_type": "execute_result"
    }
   ],
   "source": [
    "df_events['festival_loc'].value_counts().head()"
   ]
  },
  {
   "cell_type": "markdown",
   "metadata": {},
   "source": [
    "Festival locations are spread across many states and countries so I will group them into census regions and a total Europe to allow for general trend analysis."
   ]
  },
  {
   "cell_type": "code",
   "execution_count": 47,
   "metadata": {
    "collapsed": true
   },
   "outputs": [],
   "source": [
    "census = pd.read_csv('census_divisions.csv')"
   ]
  },
  {
   "cell_type": "code",
   "execution_count": 48,
   "metadata": {},
   "outputs": [
    {
     "data": {
      "text/html": [
       "<div>\n",
       "<style scoped>\n",
       "    .dataframe tbody tr th:only-of-type {\n",
       "        vertical-align: middle;\n",
       "    }\n",
       "\n",
       "    .dataframe tbody tr th {\n",
       "        vertical-align: top;\n",
       "    }\n",
       "\n",
       "    .dataframe thead th {\n",
       "        text-align: right;\n",
       "    }\n",
       "</style>\n",
       "<table border=\"1\" class=\"dataframe\">\n",
       "  <thead>\n",
       "    <tr style=\"text-align: right;\">\n",
       "      <th></th>\n",
       "      <th>State</th>\n",
       "      <th>State Code</th>\n",
       "      <th>Region</th>\n",
       "      <th>Division</th>\n",
       "    </tr>\n",
       "  </thead>\n",
       "  <tbody>\n",
       "    <tr>\n",
       "      <th>0</th>\n",
       "      <td>Alaska</td>\n",
       "      <td>AK</td>\n",
       "      <td>West</td>\n",
       "      <td>Pacific</td>\n",
       "    </tr>\n",
       "    <tr>\n",
       "      <th>1</th>\n",
       "      <td>Alabama</td>\n",
       "      <td>AL</td>\n",
       "      <td>South</td>\n",
       "      <td>East South Central</td>\n",
       "    </tr>\n",
       "    <tr>\n",
       "      <th>2</th>\n",
       "      <td>Arkansas</td>\n",
       "      <td>AR</td>\n",
       "      <td>South</td>\n",
       "      <td>West South Central</td>\n",
       "    </tr>\n",
       "    <tr>\n",
       "      <th>3</th>\n",
       "      <td>Arizona</td>\n",
       "      <td>AZ</td>\n",
       "      <td>West</td>\n",
       "      <td>Mountain</td>\n",
       "    </tr>\n",
       "    <tr>\n",
       "      <th>4</th>\n",
       "      <td>California</td>\n",
       "      <td>CA</td>\n",
       "      <td>West</td>\n",
       "      <td>Pacific</td>\n",
       "    </tr>\n",
       "  </tbody>\n",
       "</table>\n",
       "</div>"
      ],
      "text/plain": [
       "        State State Code Region            Division\n",
       "0      Alaska         AK   West             Pacific\n",
       "1     Alabama         AL  South  East South Central\n",
       "2    Arkansas         AR  South  West South Central\n",
       "3     Arizona         AZ   West            Mountain\n",
       "4  California         CA   West             Pacific"
      ]
     },
     "execution_count": 48,
     "metadata": {},
     "output_type": "execute_result"
    }
   ],
   "source": [
    "census.head()"
   ]
  },
  {
   "cell_type": "code",
   "execution_count": 49,
   "metadata": {
    "collapsed": true
   },
   "outputs": [],
   "source": [
    "# MERGE census dataframe with event dataframe\n",
    "\n",
    "df_events = df_events.merge(census, how ='left', left_on='festival_loc', right_on='State Code')\n",
    "df_events.drop(['State', 'State Code', 'Region'], axis=1, inplace=True)"
   ]
  },
  {
   "cell_type": "code",
   "execution_count": 50,
   "metadata": {
    "collapsed": true
   },
   "outputs": [],
   "source": [
    "df_events.rename(columns={'Division':'Region'}, inplace=True)"
   ]
  },
  {
   "cell_type": "code",
   "execution_count": 51,
   "metadata": {},
   "outputs": [
    {
     "data": {
      "text/plain": [
       "CANADA            12\n",
       "UNITED KINGDOM     4\n",
       "FRANCE             4\n",
       "BELGIUM            2\n",
       "GERMANY            2\n",
       "MEXICO             2\n",
       "NETHERLANDS        2\n",
       "HUNGARY            1\n",
       "CROATIA            1\n",
       "IRELAND            1\n",
       "INDIA              1\n",
       "ICELAND            1\n",
       "WHENEVER           1\n",
       "ROMANIA            1\n",
       "Name: festival_loc, dtype: int64"
      ]
     },
     "execution_count": 51,
     "metadata": {},
     "output_type": "execute_result"
    }
   ],
   "source": [
    "# Inspect Non-US festivals\n",
    "\n",
    "df_events[df_events['Region'].isnull()]['festival_loc'].value_counts()"
   ]
  },
  {
   "cell_type": "markdown",
   "metadata": {},
   "source": [
    "All non-US events are either in Canada, Mexico, Europe, India, or \"Wherever\" (Pokemon Go)"
   ]
  },
  {
   "cell_type": "code",
   "execution_count": 52,
   "metadata": {
    "collapsed": true
   },
   "outputs": [],
   "source": [
    "df_events.loc[df_events['festival_loc']=='CANADA', 'Region'] = 'Canada'\n",
    "df_events.loc[df_events['festival_loc']=='MEXICO', 'Region'] = 'Mexico'\n",
    "df_events.loc[(df_events['festival_loc']=='INDIA')|(df_events['festival_loc']=='WHEREVER'), 'Region'] = 'Misc'\n",
    "df_events['Region'].fillna('Europe', inplace=True)"
   ]
  },
  {
   "cell_type": "code",
   "execution_count": 53,
   "metadata": {
    "collapsed": true
   },
   "outputs": [],
   "source": [
    "region_dum = pd.get_dummies(df_events['Region'], prefix='festival_region')\n",
    "df_events = pd.concat([df_events, region_dum], axis=1)"
   ]
  },
  {
   "cell_type": "code",
   "execution_count": 55,
   "metadata": {
    "collapsed": true
   },
   "outputs": [],
   "source": [
    "# Feature Engineering - avg festival length feature\n",
    "\n",
    "df_events['festival_length'] = (df_events['date_end'] - df_events['date_start']).dt.days"
   ]
  },
  {
   "cell_type": "markdown",
   "metadata": {},
   "source": [
    "# Events per User\n",
    "\n",
    "Each row in this dataframe is for a specific bubble/user combination, so we have bubble and user-specific info"
   ]
  },
  {
   "cell_type": "code",
   "execution_count": 56,
   "metadata": {
    "collapsed": true
   },
   "outputs": [],
   "source": [
    "df_user_events = pd.read_csv('radiate_peep_bubbles.csv', usecols=[1,3,4])"
   ]
  },
  {
   "cell_type": "code",
   "execution_count": 57,
   "metadata": {},
   "outputs": [
    {
     "data": {
      "text/html": [
       "<div>\n",
       "<style scoped>\n",
       "    .dataframe tbody tr th:only-of-type {\n",
       "        vertical-align: middle;\n",
       "    }\n",
       "\n",
       "    .dataframe tbody tr th {\n",
       "        vertical-align: top;\n",
       "    }\n",
       "\n",
       "    .dataframe thead th {\n",
       "        text-align: right;\n",
       "    }\n",
       "</style>\n",
       "<table border=\"1\" class=\"dataframe\">\n",
       "  <thead>\n",
       "    <tr style=\"text-align: right;\">\n",
       "      <th></th>\n",
       "      <th>bubble_id</th>\n",
       "      <th>joined_status</th>\n",
       "      <th>pk</th>\n",
       "    </tr>\n",
       "  </thead>\n",
       "  <tbody>\n",
       "    <tr>\n",
       "      <th>0</th>\n",
       "      <td>23</td>\n",
       "      <td>NO</td>\n",
       "      <td>263742</td>\n",
       "    </tr>\n",
       "    <tr>\n",
       "      <th>1</th>\n",
       "      <td>293</td>\n",
       "      <td>NO</td>\n",
       "      <td>263742</td>\n",
       "    </tr>\n",
       "    <tr>\n",
       "      <th>2</th>\n",
       "      <td>206</td>\n",
       "      <td>NO</td>\n",
       "      <td>263742</td>\n",
       "    </tr>\n",
       "    <tr>\n",
       "      <th>3</th>\n",
       "      <td>192</td>\n",
       "      <td>YES</td>\n",
       "      <td>263742</td>\n",
       "    </tr>\n",
       "    <tr>\n",
       "      <th>4</th>\n",
       "      <td>211</td>\n",
       "      <td>NO</td>\n",
       "      <td>263742</td>\n",
       "    </tr>\n",
       "  </tbody>\n",
       "</table>\n",
       "</div>"
      ],
      "text/plain": [
       "   bubble_id joined_status      pk\n",
       "0         23            NO  263742\n",
       "1        293            NO  263742\n",
       "2        206            NO  263742\n",
       "3        192           YES  263742\n",
       "4        211            NO  263742"
      ]
     },
     "execution_count": 57,
     "metadata": {},
     "output_type": "execute_result"
    }
   ],
   "source": [
    "df_user_events.head()"
   ]
  },
  {
   "cell_type": "code",
   "execution_count": 58,
   "metadata": {},
   "outputs": [
    {
     "name": "stdout",
     "output_type": "stream",
     "text": [
      "<class 'pandas.core.frame.DataFrame'>\n",
      "RangeIndex: 492185 entries, 0 to 492184\n",
      "Data columns (total 3 columns):\n",
      "bubble_id        492185 non-null int64\n",
      "joined_status    492185 non-null object\n",
      "pk               492185 non-null int64\n",
      "dtypes: int64(2), object(1)\n",
      "memory usage: 11.3+ MB\n"
     ]
    }
   ],
   "source": [
    "df_user_events.info()"
   ]
  },
  {
   "cell_type": "code",
   "execution_count": 59,
   "metadata": {
    "collapsed": true
   },
   "outputs": [],
   "source": [
    "regions = list(region_dum.columns)"
   ]
  },
  {
   "cell_type": "code",
   "execution_count": 60,
   "metadata": {
    "collapsed": true
   },
   "outputs": [],
   "source": [
    "# MERGE festival regions and lengths from df_events with df_user_events\n",
    "\n",
    "reg_and_len = regions+['festival_length']\n",
    "df_user_events = df_user_events.merge(df_events[reg_and_len], left_on='bubble_id', right_index=True)"
   ]
  },
  {
   "cell_type": "code",
   "execution_count": 61,
   "metadata": {
    "collapsed": true
   },
   "outputs": [],
   "source": [
    "df_user_events_groupby = df_user_events.groupby('pk').sum()"
   ]
  },
  {
   "cell_type": "code",
   "execution_count": 62,
   "metadata": {},
   "outputs": [
    {
     "data": {
      "text/html": [
       "<div>\n",
       "<style scoped>\n",
       "    .dataframe tbody tr th:only-of-type {\n",
       "        vertical-align: middle;\n",
       "    }\n",
       "\n",
       "    .dataframe tbody tr th {\n",
       "        vertical-align: top;\n",
       "    }\n",
       "\n",
       "    .dataframe thead th {\n",
       "        text-align: right;\n",
       "    }\n",
       "</style>\n",
       "<table border=\"1\" class=\"dataframe\">\n",
       "  <thead>\n",
       "    <tr style=\"text-align: right;\">\n",
       "      <th></th>\n",
       "      <th>bubble_id</th>\n",
       "      <th>festival_region_Canada</th>\n",
       "      <th>festival_region_East North Central</th>\n",
       "      <th>festival_region_East South Central</th>\n",
       "      <th>festival_region_Europe</th>\n",
       "      <th>festival_region_Mexico</th>\n",
       "      <th>festival_region_Middle Atlantic</th>\n",
       "      <th>festival_region_Misc</th>\n",
       "      <th>festival_region_Mountain</th>\n",
       "      <th>festival_region_New England</th>\n",
       "      <th>festival_region_Pacific</th>\n",
       "      <th>festival_region_South Atlantic</th>\n",
       "      <th>festival_region_West North Central</th>\n",
       "      <th>festival_region_West South Central</th>\n",
       "      <th>festival_length</th>\n",
       "    </tr>\n",
       "    <tr>\n",
       "      <th>pk</th>\n",
       "      <th></th>\n",
       "      <th></th>\n",
       "      <th></th>\n",
       "      <th></th>\n",
       "      <th></th>\n",
       "      <th></th>\n",
       "      <th></th>\n",
       "      <th></th>\n",
       "      <th></th>\n",
       "      <th></th>\n",
       "      <th></th>\n",
       "      <th></th>\n",
       "      <th></th>\n",
       "      <th></th>\n",
       "      <th></th>\n",
       "    </tr>\n",
       "  </thead>\n",
       "  <tbody>\n",
       "    <tr>\n",
       "      <th>200016</th>\n",
       "      <td>9892</td>\n",
       "      <td>4</td>\n",
       "      <td>7</td>\n",
       "      <td>2</td>\n",
       "      <td>11</td>\n",
       "      <td>0</td>\n",
       "      <td>10</td>\n",
       "      <td>1</td>\n",
       "      <td>11</td>\n",
       "      <td>1</td>\n",
       "      <td>32</td>\n",
       "      <td>21</td>\n",
       "      <td>1</td>\n",
       "      <td>6</td>\n",
       "      <td>195</td>\n",
       "    </tr>\n",
       "    <tr>\n",
       "      <th>200017</th>\n",
       "      <td>20884</td>\n",
       "      <td>7</td>\n",
       "      <td>15</td>\n",
       "      <td>2</td>\n",
       "      <td>18</td>\n",
       "      <td>2</td>\n",
       "      <td>21</td>\n",
       "      <td>1</td>\n",
       "      <td>20</td>\n",
       "      <td>4</td>\n",
       "      <td>38</td>\n",
       "      <td>31</td>\n",
       "      <td>3</td>\n",
       "      <td>15</td>\n",
       "      <td>324</td>\n",
       "    </tr>\n",
       "    <tr>\n",
       "      <th>200019</th>\n",
       "      <td>1293</td>\n",
       "      <td>0</td>\n",
       "      <td>3</td>\n",
       "      <td>1</td>\n",
       "      <td>1</td>\n",
       "      <td>0</td>\n",
       "      <td>3</td>\n",
       "      <td>0</td>\n",
       "      <td>2</td>\n",
       "      <td>0</td>\n",
       "      <td>5</td>\n",
       "      <td>3</td>\n",
       "      <td>0</td>\n",
       "      <td>1</td>\n",
       "      <td>37</td>\n",
       "    </tr>\n",
       "    <tr>\n",
       "      <th>200020</th>\n",
       "      <td>3079</td>\n",
       "      <td>2</td>\n",
       "      <td>3</td>\n",
       "      <td>2</td>\n",
       "      <td>7</td>\n",
       "      <td>1</td>\n",
       "      <td>4</td>\n",
       "      <td>1</td>\n",
       "      <td>4</td>\n",
       "      <td>1</td>\n",
       "      <td>14</td>\n",
       "      <td>9</td>\n",
       "      <td>0</td>\n",
       "      <td>2</td>\n",
       "      <td>97</td>\n",
       "    </tr>\n",
       "    <tr>\n",
       "      <th>200029</th>\n",
       "      <td>1295</td>\n",
       "      <td>1</td>\n",
       "      <td>2</td>\n",
       "      <td>0</td>\n",
       "      <td>1</td>\n",
       "      <td>0</td>\n",
       "      <td>1</td>\n",
       "      <td>1</td>\n",
       "      <td>3</td>\n",
       "      <td>0</td>\n",
       "      <td>6</td>\n",
       "      <td>6</td>\n",
       "      <td>0</td>\n",
       "      <td>2</td>\n",
       "      <td>43</td>\n",
       "    </tr>\n",
       "  </tbody>\n",
       "</table>\n",
       "</div>"
      ],
      "text/plain": [
       "        bubble_id  festival_region_Canada  festival_region_East North Central  \\\n",
       "pk                                                                              \n",
       "200016       9892                       4                                   7   \n",
       "200017      20884                       7                                  15   \n",
       "200019       1293                       0                                   3   \n",
       "200020       3079                       2                                   3   \n",
       "200029       1295                       1                                   2   \n",
       "\n",
       "        festival_region_East South Central  festival_region_Europe  \\\n",
       "pk                                                                   \n",
       "200016                                   2                      11   \n",
       "200017                                   2                      18   \n",
       "200019                                   1                       1   \n",
       "200020                                   2                       7   \n",
       "200029                                   0                       1   \n",
       "\n",
       "        festival_region_Mexico  festival_region_Middle Atlantic  \\\n",
       "pk                                                                \n",
       "200016                       0                               10   \n",
       "200017                       2                               21   \n",
       "200019                       0                                3   \n",
       "200020                       1                                4   \n",
       "200029                       0                                1   \n",
       "\n",
       "        festival_region_Misc  festival_region_Mountain  \\\n",
       "pk                                                       \n",
       "200016                     1                        11   \n",
       "200017                     1                        20   \n",
       "200019                     0                         2   \n",
       "200020                     1                         4   \n",
       "200029                     1                         3   \n",
       "\n",
       "        festival_region_New England  festival_region_Pacific  \\\n",
       "pk                                                             \n",
       "200016                            1                       32   \n",
       "200017                            4                       38   \n",
       "200019                            0                        5   \n",
       "200020                            1                       14   \n",
       "200029                            0                        6   \n",
       "\n",
       "        festival_region_South Atlantic  festival_region_West North Central  \\\n",
       "pk                                                                           \n",
       "200016                              21                                   1   \n",
       "200017                              31                                   3   \n",
       "200019                               3                                   0   \n",
       "200020                               9                                   0   \n",
       "200029                               6                                   0   \n",
       "\n",
       "        festival_region_West South Central  festival_length  \n",
       "pk                                                           \n",
       "200016                                   6              195  \n",
       "200017                                  15              324  \n",
       "200019                                   1               37  \n",
       "200020                                   2               97  \n",
       "200029                                   2               43  "
      ]
     },
     "execution_count": 62,
     "metadata": {},
     "output_type": "execute_result"
    }
   ],
   "source": [
    "df_user_events_groupby.head()"
   ]
  },
  {
   "cell_type": "code",
   "execution_count": 63,
   "metadata": {
    "collapsed": true
   },
   "outputs": [],
   "source": [
    "df_user_events_groupby['total'] = df_user_events_groupby[regions].sum(axis=1)"
   ]
  },
  {
   "cell_type": "code",
   "execution_count": 64,
   "metadata": {
    "collapsed": true
   },
   "outputs": [],
   "source": [
    "# Feature Engineering - % of user's total events per region\n",
    "\n",
    "region_pct_cols = []\n",
    "\n",
    "for region in regions:\n",
    "    col_name = \"pct_\"+region\n",
    "    region_pct_cols.append(col_name)\n",
    "    df_user_events_groupby[col_name] = 1.*df_user_events_groupby[region]/df_user_events_groupby['total']"
   ]
  },
  {
   "cell_type": "code",
   "execution_count": 65,
   "metadata": {
    "collapsed": true
   },
   "outputs": [],
   "source": [
    "# Feature Engineering - number of Radiate users attending festivals\n",
    "\n",
    "joined = df_user_events[(df_user_events['joined_status']=='YES')|(df_user_events['joined_status']=='MAYBE')]\n",
    "num_users_bubble = (joined.groupby(['bubble_id'])['pk'].count()\n",
    "                    .to_frame()\n",
    "                    .rename(columns={'pk':'num_users_attending'}))"
   ]
  },
  {
   "cell_type": "code",
   "execution_count": 66,
   "metadata": {},
   "outputs": [
    {
     "data": {
      "text/html": [
       "<div>\n",
       "<style scoped>\n",
       "    .dataframe tbody tr th:only-of-type {\n",
       "        vertical-align: middle;\n",
       "    }\n",
       "\n",
       "    .dataframe tbody tr th {\n",
       "        vertical-align: top;\n",
       "    }\n",
       "\n",
       "    .dataframe thead th {\n",
       "        text-align: right;\n",
       "    }\n",
       "</style>\n",
       "<table border=\"1\" class=\"dataframe\">\n",
       "  <thead>\n",
       "    <tr style=\"text-align: right;\">\n",
       "      <th></th>\n",
       "      <th>num_users_attending</th>\n",
       "    </tr>\n",
       "    <tr>\n",
       "      <th>bubble_id</th>\n",
       "      <th></th>\n",
       "    </tr>\n",
       "  </thead>\n",
       "  <tbody>\n",
       "    <tr>\n",
       "      <th>9</th>\n",
       "      <td>2256</td>\n",
       "    </tr>\n",
       "    <tr>\n",
       "      <th>10</th>\n",
       "      <td>1496</td>\n",
       "    </tr>\n",
       "    <tr>\n",
       "      <th>11</th>\n",
       "      <td>1930</td>\n",
       "    </tr>\n",
       "    <tr>\n",
       "      <th>12</th>\n",
       "      <td>836</td>\n",
       "    </tr>\n",
       "    <tr>\n",
       "      <th>18</th>\n",
       "      <td>16114</td>\n",
       "    </tr>\n",
       "  </tbody>\n",
       "</table>\n",
       "</div>"
      ],
      "text/plain": [
       "           num_users_attending\n",
       "bubble_id                     \n",
       "9                         2256\n",
       "10                        1496\n",
       "11                        1930\n",
       "12                         836\n",
       "18                       16114"
      ]
     },
     "execution_count": 66,
     "metadata": {},
     "output_type": "execute_result"
    }
   ],
   "source": [
    "num_users_bubble.head()"
   ]
  },
  {
   "cell_type": "code",
   "execution_count": 67,
   "metadata": {
    "collapsed": true
   },
   "outputs": [],
   "source": [
    "# MERGE num users attending with df_user_events\n",
    "\n",
    "df_user_events = df_user_events.merge(num_users_bubble, left_on='bubble_id', right_index=True)"
   ]
  },
  {
   "cell_type": "code",
   "execution_count": 68,
   "metadata": {
    "collapsed": true
   },
   "outputs": [],
   "source": [
    "# Convert num users to mean num users at event, per user\n",
    "\n",
    "avg_num_users = (df_user_events.groupby('pk')['num_users_attending'].mean()\n",
    "                 .to_frame()\n",
    "                 .rename(columns={'num_users_attending':'avg_num_users_attending'}))"
   ]
  },
  {
   "cell_type": "code",
   "execution_count": 69,
   "metadata": {},
   "outputs": [
    {
     "data": {
      "text/html": [
       "<div>\n",
       "<style scoped>\n",
       "    .dataframe tbody tr th:only-of-type {\n",
       "        vertical-align: middle;\n",
       "    }\n",
       "\n",
       "    .dataframe tbody tr th {\n",
       "        vertical-align: top;\n",
       "    }\n",
       "\n",
       "    .dataframe thead th {\n",
       "        text-align: right;\n",
       "    }\n",
       "</style>\n",
       "<table border=\"1\" class=\"dataframe\">\n",
       "  <thead>\n",
       "    <tr style=\"text-align: right;\">\n",
       "      <th></th>\n",
       "      <th>avg_num_users_attending</th>\n",
       "    </tr>\n",
       "    <tr>\n",
       "      <th>pk</th>\n",
       "      <th></th>\n",
       "    </tr>\n",
       "  </thead>\n",
       "  <tbody>\n",
       "    <tr>\n",
       "      <th>200016</th>\n",
       "      <td>2812.669811</td>\n",
       "    </tr>\n",
       "    <tr>\n",
       "      <th>200017</th>\n",
       "      <td>2061.657143</td>\n",
       "    </tr>\n",
       "    <tr>\n",
       "      <th>200019</th>\n",
       "      <td>3909.526316</td>\n",
       "    </tr>\n",
       "    <tr>\n",
       "      <th>200020</th>\n",
       "      <td>3528.460000</td>\n",
       "    </tr>\n",
       "    <tr>\n",
       "      <th>200029</th>\n",
       "      <td>4182.391304</td>\n",
       "    </tr>\n",
       "  </tbody>\n",
       "</table>\n",
       "</div>"
      ],
      "text/plain": [
       "        avg_num_users_attending\n",
       "pk                             \n",
       "200016              2812.669811\n",
       "200017              2061.657143\n",
       "200019              3909.526316\n",
       "200020              3528.460000\n",
       "200029              4182.391304"
      ]
     },
     "execution_count": 69,
     "metadata": {},
     "output_type": "execute_result"
    }
   ],
   "source": [
    "avg_num_users.head()"
   ]
  },
  {
   "cell_type": "code",
   "execution_count": 70,
   "metadata": {
    "collapsed": true
   },
   "outputs": [],
   "source": [
    "# MERGE avg num users with df_user_events_groupby\n",
    "\n",
    "df_user_events_groupby = df_user_events_groupby.merge(avg_num_users, left_index=True, right_index=True)"
   ]
  },
  {
   "cell_type": "code",
   "execution_count": 71,
   "metadata": {
    "collapsed": true
   },
   "outputs": [],
   "source": [
    "# Create dummy variables for join statuses\n",
    "\n",
    "join_dums = pd.get_dummies(df_user_events['joined_status'], prefix='joined')\n",
    "df_user_events = pd.concat([df_user_events, join_dums], axis=1).drop('joined_status', axis=1)"
   ]
  },
  {
   "cell_type": "code",
   "execution_count": 72,
   "metadata": {},
   "outputs": [
    {
     "data": {
      "text/html": [
       "<div>\n",
       "<style scoped>\n",
       "    .dataframe tbody tr th:only-of-type {\n",
       "        vertical-align: middle;\n",
       "    }\n",
       "\n",
       "    .dataframe tbody tr th {\n",
       "        vertical-align: top;\n",
       "    }\n",
       "\n",
       "    .dataframe thead th {\n",
       "        text-align: right;\n",
       "    }\n",
       "</style>\n",
       "<table border=\"1\" class=\"dataframe\">\n",
       "  <thead>\n",
       "    <tr style=\"text-align: right;\">\n",
       "      <th></th>\n",
       "      <th>bubble_id</th>\n",
       "      <th>pk</th>\n",
       "      <th>festival_region_Canada</th>\n",
       "      <th>festival_region_East North Central</th>\n",
       "      <th>festival_region_East South Central</th>\n",
       "      <th>festival_region_Europe</th>\n",
       "      <th>festival_region_Mexico</th>\n",
       "      <th>festival_region_Middle Atlantic</th>\n",
       "      <th>festival_region_Misc</th>\n",
       "      <th>festival_region_Mountain</th>\n",
       "      <th>festival_region_New England</th>\n",
       "      <th>festival_region_Pacific</th>\n",
       "      <th>festival_region_South Atlantic</th>\n",
       "      <th>festival_region_West North Central</th>\n",
       "      <th>festival_region_West South Central</th>\n",
       "      <th>festival_length</th>\n",
       "      <th>num_users_attending</th>\n",
       "      <th>joined_MAYBE</th>\n",
       "      <th>joined_NO</th>\n",
       "      <th>joined_YES</th>\n",
       "    </tr>\n",
       "  </thead>\n",
       "  <tbody>\n",
       "    <tr>\n",
       "      <th>0</th>\n",
       "      <td>23</td>\n",
       "      <td>263742</td>\n",
       "      <td>0</td>\n",
       "      <td>0</td>\n",
       "      <td>0</td>\n",
       "      <td>0</td>\n",
       "      <td>0</td>\n",
       "      <td>0</td>\n",
       "      <td>0</td>\n",
       "      <td>0</td>\n",
       "      <td>0</td>\n",
       "      <td>1</td>\n",
       "      <td>0</td>\n",
       "      <td>0</td>\n",
       "      <td>0</td>\n",
       "      <td>0</td>\n",
       "      <td>22691</td>\n",
       "      <td>0</td>\n",
       "      <td>1</td>\n",
       "      <td>0</td>\n",
       "    </tr>\n",
       "    <tr>\n",
       "      <th>69</th>\n",
       "      <td>23</td>\n",
       "      <td>292558</td>\n",
       "      <td>0</td>\n",
       "      <td>0</td>\n",
       "      <td>0</td>\n",
       "      <td>0</td>\n",
       "      <td>0</td>\n",
       "      <td>0</td>\n",
       "      <td>0</td>\n",
       "      <td>0</td>\n",
       "      <td>0</td>\n",
       "      <td>1</td>\n",
       "      <td>0</td>\n",
       "      <td>0</td>\n",
       "      <td>0</td>\n",
       "      <td>0</td>\n",
       "      <td>22691</td>\n",
       "      <td>0</td>\n",
       "      <td>0</td>\n",
       "      <td>1</td>\n",
       "    </tr>\n",
       "    <tr>\n",
       "      <th>83</th>\n",
       "      <td>23</td>\n",
       "      <td>328806</td>\n",
       "      <td>0</td>\n",
       "      <td>0</td>\n",
       "      <td>0</td>\n",
       "      <td>0</td>\n",
       "      <td>0</td>\n",
       "      <td>0</td>\n",
       "      <td>0</td>\n",
       "      <td>0</td>\n",
       "      <td>0</td>\n",
       "      <td>1</td>\n",
       "      <td>0</td>\n",
       "      <td>0</td>\n",
       "      <td>0</td>\n",
       "      <td>0</td>\n",
       "      <td>22691</td>\n",
       "      <td>0</td>\n",
       "      <td>0</td>\n",
       "      <td>1</td>\n",
       "    </tr>\n",
       "    <tr>\n",
       "      <th>103</th>\n",
       "      <td>23</td>\n",
       "      <td>283681</td>\n",
       "      <td>0</td>\n",
       "      <td>0</td>\n",
       "      <td>0</td>\n",
       "      <td>0</td>\n",
       "      <td>0</td>\n",
       "      <td>0</td>\n",
       "      <td>0</td>\n",
       "      <td>0</td>\n",
       "      <td>0</td>\n",
       "      <td>1</td>\n",
       "      <td>0</td>\n",
       "      <td>0</td>\n",
       "      <td>0</td>\n",
       "      <td>0</td>\n",
       "      <td>22691</td>\n",
       "      <td>0</td>\n",
       "      <td>0</td>\n",
       "      <td>1</td>\n",
       "    </tr>\n",
       "    <tr>\n",
       "      <th>108</th>\n",
       "      <td>23</td>\n",
       "      <td>339394</td>\n",
       "      <td>0</td>\n",
       "      <td>0</td>\n",
       "      <td>0</td>\n",
       "      <td>0</td>\n",
       "      <td>0</td>\n",
       "      <td>0</td>\n",
       "      <td>0</td>\n",
       "      <td>0</td>\n",
       "      <td>0</td>\n",
       "      <td>1</td>\n",
       "      <td>0</td>\n",
       "      <td>0</td>\n",
       "      <td>0</td>\n",
       "      <td>0</td>\n",
       "      <td>22691</td>\n",
       "      <td>0</td>\n",
       "      <td>0</td>\n",
       "      <td>1</td>\n",
       "    </tr>\n",
       "  </tbody>\n",
       "</table>\n",
       "</div>"
      ],
      "text/plain": [
       "     bubble_id      pk  festival_region_Canada  \\\n",
       "0           23  263742                       0   \n",
       "69          23  292558                       0   \n",
       "83          23  328806                       0   \n",
       "103         23  283681                       0   \n",
       "108         23  339394                       0   \n",
       "\n",
       "     festival_region_East North Central  festival_region_East South Central  \\\n",
       "0                                     0                                   0   \n",
       "69                                    0                                   0   \n",
       "83                                    0                                   0   \n",
       "103                                   0                                   0   \n",
       "108                                   0                                   0   \n",
       "\n",
       "     festival_region_Europe  festival_region_Mexico  \\\n",
       "0                         0                       0   \n",
       "69                        0                       0   \n",
       "83                        0                       0   \n",
       "103                       0                       0   \n",
       "108                       0                       0   \n",
       "\n",
       "     festival_region_Middle Atlantic  festival_region_Misc  \\\n",
       "0                                  0                     0   \n",
       "69                                 0                     0   \n",
       "83                                 0                     0   \n",
       "103                                0                     0   \n",
       "108                                0                     0   \n",
       "\n",
       "     festival_region_Mountain  festival_region_New England  \\\n",
       "0                           0                            0   \n",
       "69                          0                            0   \n",
       "83                          0                            0   \n",
       "103                         0                            0   \n",
       "108                         0                            0   \n",
       "\n",
       "     festival_region_Pacific  festival_region_South Atlantic  \\\n",
       "0                          1                               0   \n",
       "69                         1                               0   \n",
       "83                         1                               0   \n",
       "103                        1                               0   \n",
       "108                        1                               0   \n",
       "\n",
       "     festival_region_West North Central  festival_region_West South Central  \\\n",
       "0                                     0                                   0   \n",
       "69                                    0                                   0   \n",
       "83                                    0                                   0   \n",
       "103                                   0                                   0   \n",
       "108                                   0                                   0   \n",
       "\n",
       "     festival_length  num_users_attending  joined_MAYBE  joined_NO  joined_YES  \n",
       "0                  0                22691             0          1           0  \n",
       "69                 0                22691             0          0           1  \n",
       "83                 0                22691             0          0           1  \n",
       "103                0                22691             0          0           1  \n",
       "108                0                22691             0          0           1  "
      ]
     },
     "execution_count": 72,
     "metadata": {},
     "output_type": "execute_result"
    }
   ],
   "source": [
    "df_user_events.head()"
   ]
  },
  {
   "cell_type": "code",
   "execution_count": 73,
   "metadata": {
    "collapsed": true
   },
   "outputs": [],
   "source": [
    "# Feature Engineering - Avg Festival Length\n",
    "\n",
    "df_fest_len = df_user_events.groupby('pk')['festival_length'].mean().to_frame()\n",
    "df_fest_len.rename(columns={'festival_length':'avg_festival_length'}, inplace=True)\n",
    "\n",
    "df_user_events_groupby = df_user_events_groupby.merge(df_fest_len, left_index=True, right_index=True)\n",
    "# df_user_events.drop('festival_length', axis=1, inplace=True)"
   ]
  },
  {
   "cell_type": "code",
   "execution_count": 74,
   "metadata": {
    "collapsed": true
   },
   "outputs": [],
   "source": [
    "# MERGE with user dataframe\n",
    "\n",
    "df_users = df_users.merge(df_user_events_groupby.loc[:,'pct_festival_region_Canada':],\n",
    "                          left_index=True, right_index=True)"
   ]
  },
  {
   "cell_type": "markdown",
   "metadata": {},
   "source": [
    "# More EDA"
   ]
  },
  {
   "cell_type": "code",
   "execution_count": 75,
   "metadata": {},
   "outputs": [
    {
     "data": {
      "text/html": [
       "<div>\n",
       "<style scoped>\n",
       "    .dataframe tbody tr th:only-of-type {\n",
       "        vertical-align: middle;\n",
       "    }\n",
       "\n",
       "    .dataframe tbody tr th {\n",
       "        vertical-align: top;\n",
       "    }\n",
       "\n",
       "    .dataframe thead th {\n",
       "        text-align: right;\n",
       "    }\n",
       "</style>\n",
       "<table border=\"1\" class=\"dataframe\">\n",
       "  <thead>\n",
       "    <tr style=\"text-align: right;\">\n",
       "      <th></th>\n",
       "      <th>birthday</th>\n",
       "      <th>country</th>\n",
       "      <th>crush_ratio</th>\n",
       "      <th>gender</th>\n",
       "      <th>has_instagram</th>\n",
       "      <th>last_location</th>\n",
       "      <th>last_login</th>\n",
       "      <th>peep_bubbles__count</th>\n",
       "      <th>tagline</th>\n",
       "      <th>age</th>\n",
       "      <th>...</th>\n",
       "      <th>pct_festival_region_Middle Atlantic</th>\n",
       "      <th>pct_festival_region_Misc</th>\n",
       "      <th>pct_festival_region_Mountain</th>\n",
       "      <th>pct_festival_region_New England</th>\n",
       "      <th>pct_festival_region_Pacific</th>\n",
       "      <th>pct_festival_region_South Atlantic</th>\n",
       "      <th>pct_festival_region_West North Central</th>\n",
       "      <th>pct_festival_region_West South Central</th>\n",
       "      <th>avg_num_users_attending</th>\n",
       "      <th>avg_festival_length</th>\n",
       "    </tr>\n",
       "    <tr>\n",
       "      <th>pk</th>\n",
       "      <th></th>\n",
       "      <th></th>\n",
       "      <th></th>\n",
       "      <th></th>\n",
       "      <th></th>\n",
       "      <th></th>\n",
       "      <th></th>\n",
       "      <th></th>\n",
       "      <th></th>\n",
       "      <th></th>\n",
       "      <th></th>\n",
       "      <th></th>\n",
       "      <th></th>\n",
       "      <th></th>\n",
       "      <th></th>\n",
       "      <th></th>\n",
       "      <th></th>\n",
       "      <th></th>\n",
       "      <th></th>\n",
       "      <th></th>\n",
       "      <th></th>\n",
       "    </tr>\n",
       "  </thead>\n",
       "  <tbody>\n",
       "    <tr>\n",
       "      <th>263742</th>\n",
       "      <td>1997-09-21</td>\n",
       "      <td>US</td>\n",
       "      <td>0.772937</td>\n",
       "      <td>1</td>\n",
       "      <td>0</td>\n",
       "      <td>[-117.1880506, 33.7205858]</td>\n",
       "      <td>2017-12-25 21:22:11.543180</td>\n",
       "      <td>19</td>\n",
       "      <td>🤷🏼‍♀️</td>\n",
       "      <td>20.427397</td>\n",
       "      <td>...</td>\n",
       "      <td>0.266667</td>\n",
       "      <td>0.000000</td>\n",
       "      <td>0.266667</td>\n",
       "      <td>0.000000</td>\n",
       "      <td>0.266667</td>\n",
       "      <td>0.066667</td>\n",
       "      <td>0.0</td>\n",
       "      <td>0.000000</td>\n",
       "      <td>5432.533333</td>\n",
       "      <td>1.266667</td>\n",
       "    </tr>\n",
       "    <tr>\n",
       "      <th>260988</th>\n",
       "      <td>1986-04-09</td>\n",
       "      <td>US</td>\n",
       "      <td>0.237527</td>\n",
       "      <td>0</td>\n",
       "      <td>0</td>\n",
       "      <td>[-81.6426328043, 28.8358446732]</td>\n",
       "      <td>2018-01-18 06:07:33.574752</td>\n",
       "      <td>15</td>\n",
       "      <td></td>\n",
       "      <td>31.887671</td>\n",
       "      <td>...</td>\n",
       "      <td>0.142857</td>\n",
       "      <td>0.000000</td>\n",
       "      <td>0.071429</td>\n",
       "      <td>0.000000</td>\n",
       "      <td>0.285714</td>\n",
       "      <td>0.285714</td>\n",
       "      <td>0.0</td>\n",
       "      <td>0.071429</td>\n",
       "      <td>6061.500000</td>\n",
       "      <td>2.071429</td>\n",
       "    </tr>\n",
       "    <tr>\n",
       "      <th>244211</th>\n",
       "      <td>1994-09-27</td>\n",
       "      <td>US</td>\n",
       "      <td>0.794365</td>\n",
       "      <td>1</td>\n",
       "      <td>1</td>\n",
       "      <td>[-82.4824394, 27.3921412]</td>\n",
       "      <td>2018-01-22 17:09:54.480483</td>\n",
       "      <td>17</td>\n",
       "      <td>🍄🐢</td>\n",
       "      <td>23.413699</td>\n",
       "      <td>...</td>\n",
       "      <td>0.076923</td>\n",
       "      <td>0.000000</td>\n",
       "      <td>0.000000</td>\n",
       "      <td>0.000000</td>\n",
       "      <td>0.307692</td>\n",
       "      <td>0.384615</td>\n",
       "      <td>0.0</td>\n",
       "      <td>0.076923</td>\n",
       "      <td>5643.846154</td>\n",
       "      <td>1.615385</td>\n",
       "    </tr>\n",
       "    <tr>\n",
       "      <th>256286</th>\n",
       "      <td>1996-10-23</td>\n",
       "      <td>US</td>\n",
       "      <td>0.321168</td>\n",
       "      <td>0</td>\n",
       "      <td>0</td>\n",
       "      <td>[-121.074339177, 38.9138414833]</td>\n",
       "      <td>2018-01-14 23:05:18.539342</td>\n",
       "      <td>47</td>\n",
       "      <td>From Sac town! \\nAll about the bass😝 \\nSc:tguM...</td>\n",
       "      <td>21.339726</td>\n",
       "      <td>...</td>\n",
       "      <td>0.157895</td>\n",
       "      <td>0.026316</td>\n",
       "      <td>0.105263</td>\n",
       "      <td>0.026316</td>\n",
       "      <td>0.157895</td>\n",
       "      <td>0.210526</td>\n",
       "      <td>0.0</td>\n",
       "      <td>0.078947</td>\n",
       "      <td>3358.894737</td>\n",
       "      <td>1.578947</td>\n",
       "    </tr>\n",
       "    <tr>\n",
       "      <th>247662</th>\n",
       "      <td>1992-11-23</td>\n",
       "      <td>US</td>\n",
       "      <td>0.230469</td>\n",
       "      <td>0</td>\n",
       "      <td>0</td>\n",
       "      <td>[-112.013122771, 40.628634714]</td>\n",
       "      <td>2018-01-21 01:08:56.720441</td>\n",
       "      <td>6</td>\n",
       "      <td></td>\n",
       "      <td>25.257534</td>\n",
       "      <td>...</td>\n",
       "      <td>0.000000</td>\n",
       "      <td>0.000000</td>\n",
       "      <td>0.000000</td>\n",
       "      <td>0.000000</td>\n",
       "      <td>0.200000</td>\n",
       "      <td>0.400000</td>\n",
       "      <td>0.0</td>\n",
       "      <td>0.200000</td>\n",
       "      <td>3231.600000</td>\n",
       "      <td>2.400000</td>\n",
       "    </tr>\n",
       "  </tbody>\n",
       "</table>\n",
       "<p>5 rows × 35 columns</p>\n",
       "</div>"
      ],
      "text/plain": [
       "         birthday country  crush_ratio  gender  has_instagram  \\\n",
       "pk                                                              \n",
       "263742 1997-09-21      US     0.772937       1              0   \n",
       "260988 1986-04-09      US     0.237527       0              0   \n",
       "244211 1994-09-27      US     0.794365       1              1   \n",
       "256286 1996-10-23      US     0.321168       0              0   \n",
       "247662 1992-11-23      US     0.230469       0              0   \n",
       "\n",
       "                          last_location                 last_login  \\\n",
       "pk                                                                   \n",
       "263742       [-117.1880506, 33.7205858] 2017-12-25 21:22:11.543180   \n",
       "260988  [-81.6426328043, 28.8358446732] 2018-01-18 06:07:33.574752   \n",
       "244211        [-82.4824394, 27.3921412] 2018-01-22 17:09:54.480483   \n",
       "256286  [-121.074339177, 38.9138414833] 2018-01-14 23:05:18.539342   \n",
       "247662   [-112.013122771, 40.628634714] 2018-01-21 01:08:56.720441   \n",
       "\n",
       "        peep_bubbles__count  \\\n",
       "pk                            \n",
       "263742                   19   \n",
       "260988                   15   \n",
       "244211                   17   \n",
       "256286                   47   \n",
       "247662                    6   \n",
       "\n",
       "                                                  tagline        age  \\\n",
       "pk                                                                     \n",
       "263742                                              🤷🏼‍♀️  20.427397   \n",
       "260988                                                     31.887671   \n",
       "244211                                                 🍄🐢  23.413699   \n",
       "256286  From Sac town! \\nAll about the bass😝 \\nSc:tguM...  21.339726   \n",
       "247662                                                     25.257534   \n",
       "\n",
       "               ...           pct_festival_region_Middle Atlantic  \\\n",
       "pk             ...                                                 \n",
       "263742         ...                                      0.266667   \n",
       "260988         ...                                      0.142857   \n",
       "244211         ...                                      0.076923   \n",
       "256286         ...                                      0.157895   \n",
       "247662         ...                                      0.000000   \n",
       "\n",
       "        pct_festival_region_Misc  pct_festival_region_Mountain  \\\n",
       "pk                                                               \n",
       "263742                  0.000000                      0.266667   \n",
       "260988                  0.000000                      0.071429   \n",
       "244211                  0.000000                      0.000000   \n",
       "256286                  0.026316                      0.105263   \n",
       "247662                  0.000000                      0.000000   \n",
       "\n",
       "        pct_festival_region_New England  pct_festival_region_Pacific  \\\n",
       "pk                                                                     \n",
       "263742                         0.000000                     0.266667   \n",
       "260988                         0.000000                     0.285714   \n",
       "244211                         0.000000                     0.307692   \n",
       "256286                         0.026316                     0.157895   \n",
       "247662                         0.000000                     0.200000   \n",
       "\n",
       "        pct_festival_region_South Atlantic  \\\n",
       "pk                                           \n",
       "263742                            0.066667   \n",
       "260988                            0.285714   \n",
       "244211                            0.384615   \n",
       "256286                            0.210526   \n",
       "247662                            0.400000   \n",
       "\n",
       "        pct_festival_region_West North Central  \\\n",
       "pk                                               \n",
       "263742                                     0.0   \n",
       "260988                                     0.0   \n",
       "244211                                     0.0   \n",
       "256286                                     0.0   \n",
       "247662                                     0.0   \n",
       "\n",
       "        pct_festival_region_West South Central  avg_num_users_attending  \\\n",
       "pk                                                                        \n",
       "263742                                0.000000              5432.533333   \n",
       "260988                                0.071429              6061.500000   \n",
       "244211                                0.076923              5643.846154   \n",
       "256286                                0.078947              3358.894737   \n",
       "247662                                0.200000              3231.600000   \n",
       "\n",
       "        avg_festival_length  \n",
       "pk                           \n",
       "263742             1.266667  \n",
       "260988             2.071429  \n",
       "244211             1.615385  \n",
       "256286             1.578947  \n",
       "247662             2.400000  \n",
       "\n",
       "[5 rows x 35 columns]"
      ]
     },
     "execution_count": 75,
     "metadata": {},
     "output_type": "execute_result"
    }
   ],
   "source": [
    "df_users.head()"
   ]
  },
  {
   "cell_type": "code",
   "execution_count": 155,
   "metadata": {},
   "outputs": [
    {
     "data": {
      "image/png": "[encoded data removed]",
      "text/plain": [
       "<matplotlib.figure.Figure at 0x7f1eb34bf9d0>"
      ]
     },
     "metadata": {},
     "output_type": "display_data"
    }
   ],
   "source": [
    "scatter_features = ['churn','crush_ratio', 'num_matches', 'iphone_user', 'age','avg_num_msgs','peep_bubbles__count']\n",
    "colors = ['red' if i else 'blue' for i in df_users['churn']]\n",
    "# red means churn\n",
    "\n",
    "scatter_matrix(df_users[scatter_features], alpha=0.2, figsize=(20, 20), diagonal='hist', color=colors)\n",
    "plt.show()"
   ]
  },
  {
   "cell_type": "markdown",
   "metadata": {},
   "source": [
    "Key takeaways:\n",
    "\n",
    "Histograms:\n",
    "* 60% churn\n",
    "* there are two distinct groups within crush ratio - this is because female users tend to have much higher crush ratios than male users\n",
    "* more iphone users than non-iphone users\n",
    "\n",
    "Scatters:\n",
    "* higher num_matches - lower churn\n",
    "* older users - higher churn\n",
    "* higher # events - lower churn"
   ]
  },
  {
   "cell_type": "code",
   "execution_count": 158,
   "metadata": {},
   "outputs": [
    {
     "data": {
      "image/png": "[encoded data removed]",
      "text/plain": [
       "<matplotlib.figure.Figure at 0x7f1efedd2750>"
      ]
     },
     "metadata": {},
     "output_type": "display_data"
    }
   ],
   "source": [
    "sns.boxplot(x='gender', y='crush_ratio', data=df_users)\n",
    "plt.show()"
   ]
  },
  {
   "cell_type": "code",
   "execution_count": 156,
   "metadata": {},
   "outputs": [
    {
     "data": {
      "text/plain": [
       "gender\n",
       "0    0.258433\n",
       "1    0.679459\n",
       "Name: crush_ratio, dtype: float64"
      ]
     },
     "execution_count": 156,
     "metadata": {},
     "output_type": "execute_result"
    }
   ],
   "source": [
    "df_users.groupby('gender')['crush_ratio'].mean()"
   ]
  },
  {
   "cell_type": "markdown",
   "metadata": {},
   "source": [
    "Female users have an average crush ratio of 68% while male users have an average crush ratio of 26%"
   ]
  },
  {
   "cell_type": "code",
   "execution_count": 76,
   "metadata": {},
   "outputs": [
    {
     "data": {
      "text/html": [
       "<div>\n",
       "<style scoped>\n",
       "    .dataframe tbody tr th:only-of-type {\n",
       "        vertical-align: middle;\n",
       "    }\n",
       "\n",
       "    .dataframe tbody tr th {\n",
       "        vertical-align: top;\n",
       "    }\n",
       "\n",
       "    .dataframe thead th {\n",
       "        text-align: right;\n",
       "    }\n",
       "</style>\n",
       "<table border=\"1\" class=\"dataframe\">\n",
       "  <thead>\n",
       "    <tr style=\"text-align: right;\">\n",
       "      <th></th>\n",
       "      <th>count</th>\n",
       "      <th>mean</th>\n",
       "      <th>std</th>\n",
       "      <th>min</th>\n",
       "      <th>25%</th>\n",
       "      <th>50%</th>\n",
       "      <th>75%</th>\n",
       "      <th>max</th>\n",
       "    </tr>\n",
       "  </thead>\n",
       "  <tbody>\n",
       "    <tr>\n",
       "      <th>crush_ratio</th>\n",
       "      <td>24113.0</td>\n",
       "      <td>0.392338</td>\n",
       "      <td>0.212432</td>\n",
       "      <td>0.000000</td>\n",
       "      <td>0.240294</td>\n",
       "      <td>0.300000</td>\n",
       "      <td>0.585714</td>\n",
       "      <td>0.858660</td>\n",
       "    </tr>\n",
       "    <tr>\n",
       "      <th>gender</th>\n",
       "      <td>24113.0</td>\n",
       "      <td>0.318044</td>\n",
       "      <td>0.465726</td>\n",
       "      <td>0.000000</td>\n",
       "      <td>0.000000</td>\n",
       "      <td>0.000000</td>\n",
       "      <td>1.000000</td>\n",
       "      <td>1.000000</td>\n",
       "    </tr>\n",
       "    <tr>\n",
       "      <th>has_instagram</th>\n",
       "      <td>24113.0</td>\n",
       "      <td>0.126861</td>\n",
       "      <td>0.332824</td>\n",
       "      <td>0.000000</td>\n",
       "      <td>0.000000</td>\n",
       "      <td>0.000000</td>\n",
       "      <td>0.000000</td>\n",
       "      <td>1.000000</td>\n",
       "    </tr>\n",
       "    <tr>\n",
       "      <th>peep_bubbles__count</th>\n",
       "      <td>24113.0</td>\n",
       "      <td>9.058724</td>\n",
       "      <td>9.344648</td>\n",
       "      <td>1.000000</td>\n",
       "      <td>3.000000</td>\n",
       "      <td>6.000000</td>\n",
       "      <td>12.000000</td>\n",
       "      <td>251.000000</td>\n",
       "    </tr>\n",
       "    <tr>\n",
       "      <th>age</th>\n",
       "      <td>24113.0</td>\n",
       "      <td>25.148669</td>\n",
       "      <td>4.280560</td>\n",
       "      <td>17.293151</td>\n",
       "      <td>22.263014</td>\n",
       "      <td>24.287671</td>\n",
       "      <td>27.076712</td>\n",
       "      <td>88.865753</td>\n",
       "    </tr>\n",
       "    <tr>\n",
       "      <th>iphone_user</th>\n",
       "      <td>24113.0</td>\n",
       "      <td>0.642931</td>\n",
       "      <td>0.479145</td>\n",
       "      <td>0.000000</td>\n",
       "      <td>0.000000</td>\n",
       "      <td>1.000000</td>\n",
       "      <td>1.000000</td>\n",
       "      <td>1.000000</td>\n",
       "    </tr>\n",
       "    <tr>\n",
       "      <th>has_bio</th>\n",
       "      <td>24113.0</td>\n",
       "      <td>0.556588</td>\n",
       "      <td>0.496798</td>\n",
       "      <td>0.000000</td>\n",
       "      <td>0.000000</td>\n",
       "      <td>1.000000</td>\n",
       "      <td>1.000000</td>\n",
       "      <td>1.000000</td>\n",
       "    </tr>\n",
       "    <tr>\n",
       "      <th>avg_num_msgs</th>\n",
       "      <td>24113.0</td>\n",
       "      <td>2.299258</td>\n",
       "      <td>4.209917</td>\n",
       "      <td>0.000000</td>\n",
       "      <td>0.000000</td>\n",
       "      <td>1.000000</td>\n",
       "      <td>3.000000</td>\n",
       "      <td>123.000000</td>\n",
       "    </tr>\n",
       "    <tr>\n",
       "      <th>num_matches</th>\n",
       "      <td>24113.0</td>\n",
       "      <td>55.804131</td>\n",
       "      <td>158.391521</td>\n",
       "      <td>0.000000</td>\n",
       "      <td>0.000000</td>\n",
       "      <td>8.000000</td>\n",
       "      <td>48.000000</td>\n",
       "      <td>7331.000000</td>\n",
       "    </tr>\n",
       "    <tr>\n",
       "      <th>pct_logins_wknd</th>\n",
       "      <td>24113.0</td>\n",
       "      <td>0.258455</td>\n",
       "      <td>0.189448</td>\n",
       "      <td>0.000000</td>\n",
       "      <td>0.146572</td>\n",
       "      <td>0.230769</td>\n",
       "      <td>0.321254</td>\n",
       "      <td>1.000000</td>\n",
       "    </tr>\n",
       "    <tr>\n",
       "      <th>pct_logins_Q1</th>\n",
       "      <td>24113.0</td>\n",
       "      <td>0.115445</td>\n",
       "      <td>0.182724</td>\n",
       "      <td>0.000000</td>\n",
       "      <td>0.000000</td>\n",
       "      <td>0.025354</td>\n",
       "      <td>0.161744</td>\n",
       "      <td>1.000000</td>\n",
       "    </tr>\n",
       "    <tr>\n",
       "      <th>pct_logins_Q2</th>\n",
       "      <td>24113.0</td>\n",
       "      <td>0.315209</td>\n",
       "      <td>0.327742</td>\n",
       "      <td>0.000000</td>\n",
       "      <td>0.000000</td>\n",
       "      <td>0.209091</td>\n",
       "      <td>0.549435</td>\n",
       "      <td>1.000000</td>\n",
       "    </tr>\n",
       "    <tr>\n",
       "      <th>pct_logins_Q3</th>\n",
       "      <td>24113.0</td>\n",
       "      <td>0.343244</td>\n",
       "      <td>0.338655</td>\n",
       "      <td>0.000000</td>\n",
       "      <td>0.037193</td>\n",
       "      <td>0.233422</td>\n",
       "      <td>0.574282</td>\n",
       "      <td>1.000000</td>\n",
       "    </tr>\n",
       "    <tr>\n",
       "      <th>pct_logins_Q4</th>\n",
       "      <td>24113.0</td>\n",
       "      <td>0.226103</td>\n",
       "      <td>0.282000</td>\n",
       "      <td>0.000000</td>\n",
       "      <td>0.000000</td>\n",
       "      <td>0.111111</td>\n",
       "      <td>0.333333</td>\n",
       "      <td>1.000000</td>\n",
       "    </tr>\n",
       "    <tr>\n",
       "      <th>churn</th>\n",
       "      <td>24113.0</td>\n",
       "      <td>0.611081</td>\n",
       "      <td>0.487515</td>\n",
       "      <td>0.000000</td>\n",
       "      <td>0.000000</td>\n",
       "      <td>1.000000</td>\n",
       "      <td>1.000000</td>\n",
       "      <td>1.000000</td>\n",
       "    </tr>\n",
       "    <tr>\n",
       "      <th>pct_festival_region_Canada</th>\n",
       "      <td>24113.0</td>\n",
       "      <td>0.031607</td>\n",
       "      <td>0.092928</td>\n",
       "      <td>0.000000</td>\n",
       "      <td>0.000000</td>\n",
       "      <td>0.000000</td>\n",
       "      <td>0.000000</td>\n",
       "      <td>1.000000</td>\n",
       "    </tr>\n",
       "    <tr>\n",
       "      <th>pct_festival_region_East North Central</th>\n",
       "      <td>24113.0</td>\n",
       "      <td>0.081323</td>\n",
       "      <td>0.158897</td>\n",
       "      <td>0.000000</td>\n",
       "      <td>0.000000</td>\n",
       "      <td>0.000000</td>\n",
       "      <td>0.111111</td>\n",
       "      <td>1.000000</td>\n",
       "    </tr>\n",
       "    <tr>\n",
       "      <th>pct_festival_region_East South Central</th>\n",
       "      <td>24113.0</td>\n",
       "      <td>0.010249</td>\n",
       "      <td>0.046816</td>\n",
       "      <td>0.000000</td>\n",
       "      <td>0.000000</td>\n",
       "      <td>0.000000</td>\n",
       "      <td>0.000000</td>\n",
       "      <td>1.000000</td>\n",
       "    </tr>\n",
       "    <tr>\n",
       "      <th>pct_festival_region_Europe</th>\n",
       "      <td>24113.0</td>\n",
       "      <td>0.078202</td>\n",
       "      <td>0.159465</td>\n",
       "      <td>0.000000</td>\n",
       "      <td>0.000000</td>\n",
       "      <td>0.000000</td>\n",
       "      <td>0.105263</td>\n",
       "      <td>1.000000</td>\n",
       "    </tr>\n",
       "    <tr>\n",
       "      <th>pct_festival_region_Mexico</th>\n",
       "      <td>24113.0</td>\n",
       "      <td>0.002687</td>\n",
       "      <td>0.034563</td>\n",
       "      <td>0.000000</td>\n",
       "      <td>0.000000</td>\n",
       "      <td>0.000000</td>\n",
       "      <td>0.000000</td>\n",
       "      <td>1.000000</td>\n",
       "    </tr>\n",
       "    <tr>\n",
       "      <th>pct_festival_region_Middle Atlantic</th>\n",
       "      <td>24113.0</td>\n",
       "      <td>0.133441</td>\n",
       "      <td>0.181647</td>\n",
       "      <td>0.000000</td>\n",
       "      <td>0.000000</td>\n",
       "      <td>0.090909</td>\n",
       "      <td>0.200000</td>\n",
       "      <td>1.000000</td>\n",
       "    </tr>\n",
       "    <tr>\n",
       "      <th>pct_festival_region_Misc</th>\n",
       "      <td>24113.0</td>\n",
       "      <td>0.008085</td>\n",
       "      <td>0.051935</td>\n",
       "      <td>0.000000</td>\n",
       "      <td>0.000000</td>\n",
       "      <td>0.000000</td>\n",
       "      <td>0.000000</td>\n",
       "      <td>1.000000</td>\n",
       "    </tr>\n",
       "    <tr>\n",
       "      <th>pct_festival_region_Mountain</th>\n",
       "      <td>24113.0</td>\n",
       "      <td>0.077154</td>\n",
       "      <td>0.126086</td>\n",
       "      <td>0.000000</td>\n",
       "      <td>0.000000</td>\n",
       "      <td>0.000000</td>\n",
       "      <td>0.125000</td>\n",
       "      <td>1.000000</td>\n",
       "    </tr>\n",
       "    <tr>\n",
       "      <th>pct_festival_region_New England</th>\n",
       "      <td>24113.0</td>\n",
       "      <td>0.014165</td>\n",
       "      <td>0.105122</td>\n",
       "      <td>0.000000</td>\n",
       "      <td>0.000000</td>\n",
       "      <td>0.000000</td>\n",
       "      <td>0.000000</td>\n",
       "      <td>1.000000</td>\n",
       "    </tr>\n",
       "    <tr>\n",
       "      <th>pct_festival_region_Pacific</th>\n",
       "      <td>24113.0</td>\n",
       "      <td>0.247572</td>\n",
       "      <td>0.241236</td>\n",
       "      <td>0.000000</td>\n",
       "      <td>0.000000</td>\n",
       "      <td>0.219512</td>\n",
       "      <td>0.333333</td>\n",
       "      <td>1.000000</td>\n",
       "    </tr>\n",
       "    <tr>\n",
       "      <th>pct_festival_region_South Atlantic</th>\n",
       "      <td>24113.0</td>\n",
       "      <td>0.244990</td>\n",
       "      <td>0.238028</td>\n",
       "      <td>0.000000</td>\n",
       "      <td>0.000000</td>\n",
       "      <td>0.222222</td>\n",
       "      <td>0.333333</td>\n",
       "      <td>1.000000</td>\n",
       "    </tr>\n",
       "    <tr>\n",
       "      <th>pct_festival_region_West North Central</th>\n",
       "      <td>24113.0</td>\n",
       "      <td>0.001083</td>\n",
       "      <td>0.017693</td>\n",
       "      <td>0.000000</td>\n",
       "      <td>0.000000</td>\n",
       "      <td>0.000000</td>\n",
       "      <td>0.000000</td>\n",
       "      <td>0.500000</td>\n",
       "    </tr>\n",
       "    <tr>\n",
       "      <th>pct_festival_region_West South Central</th>\n",
       "      <td>24113.0</td>\n",
       "      <td>0.069443</td>\n",
       "      <td>0.156472</td>\n",
       "      <td>0.000000</td>\n",
       "      <td>0.000000</td>\n",
       "      <td>0.000000</td>\n",
       "      <td>0.086957</td>\n",
       "      <td>1.000000</td>\n",
       "    </tr>\n",
       "    <tr>\n",
       "      <th>avg_num_users_attending</th>\n",
       "      <td>24113.0</td>\n",
       "      <td>5805.362257</td>\n",
       "      <td>3050.354758</td>\n",
       "      <td>7.000000</td>\n",
       "      <td>4070.800000</td>\n",
       "      <td>5521.833333</td>\n",
       "      <td>7070.083333</td>\n",
       "      <td>22691.000000</td>\n",
       "    </tr>\n",
       "    <tr>\n",
       "      <th>avg_festival_length</th>\n",
       "      <td>24113.0</td>\n",
       "      <td>1.808240</td>\n",
       "      <td>0.735360</td>\n",
       "      <td>0.000000</td>\n",
       "      <td>1.461538</td>\n",
       "      <td>1.800000</td>\n",
       "      <td>2.000000</td>\n",
       "      <td>10.000000</td>\n",
       "    </tr>\n",
       "  </tbody>\n",
       "</table>\n",
       "</div>"
      ],
      "text/plain": [
       "                                          count         mean          std  \\\n",
       "crush_ratio                             24113.0     0.392338     0.212432   \n",
       "gender                                  24113.0     0.318044     0.465726   \n",
       "has_instagram                           24113.0     0.126861     0.332824   \n",
       "peep_bubbles__count                     24113.0     9.058724     9.344648   \n",
       "age                                     24113.0    25.148669     4.280560   \n",
       "iphone_user                             24113.0     0.642931     0.479145   \n",
       "has_bio                                 24113.0     0.556588     0.496798   \n",
       "avg_num_msgs                            24113.0     2.299258     4.209917   \n",
       "num_matches                             24113.0    55.804131   158.391521   \n",
       "pct_logins_wknd                         24113.0     0.258455     0.189448   \n",
       "pct_logins_Q1                           24113.0     0.115445     0.182724   \n",
       "pct_logins_Q2                           24113.0     0.315209     0.327742   \n",
       "pct_logins_Q3                           24113.0     0.343244     0.338655   \n",
       "pct_logins_Q4                           24113.0     0.226103     0.282000   \n",
       "churn                                   24113.0     0.611081     0.487515   \n",
       "pct_festival_region_Canada              24113.0     0.031607     0.092928   \n",
       "pct_festival_region_East North Central  24113.0     0.081323     0.158897   \n",
       "pct_festival_region_East South Central  24113.0     0.010249     0.046816   \n",
       "pct_festival_region_Europe              24113.0     0.078202     0.159465   \n",
       "pct_festival_region_Mexico              24113.0     0.002687     0.034563   \n",
       "pct_festival_region_Middle Atlantic     24113.0     0.133441     0.181647   \n",
       "pct_festival_region_Misc                24113.0     0.008085     0.051935   \n",
       "pct_festival_region_Mountain            24113.0     0.077154     0.126086   \n",
       "pct_festival_region_New England         24113.0     0.014165     0.105122   \n",
       "pct_festival_region_Pacific             24113.0     0.247572     0.241236   \n",
       "pct_festival_region_South Atlantic      24113.0     0.244990     0.238028   \n",
       "pct_festival_region_West North Central  24113.0     0.001083     0.017693   \n",
       "pct_festival_region_West South Central  24113.0     0.069443     0.156472   \n",
       "avg_num_users_attending                 24113.0  5805.362257  3050.354758   \n",
       "avg_festival_length                     24113.0     1.808240     0.735360   \n",
       "\n",
       "                                              min          25%          50%  \\\n",
       "crush_ratio                              0.000000     0.240294     0.300000   \n",
       "gender                                   0.000000     0.000000     0.000000   \n",
       "has_instagram                            0.000000     0.000000     0.000000   \n",
       "peep_bubbles__count                      1.000000     3.000000     6.000000   \n",
       "age                                     17.293151    22.263014    24.287671   \n",
       "iphone_user                              0.000000     0.000000     1.000000   \n",
       "has_bio                                  0.000000     0.000000     1.000000   \n",
       "avg_num_msgs                             0.000000     0.000000     1.000000   \n",
       "num_matches                              0.000000     0.000000     8.000000   \n",
       "pct_logins_wknd                          0.000000     0.146572     0.230769   \n",
       "pct_logins_Q1                            0.000000     0.000000     0.025354   \n",
       "pct_logins_Q2                            0.000000     0.000000     0.209091   \n",
       "pct_logins_Q3                            0.000000     0.037193     0.233422   \n",
       "pct_logins_Q4                            0.000000     0.000000     0.111111   \n",
       "churn                                    0.000000     0.000000     1.000000   \n",
       "pct_festival_region_Canada               0.000000     0.000000     0.000000   \n",
       "pct_festival_region_East North Central   0.000000     0.000000     0.000000   \n",
       "pct_festival_region_East South Central   0.000000     0.000000     0.000000   \n",
       "pct_festival_region_Europe               0.000000     0.000000     0.000000   \n",
       "pct_festival_region_Mexico               0.000000     0.000000     0.000000   \n",
       "pct_festival_region_Middle Atlantic      0.000000     0.000000     0.090909   \n",
       "pct_festival_region_Misc                 0.000000     0.000000     0.000000   \n",
       "pct_festival_region_Mountain             0.000000     0.000000     0.000000   \n",
       "pct_festival_region_New England          0.000000     0.000000     0.000000   \n",
       "pct_festival_region_Pacific              0.000000     0.000000     0.219512   \n",
       "pct_festival_region_South Atlantic       0.000000     0.000000     0.222222   \n",
       "pct_festival_region_West North Central   0.000000     0.000000     0.000000   \n",
       "pct_festival_region_West South Central   0.000000     0.000000     0.000000   \n",
       "avg_num_users_attending                  7.000000  4070.800000  5521.833333   \n",
       "avg_festival_length                      0.000000     1.461538     1.800000   \n",
       "\n",
       "                                                75%           max  \n",
       "crush_ratio                                0.585714      0.858660  \n",
       "gender                                     1.000000      1.000000  \n",
       "has_instagram                              0.000000      1.000000  \n",
       "peep_bubbles__count                       12.000000    251.000000  \n",
       "age                                       27.076712     88.865753  \n",
       "iphone_user                                1.000000      1.000000  \n",
       "has_bio                                    1.000000      1.000000  \n",
       "avg_num_msgs                               3.000000    123.000000  \n",
       "num_matches                               48.000000   7331.000000  \n",
       "pct_logins_wknd                            0.321254      1.000000  \n",
       "pct_logins_Q1                              0.161744      1.000000  \n",
       "pct_logins_Q2                              0.549435      1.000000  \n",
       "pct_logins_Q3                              0.574282      1.000000  \n",
       "pct_logins_Q4                              0.333333      1.000000  \n",
       "churn                                      1.000000      1.000000  \n",
       "pct_festival_region_Canada                 0.000000      1.000000  \n",
       "pct_festival_region_East North Central     0.111111      1.000000  \n",
       "pct_festival_region_East South Central     0.000000      1.000000  \n",
       "pct_festival_region_Europe                 0.105263      1.000000  \n",
       "pct_festival_region_Mexico                 0.000000      1.000000  \n",
       "pct_festival_region_Middle Atlantic        0.200000      1.000000  \n",
       "pct_festival_region_Misc                   0.000000      1.000000  \n",
       "pct_festival_region_Mountain               0.125000      1.000000  \n",
       "pct_festival_region_New England            0.000000      1.000000  \n",
       "pct_festival_region_Pacific                0.333333      1.000000  \n",
       "pct_festival_region_South Atlantic         0.333333      1.000000  \n",
       "pct_festival_region_West North Central     0.000000      0.500000  \n",
       "pct_festival_region_West South Central     0.086957      1.000000  \n",
       "avg_num_users_attending                 7070.083333  22691.000000  \n",
       "avg_festival_length                        2.000000     10.000000  "
      ]
     },
     "execution_count": 76,
     "metadata": {},
     "output_type": "execute_result"
    }
   ],
   "source": [
    "df_users.describe().T"
   ]
  },
  {
   "cell_type": "markdown",
   "metadata": {},
   "source": [
    "Key stats on the total population:\n",
    "* 61% churn\n",
    "* avg crush ratio = 40%\n",
    "* 30% women\n",
    "* avg peep bubbles count = 9\n",
    "* avg age = 25.1\n",
    "* 65% iphone users\n",
    "* 56% have bios\n",
    "* avg num messages = 1.3\n",
    "* avg num matches = 56"
   ]
  },
  {
   "cell_type": "code",
   "execution_count": 126,
   "metadata": {
    "collapsed": true
   },
   "outputs": [],
   "source": [
    "def plot_scatter(x,y):\n",
    "    plt.scatter(df_users[x], df_users[y])\n",
    "    plt.xlabel(x)\n",
    "    plt.ylabel(y)\n",
    "    plt.show()\n",
    "    \n",
    "# DELETE??"
   ]
  },
  {
   "cell_type": "code",
   "execution_count": 127,
   "metadata": {},
   "outputs": [
    {
     "data": {
      "image/png": "[encoded data removed]",
      "text/plain": [
       "<matplotlib.figure.Figure at 0x7f1eae3688d0>"
      ]
     },
     "metadata": {},
     "output_type": "display_data"
    }
   ],
   "source": [
    "plot_scatter('avg_num_users_attending','peep_bubbles__count')"
   ]
  },
  {
   "cell_type": "markdown",
   "metadata": {
    "collapsed": true
   },
   "source": [
    "# Modeling"
   ]
  },
  {
   "cell_type": "code",
   "execution_count": 91,
   "metadata": {
    "collapsed": true
   },
   "outputs": [],
   "source": [
    "from sklearn.linear_model import LogisticRegression\n",
    "from sklearn.pipeline import Pipeline\n",
    "from sklearn.svm import SVC\n",
    "from sklearn.model_selection import GridSearchCV, train_test_split, cross_val_score\n",
    "import sklearn.metrics as skm\n",
    "from sklearn.ensemble import GradientBoostingClassifier, RandomForestClassifier, BaggingClassifier\n",
    "from sklearn.cluster import KMeans\n",
    "from sklearn.preprocessing import StandardScaler"
   ]
  },
  {
   "cell_type": "code",
   "execution_count": 129,
   "metadata": {
    "collapsed": true
   },
   "outputs": [],
   "source": [
    "df_users2 = df_users.rename(columns = {'pct_festival_region_Europe':'% events attended in Europe',\n",
    "                    'pct_festival_region_West North Central': '% events attended in West North Central',\n",
    "                    'pct_festival_region_East North Central': '% events attended in East North Central',\n",
    "                    'pct_logins_Q1': '% logins in Q1',\n",
    "                    'pct_logins_Q2': '% logins in Q2',\n",
    "                    'pct_logins_Q3': '% logins in Q3',\n",
    "                    'pct_logins_Q4': '% logins in Q4',\n",
    "                    'num_matches': '# matches',\n",
    "                    'pct_logins_wknd': '% logins on weekend',\n",
    "                    'peep_bubbles__count': \"# events RSVPed\",\n",
    "                    'crush_ratio': \"'swipe right' ratio\",\n",
    "                    'iphone_user': 'iphone user',\n",
    "                    'avg_num_msgs': 'avg # messages',\n",
    "                    'avg_festival_length': 'avg event length',\n",
    "                    'has_instagram': 'instagram user',\n",
    "                    'avg_num_users_attending': 'avg # Radiate users attending',\n",
    "                    'pct_peeps_left': '% events RSVPed and then cancelled'\n",
    "                   })"
   ]
  },
  {
   "cell_type": "code",
   "execution_count": 131,
   "metadata": {
    "collapsed": true
   },
   "outputs": [],
   "source": [
    "y = df_users2['churn']\n",
    "X = df_users2.drop(['churn','tagline','birthday', 'last_login',\n",
    "                    'country', 'last_location', '# matches'], axis=1)\n",
    "\n",
    "X_train, X_test, y_train, y_test = train_test_split(X.values, y.values, test_size=0.20, random_state=67)"
   ]
  },
  {
   "cell_type": "markdown",
   "metadata": {},
   "source": [
    "Dropping columns:\n",
    "* churn - we should not include this in the model since this is what we are trying to predict!\n",
    "* last_login - we used this to define churn, so definitely don't want to include\n",
    "* age - we have age_in_days... we only used age for EDA purposes\n",
    "* bubble_id - this is just an identifier for the actual festivals and we have coded the attributes of festivals in separate features\n",
    "* tagline - this is text based and we used it for our topic modeling\n",
    "* matches - we used this to create num_matches\n",
    "* num_matches - highly correlated w/ other features"
   ]
  },
  {
   "cell_type": "code",
   "execution_count": 119,
   "metadata": {
    "collapsed": true
   },
   "outputs": [],
   "source": [
    "def run_model(model, X_train, X_test, y_train, y_test):\n",
    "    model.fit(X_train, y_train)\n",
    "    print \"Accuracy:\", round(model.score(X_test, y_test),3)\n",
    "    print \"AUC:\", round(skm.roc_auc_score(y_test, model.predict(X_test)),3)\n",
    "    return"
   ]
  },
  {
   "cell_type": "code",
   "execution_count": 120,
   "metadata": {
    "collapsed": true
   },
   "outputs": [],
   "source": [
    "def run_grid_search(clf, grid_params, score_type='roc_auc'):\n",
    "    grid_cv = GridSearchCV(clf, grid_params, n_jobs=-1, scoring=score_type)\n",
    "    grid_cv.fit(X_train, y_train)\n",
    "    print \"best parameters: \", grid_cv.best_params_\n",
    "    print \"best score: \", \"{0:.3f}\".format(grid_cv.best_score_)\n",
    "    best_model = grid_cv.best_estimator_\n",
    "    return best_model"
   ]
  },
  {
   "cell_type": "markdown",
   "metadata": {},
   "source": [
    "# Logistic Regression"
   ]
  },
  {
   "cell_type": "code",
   "execution_count": 83,
   "metadata": {
    "collapsed": true
   },
   "outputs": [],
   "source": [
    "logistic = LogisticRegression()"
   ]
  },
  {
   "cell_type": "code",
   "execution_count": 84,
   "metadata": {},
   "outputs": [
    {
     "name": "stdout",
     "output_type": "stream",
     "text": [
      "Accuracy: 0.715\n",
      "AUC: 0.683\n"
     ]
    }
   ],
   "source": [
    "run_model(logistic, X_train, X_test, y_train, y_test)"
   ]
  },
  {
   "cell_type": "markdown",
   "metadata": {},
   "source": [
    "# SVM"
   ]
  },
  {
   "cell_type": "code",
   "execution_count": 85,
   "metadata": {},
   "outputs": [
    {
     "data": {
      "text/plain": [
       "Pipeline(memory=None,\n",
       "     steps=[('scaler', StandardScaler(copy=True, with_mean=True, with_std=True)), ('svc', SVC(C=1.0, cache_size=200, class_weight=None, coef0=0.0,\n",
       "  decision_function_shape='ovr', degree=3, gamma='auto', kernel='rbf',\n",
       "  max_iter=-1, probability=False, random_state=None, shrinking=True,\n",
       "  tol=0.001, verbose=False))])"
      ]
     },
     "execution_count": 85,
     "metadata": {},
     "output_type": "execute_result"
    }
   ],
   "source": [
    "svm_pipe = Pipeline([('scaler', StandardScaler()),\n",
    "                        ('svc', SVC(kernel='rbf'))])\n",
    "svm_pipe.fit(X_train, y_train)"
   ]
  },
  {
   "cell_type": "code",
   "execution_count": 86,
   "metadata": {},
   "outputs": [
    {
     "name": "stdout",
     "output_type": "stream",
     "text": [
      "Accuracy: 0.752\n",
      "AUC: 0.727\n"
     ]
    }
   ],
   "source": [
    "run_model(svm_pipe, X_train, X_test, y_train, y_test)"
   ]
  },
  {
   "cell_type": "markdown",
   "metadata": {},
   "source": [
    "# Random Forest"
   ]
  },
  {
   "cell_type": "code",
   "execution_count": 95,
   "metadata": {},
   "outputs": [
    {
     "data": {
      "text/plain": [
       "RandomForestClassifier(bootstrap=True, class_weight=None, criterion='gini',\n",
       "            max_depth=None, max_features='auto', max_leaf_nodes=None,\n",
       "            min_impurity_decrease=0.0, min_impurity_split=None,\n",
       "            min_samples_leaf=1, min_samples_split=2,\n",
       "            min_weight_fraction_leaf=0.0, n_estimators=10, n_jobs=1,\n",
       "            oob_score=False, random_state=None, verbose=0,\n",
       "            warm_start=False)"
      ]
     },
     "execution_count": 95,
     "metadata": {},
     "output_type": "execute_result"
    }
   ],
   "source": [
    "rf = RandomForestClassifier()\n",
    "rf.fit(X_train, y_train)"
   ]
  },
  {
   "cell_type": "code",
   "execution_count": 96,
   "metadata": {},
   "outputs": [
    {
     "name": "stdout",
     "output_type": "stream",
     "text": [
      "Accuracy: 0.744\n",
      "AUC: 0.734\n"
     ]
    }
   ],
   "source": [
    "run_model(rf, X_train, X_test, y_train, y_test)"
   ]
  },
  {
   "cell_type": "code",
   "execution_count": 99,
   "metadata": {
    "collapsed": true
   },
   "outputs": [],
   "source": [
    "rf_grid = {\n",
    "    'max_depth': [4, 8, None],\n",
    "    'n_estimators': [100, 500, 1000],\n",
    "    'max_features': ['auto', 'sqrt', 'log2', None],\n",
    "    'oob_score': [True],\n",
    "    'bootstrap':[True]\n",
    "}"
   ]
  },
  {
   "cell_type": "code",
   "execution_count": 100,
   "metadata": {
    "collapsed": true
   },
   "outputs": [],
   "source": [
    "rf_grid_cv = GridSearchCV(RandomForestClassifier(), rf_grid, n_jobs=-1, scoring='roc_auc')"
   ]
  },
  {
   "cell_type": "code",
   "execution_count": 101,
   "metadata": {},
   "outputs": [
    {
     "data": {
      "text/plain": [
       "GridSearchCV(cv=None, error_score='raise',\n",
       "       estimator=RandomForestClassifier(bootstrap=True, class_weight=None, criterion='gini',\n",
       "            max_depth=None, max_features='auto', max_leaf_nodes=None,\n",
       "            min_impurity_decrease=0.0, min_impurity_split=None,\n",
       "            min_samples_leaf=1, min_samples_split=2,\n",
       "            min_weight_fraction_leaf=0.0, n_estimators=10, n_jobs=1,\n",
       "            oob_score=False, random_state=None, verbose=0,\n",
       "            warm_start=False),\n",
       "       fit_params=None, iid=True, n_jobs=-1,\n",
       "       param_grid={'n_estimators': [100, 500, 1000], 'max_features': ['auto', 'sqrt', 'log2', None], 'oob_score': [True], 'bootstrap': [True], 'max_depth': [4, 8, None]},\n",
       "       pre_dispatch='2*n_jobs', refit=True, return_train_score='warn',\n",
       "       scoring='roc_auc', verbose=0)"
      ]
     },
     "execution_count": 101,
     "metadata": {},
     "output_type": "execute_result"
    }
   ],
   "source": [
    "rf_grid_cv.fit(X.values, y.values)"
   ]
  },
  {
   "cell_type": "code",
   "execution_count": 102,
   "metadata": {
    "collapsed": true
   },
   "outputs": [],
   "source": [
    "rf_model = rf_grid_cv.best_estimator_"
   ]
  },
  {
   "cell_type": "code",
   "execution_count": 103,
   "metadata": {},
   "outputs": [
    {
     "name": "stdout",
     "output_type": "stream",
     "text": [
      "best params: {'max_features': 'auto', 'n_estimators': 1000, 'oob_score': True, 'bootstrap': True, 'max_depth': None}\n"
     ]
    }
   ],
   "source": [
    "print \"best params:\", rf_grid_cv.best_params_"
   ]
  },
  {
   "cell_type": "code",
   "execution_count": 104,
   "metadata": {},
   "outputs": [
    {
     "name": "stdout",
     "output_type": "stream",
     "text": [
      "best score: 0.8365839715983808\n"
     ]
    }
   ],
   "source": [
    "print \"best score:\", rf_grid_cv.best_score_"
   ]
  },
  {
   "cell_type": "markdown",
   "metadata": {},
   "source": [
    "# Boosting"
   ]
  },
  {
   "cell_type": "code",
   "execution_count": 105,
   "metadata": {
    "collapsed": true
   },
   "outputs": [],
   "source": [
    "gbc = GradientBoostingClassifier()"
   ]
  },
  {
   "cell_type": "code",
   "execution_count": 106,
   "metadata": {},
   "outputs": [
    {
     "name": "stdout",
     "output_type": "stream",
     "text": [
      "Accuracy: 0.774\n",
      "AUC: 0.751\n"
     ]
    }
   ],
   "source": [
    "run_model(gbc, X_train, X_test, y_train, y_test)"
   ]
  },
  {
   "cell_type": "code",
   "execution_count": 107,
   "metadata": {},
   "outputs": [
    {
     "name": "stdout",
     "output_type": "stream",
     "text": [
      "pct_logins_Q2 0.158\n",
      "num_matches 0.108\n",
      "peep_bubbles__count 0.105\n",
      "pct_logins_Q4 0.066\n",
      "pct_logins_Q1 0.063\n",
      "pct_logins_wknd 0.06\n",
      "crush_ratio 0.059\n",
      "pct_logins_Q3 0.052\n",
      "iphone_user 0.049\n",
      "has_instagram 0.039\n",
      "avg_num_msgs 0.039\n",
      "avg_num_users_attending 0.036\n",
      "age 0.023\n",
      "avg_festival_length 0.02\n",
      "pct_festival_region_East North Central 0.018\n",
      "pct_festival_region_East South Central 0.015\n",
      "pct_festival_region_West North Central 0.015\n",
      "pct_festival_region_Europe 0.012\n",
      "pct_festival_region_South Atlantic 0.01\n",
      "pct_festival_region_Mountain 0.009\n",
      "pct_festival_region_Canada 0.009\n",
      "pct_festival_region_New England 0.008\n",
      "pct_festival_region_Middle Atlantic 0.006\n",
      "pct_festival_region_West South Central 0.006\n",
      "pct_festival_region_Pacific 0.005\n",
      "gender 0.005\n",
      "pct_festival_region_Misc 0.004\n",
      "has_bio 0.0\n",
      "pct_festival_region_Mexico 0.0\n"
     ]
    }
   ],
   "source": [
    "for col, feat_imp in sorted(zip(X.columns, gbc.feature_importances_), key = lambda x:x[1], reverse=True):\n",
    "    print col, round(feat_imp, 3)"
   ]
  },
  {
   "cell_type": "code",
   "execution_count": 121,
   "metadata": {
    "collapsed": true
   },
   "outputs": [],
   "source": [
    "# first tune with high learning rate for speed purposes\n",
    "gbc_grid_1 = {\n",
    "    'learning_rate': [.1],\n",
    "    'max_depth': [3, 5, 8],\n",
    "    'min_samples_leaf': [1, 3, 5],\n",
    "    'n_estimators': [500, 1000],\n",
    "    'subsample': [0.5, 0.75, 1.0],\n",
    "    'max_features': ['sqrt', 'log2', None]\n",
    "}\n",
    "\n",
    "# use results from first grid search to inform the second, and also tune learning rate here\n",
    "gbc_grid_2 = {\n",
    "    'learning_rate': [.005, .01],\n",
    "    'max_depth': [1, 3, 5],\n",
    "    'min_samples_leaf': [5, 7],\n",
    "    'n_estimators': [200, 500, 1000],\n",
    "    'subsample': [0.75],\n",
    "    'max_features': [None]\n",
    "}"
   ]
  },
  {
   "cell_type": "code",
   "execution_count": 167,
   "metadata": {},
   "outputs": [
    {
     "name": "stdout",
     "output_type": "stream",
     "text": [
      "best parameters:  {'learning_rate': 0.01, 'min_samples_leaf': 7, 'n_estimators': 1000, 'subsample': 0.75, 'max_features': None, 'max_depth': 5}\n",
      "best score:  0.853\n"
     ]
    }
   ],
   "source": [
    "gbc = GradientBoostingClassifier()\n",
    "gbc_grid_cv = run_grid_search(gbc, gbc_grid_2)"
   ]
  },
  {
   "cell_type": "code",
   "execution_count": 172,
   "metadata": {},
   "outputs": [
    {
     "name": "stdout",
     "output_type": "stream",
     "text": [
      "FINAL AUC SCORE AGAINST UNSEEN TEST DATA: 0.758\n"
     ]
    }
   ],
   "source": [
    "final_score = round(skm.roc_auc_score(y_test, gbc_grid_cv.predict(X_test)),3)\n",
    "\n",
    "print \"FINAL AUC SCORE AGAINST UNSEEN TEST DATA:\", final_score"
   ]
  },
  {
   "cell_type": "markdown",
   "metadata": {},
   "source": [
    "# Findings"
   ]
  },
  {
   "cell_type": "code",
   "execution_count": 142,
   "metadata": {
    "collapsed": true
   },
   "outputs": [],
   "source": [
    "def feature_ranking(clf, X):\n",
    "    feat = X.columns\n",
    "    importance = clf.feature_importances_\n",
    "    ranking = sorted(zip(feat, importance), key = lambda x:x[1], reverse=True)\n",
    "    return ranking"
   ]
  },
  {
   "cell_type": "code",
   "execution_count": 144,
   "metadata": {
    "collapsed": true
   },
   "outputs": [],
   "source": [
    "feats = feature_ranking(gbc_grid_cv, X)\n",
    "peeps_groupby = df_users2.groupby('churn').mean().T"
   ]
  },
  {
   "cell_type": "code",
   "execution_count": 145,
   "metadata": {
    "collapsed": true
   },
   "outputs": [],
   "source": [
    "churn_more_likely = []\n",
    "churn_less_likely = []\n",
    "for feat in feats:\n",
    "    no_churn = peeps_groupby.loc[feat[0],0]\n",
    "    churn = peeps_groupby.loc[feat[0],1]\n",
    "    if churn > no_churn:\n",
    "        churn_more_likely.append(feat[0])\n",
    "    else:\n",
    "        churn_less_likely.append(feat[0])"
   ]
  },
  {
   "cell_type": "code",
   "execution_count": 148,
   "metadata": {
    "collapsed": true
   },
   "outputs": [],
   "source": [
    "def print_features(lst):\n",
    "    if lst==churn_less_likely:\n",
    "        result='LOWER'\n",
    "    else:\n",
    "        result='HIGHER'\n",
    "        \n",
    "    print \"Higher values of the following are associated with %s churn:\" %result\n",
    "    count = 0\n",
    "    for i in lst:\n",
    "        count +=1\n",
    "        print count, i\n",
    "    return"
   ]
  },
  {
   "cell_type": "code",
   "execution_count": 149,
   "metadata": {},
   "outputs": [
    {
     "name": "stdout",
     "output_type": "stream",
     "text": [
      "Higher values of the following are associated with LOWER churn:\n",
      "1 # events RSVPed\n",
      "2 % logins in Q2\n",
      "3 'swipe right' ratio\n",
      "4 % logins in Q1\n",
      "5 avg # Radiate users attending\n",
      "6 avg # messages\n",
      "7 iphone user\n",
      "8 pct_festival_region_South Atlantic\n",
      "9 pct_festival_region_Mountain\n",
      "10 instagram user\n",
      "11 pct_festival_region_Middle Atlantic\n",
      "12 pct_festival_region_Canada\n",
      "13 pct_festival_region_East South Central\n",
      "14 has_bio\n",
      "15 % events attended in West North Central\n",
      "\n",
      "\n",
      "Higher values of the following are associated with HIGHER churn:\n",
      "1 % logins in Q3\n",
      "2 % logins on weekend\n",
      "3 % logins in Q4\n",
      "4 age\n",
      "5 avg event length\n",
      "6 % events attended in East North Central\n",
      "7 pct_festival_region_Pacific\n",
      "8 % events attended in Europe\n",
      "9 pct_festival_region_West South Central\n",
      "10 pct_festival_region_New England\n",
      "11 pct_festival_region_Misc\n",
      "12 gender\n",
      "13 pct_festival_region_Mexico\n"
     ]
    }
   ],
   "source": [
    "print_features(churn_less_likely)    \n",
    "print '\\n'\n",
    "print_features(churn_more_likely)"
   ]
  },
  {
   "cell_type": "code",
   "execution_count": 133,
   "metadata": {
    "collapsed": true
   },
   "outputs": [],
   "source": [
    "import seaborn as sns\n",
    "\n",
    "def plot_boxplot(x):\n",
    "    sns.boxplot(x=x, y='churn', data=df_users)\n",
    "    plt.show()"
   ]
  },
  {
   "cell_type": "code",
   "execution_count": 159,
   "metadata": {},
   "outputs": [
    {
     "data": {
      "image/png": "[encoded data removed]",
      "text/plain": [
       "<matplotlib.figure.Figure at 0x7f1efeccddd0>"
      ]
     },
     "metadata": {},
     "output_type": "display_data"
    }
   ],
   "source": [
    "sns.boxplot(x='churn', y='# events RSVPed', data=df_users2)\n",
    "plt.show()\n",
    "\n",
    "# limit?"
   ]
  },
  {
   "cell_type": "code",
   "execution_count": 162,
   "metadata": {},
   "outputs": [
    {
     "data": {
      "image/png": "[encoded data removed]",
      "text/plain": [
       "<matplotlib.figure.Figure at 0x7f1efed07cd0>"
      ]
     },
     "metadata": {},
     "output_type": "display_data"
    }
   ],
   "source": [
    "sns.boxplot(x='churn', y='% logins in Q2', data=df_users2)\n",
    "plt.show()"
   ]
  },
  {
   "cell_type": "code",
   "execution_count": 163,
   "metadata": {},
   "outputs": [
    {
     "data": {
      "image/png": "[encoded data removed]",
      "text/plain": [
       "<matplotlib.figure.Figure at 0x7f1edc28ea90>"
      ]
     },
     "metadata": {},
     "output_type": "display_data"
    }
   ],
   "source": [
    "sns.boxplot(x='churn', y=\"'swipe right' ratio\", data=df_users2)\n",
    "plt.show()"
   ]
  },
  {
   "cell_type": "code",
   "execution_count": 164,
   "metadata": {},
   "outputs": [
    {
     "data": {
      "image/png": "[encoded data removed]",
      "text/plain": [
       "<matplotlib.figure.Figure at 0x7f1edc0c2250>"
      ]
     },
     "metadata": {},
     "output_type": "display_data"
    }
   ],
   "source": [
    "sns.boxplot(x='churn', y='% logins in Q3', data=df_users2)\n",
    "plt.show()"
   ]
  },
  {
   "cell_type": "code",
   "execution_count": 165,
   "metadata": {},
   "outputs": [
    {
     "data": {
      "image/png": "[encoded data removed]",
      "text/plain": [
       "<matplotlib.figure.Figure at 0x7f1edc1a4a10>"
      ]
     },
     "metadata": {},
     "output_type": "display_data"
    }
   ],
   "source": [
    "sns.boxplot(x='churn', y='% logins on weekend', data=df_users2)\n",
    "plt.show()"
   ]
  },
  {
   "cell_type": "code",
   "execution_count": 150,
   "metadata": {
    "collapsed": true
   },
   "outputs": [],
   "source": [
    "def plot_importance(clf, X, max_features=10):\n",
    "    '''Plot feature importance'''\n",
    "    feature_importance = clf.feature_importances_\n",
    "    sorted_idx = np.argsort(feature_importance)\n",
    "    pos = np.arange(sorted_idx.shape[0]) + .5\n",
    "    \n",
    "    # Show only top features\n",
    "    pos = pos[-max_features:]\n",
    "    feature_importance = (feature_importance[sorted_idx])[-max_features:]\n",
    "    feature_names = (X.columns[sorted_idx])[-max_features:]\n",
    "    \n",
    "    barlist = plt.barh(pos, feature_importance, align='center')\n",
    "    for i, name in enumerate(feature_names):\n",
    "        if name in churn_more_likely:\n",
    "            barlist[i].set_color('r')\n",
    "        else:\n",
    "            barlist[i].set_color('g')\n",
    "        \n",
    "    plt.yticks(pos, feature_names)\n",
    "    plt.xlabel('Feature Importance')\n",
    "    plt.title('Top Features')\n",
    "    plt.savefig('figure.png', bbox_inches='tight')"
   ]
  },
  {
   "cell_type": "code",
   "execution_count": 152,
   "metadata": {},
   "outputs": [
    {
     "data": {
      "image/png": "[encoded data removed]",
      "text/plain": [
       "<matplotlib.figure.Figure at 0x7f1eae368810>"
      ]
     },
     "metadata": {},
     "output_type": "display_data"
    }
   ],
   "source": [
    "plot_importance(gbc_grid_cv, X, 11)"
   ]
  },
  {
   "cell_type": "markdown",
   "metadata": {},
   "source": [
    "The green features above are associated with lower churn, and the red features are associated with higher churn."
   ]
  }
 ],
 "metadata": {
  "kernelspec": {
   "display_name": "Python 2",
   "language": "python",
   "name": "python2"
  },
  "language_info": {
   "codemirror_mode": {
    "name": "ipython",
    "version": 2
   },
   "file_extension": ".py",
   "mimetype": "text/x-python",
   "name": "python",
   "nbconvert_exporter": "python",
   "pygments_lexer": "ipython2",
   "version": "2.7.14"
  }
 },
 "nbformat": 4,
 "nbformat_minor": 2
}
