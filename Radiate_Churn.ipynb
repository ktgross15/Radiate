{
 "cells": [
  {
   "cell_type": "code",
   "execution_count": 39,
   "metadata": {},
   "outputs": [],
   "source": [
    "import pandas as pd\n",
    "import numpy as np\n",
    "import datetime as dt\n",
    "import matplotlib.pyplot as plt\n",
    "%matplotlib inline\n",
    "from pandas.plotting import scatter_matrix\n",
    "import json\n",
    "from itertools import chain\n",
    "import multiprocessing\n",
    "from collections import defaultdict"
   ]
  },
  {
   "cell_type": "markdown",
   "metadata": {},
   "source": [
    "# Data Cleaning/EDA"
   ]
  },
  {
   "cell_type": "markdown",
   "metadata": {},
   "source": [
    "First dataframe - each column is an individual user. This is the main dataframe we will work off of."
   ]
  },
  {
   "cell_type": "code",
   "execution_count": 40,
   "metadata": {},
   "outputs": [],
   "source": [
    "df_peeps = pd.read_json('radiate_peeps.json')"
   ]
  },
  {
   "cell_type": "code",
   "execution_count": 41,
   "metadata": {},
   "outputs": [],
   "source": [
    "df_peeps.set_index('pk', inplace=True)"
   ]
  },
  {
   "cell_type": "code",
   "execution_count": 92,
   "metadata": {},
   "outputs": [
    {
     "data": {
      "text/html": [
       "<div>\n",
       "<style scoped>\n",
       "    .dataframe tbody tr th:only-of-type {\n",
       "        vertical-align: middle;\n",
       "    }\n",
       "\n",
       "    .dataframe tbody tr th {\n",
       "        vertical-align: top;\n",
       "    }\n",
       "\n",
       "    .dataframe thead th {\n",
       "        text-align: right;\n",
       "    }\n",
       "</style>\n",
       "<table border=\"1\" class=\"dataframe\">\n",
       "  <thead>\n",
       "    <tr style=\"text-align: right;\">\n",
       "      <th></th>\n",
       "      <th>birthday</th>\n",
       "      <th>crush_ratio</th>\n",
       "      <th>gender</th>\n",
       "      <th>has_instagram</th>\n",
       "      <th>last_login</th>\n",
       "      <th>matches</th>\n",
       "      <th>peep_bubbles__count</th>\n",
       "      <th>tagline</th>\n",
       "      <th>age</th>\n",
       "      <th>age_in_days</th>\n",
       "      <th>iphone_user</th>\n",
       "      <th>has_bio</th>\n",
       "      <th>avg_num_msgs</th>\n",
       "      <th>num_matches</th>\n",
       "      <th>pct_logins_wknd</th>\n",
       "      <th>Q1_pct</th>\n",
       "      <th>Q2_pct</th>\n",
       "      <th>Q3_pct</th>\n",
       "      <th>Q4_pct</th>\n",
       "      <th>churn</th>\n",
       "    </tr>\n",
       "    <tr>\n",
       "      <th>pk</th>\n",
       "      <th></th>\n",
       "      <th></th>\n",
       "      <th></th>\n",
       "      <th></th>\n",
       "      <th></th>\n",
       "      <th></th>\n",
       "      <th></th>\n",
       "      <th></th>\n",
       "      <th></th>\n",
       "      <th></th>\n",
       "      <th></th>\n",
       "      <th></th>\n",
       "      <th></th>\n",
       "      <th></th>\n",
       "      <th></th>\n",
       "      <th></th>\n",
       "      <th></th>\n",
       "      <th></th>\n",
       "      <th></th>\n",
       "      <th></th>\n",
       "    </tr>\n",
       "  </thead>\n",
       "  <tbody>\n",
       "    <tr>\n",
       "      <th>263742</th>\n",
       "      <td>1997-09-21</td>\n",
       "      <td>0.772937</td>\n",
       "      <td>1</td>\n",
       "      <td>0</td>\n",
       "      <td>2017-12-25 21:22:11.543180</td>\n",
       "      <td>[{u'created_on': u'2017-08-27T18:11:21.556813+...</td>\n",
       "      <td>19</td>\n",
       "      <td>🤷🏼‍♀️</td>\n",
       "      <td>20.0</td>\n",
       "      <td>7442</td>\n",
       "      <td>0</td>\n",
       "      <td>1</td>\n",
       "      <td>2</td>\n",
       "      <td>0.0</td>\n",
       "      <td>0.086400</td>\n",
       "      <td>0.068800</td>\n",
       "      <td>0.006400</td>\n",
       "      <td>0.392000</td>\n",
       "      <td>0.532800</td>\n",
       "      <td>0</td>\n",
       "    </tr>\n",
       "    <tr>\n",
       "      <th>260988</th>\n",
       "      <td>1986-04-09</td>\n",
       "      <td>0.237527</td>\n",
       "      <td>0</td>\n",
       "      <td>0</td>\n",
       "      <td>2018-01-18 06:07:33.574752</td>\n",
       "      <td>[{u'created_on': u'2017-10-22T03:56:35.656612+...</td>\n",
       "      <td>15</td>\n",
       "      <td></td>\n",
       "      <td>31.0</td>\n",
       "      <td>11625</td>\n",
       "      <td>0</td>\n",
       "      <td>0</td>\n",
       "      <td>3</td>\n",
       "      <td>0.0</td>\n",
       "      <td>0.227566</td>\n",
       "      <td>0.084709</td>\n",
       "      <td>0.180187</td>\n",
       "      <td>0.222541</td>\n",
       "      <td>0.512563</td>\n",
       "      <td>0</td>\n",
       "    </tr>\n",
       "    <tr>\n",
       "      <th>244211</th>\n",
       "      <td>1994-09-27</td>\n",
       "      <td>0.794365</td>\n",
       "      <td>1</td>\n",
       "      <td>1</td>\n",
       "      <td>2018-01-22 17:09:54.480483</td>\n",
       "      <td>[{u'created_on': u'2018-01-19T21:44:25.739253+...</td>\n",
       "      <td>17</td>\n",
       "      <td>🍄🐢</td>\n",
       "      <td>23.0</td>\n",
       "      <td>8532</td>\n",
       "      <td>0</td>\n",
       "      <td>1</td>\n",
       "      <td>6</td>\n",
       "      <td>0.0</td>\n",
       "      <td>0.293893</td>\n",
       "      <td>0.024809</td>\n",
       "      <td>0.150763</td>\n",
       "      <td>0.437023</td>\n",
       "      <td>0.387405</td>\n",
       "      <td>0</td>\n",
       "    </tr>\n",
       "    <tr>\n",
       "      <th>256286</th>\n",
       "      <td>1996-10-23</td>\n",
       "      <td>0.321168</td>\n",
       "      <td>0</td>\n",
       "      <td>0</td>\n",
       "      <td>2018-01-14 23:05:18.539342</td>\n",
       "      <td>[{u'created_on': u'2016-10-06T02:21:14.432229+...</td>\n",
       "      <td>47</td>\n",
       "      <td>From Sac town! \\nAll about the bass😝 \\nSc:tguM...</td>\n",
       "      <td>21.0</td>\n",
       "      <td>7775</td>\n",
       "      <td>1</td>\n",
       "      <td>1</td>\n",
       "      <td>1</td>\n",
       "      <td>0.0</td>\n",
       "      <td>0.194379</td>\n",
       "      <td>0.175644</td>\n",
       "      <td>0.296253</td>\n",
       "      <td>0.199063</td>\n",
       "      <td>0.329040</td>\n",
       "      <td>0</td>\n",
       "    </tr>\n",
       "    <tr>\n",
       "      <th>247662</th>\n",
       "      <td>1992-11-23</td>\n",
       "      <td>0.230469</td>\n",
       "      <td>0</td>\n",
       "      <td>0</td>\n",
       "      <td>2018-01-21 01:08:56.720441</td>\n",
       "      <td>[{u'created_on': u'2017-12-29T16:30:28.929724+...</td>\n",
       "      <td>6</td>\n",
       "      <td></td>\n",
       "      <td>25.0</td>\n",
       "      <td>9205</td>\n",
       "      <td>1</td>\n",
       "      <td>0</td>\n",
       "      <td>4</td>\n",
       "      <td>0.0</td>\n",
       "      <td>0.275547</td>\n",
       "      <td>0.084854</td>\n",
       "      <td>0.065693</td>\n",
       "      <td>0.497263</td>\n",
       "      <td>0.352190</td>\n",
       "      <td>0</td>\n",
       "    </tr>\n",
       "  </tbody>\n",
       "</table>\n",
       "</div>"
      ],
      "text/plain": [
       "         birthday  crush_ratio  gender  has_instagram  \\\n",
       "pk                                                      \n",
       "263742 1997-09-21     0.772937       1              0   \n",
       "260988 1986-04-09     0.237527       0              0   \n",
       "244211 1994-09-27     0.794365       1              1   \n",
       "256286 1996-10-23     0.321168       0              0   \n",
       "247662 1992-11-23     0.230469       0              0   \n",
       "\n",
       "                       last_login  \\\n",
       "pk                                  \n",
       "263742 2017-12-25 21:22:11.543180   \n",
       "260988 2018-01-18 06:07:33.574752   \n",
       "244211 2018-01-22 17:09:54.480483   \n",
       "256286 2018-01-14 23:05:18.539342   \n",
       "247662 2018-01-21 01:08:56.720441   \n",
       "\n",
       "                                                  matches  \\\n",
       "pk                                                          \n",
       "263742  [{u'created_on': u'2017-08-27T18:11:21.556813+...   \n",
       "260988  [{u'created_on': u'2017-10-22T03:56:35.656612+...   \n",
       "244211  [{u'created_on': u'2018-01-19T21:44:25.739253+...   \n",
       "256286  [{u'created_on': u'2016-10-06T02:21:14.432229+...   \n",
       "247662  [{u'created_on': u'2017-12-29T16:30:28.929724+...   \n",
       "\n",
       "        peep_bubbles__count  \\\n",
       "pk                            \n",
       "263742                   19   \n",
       "260988                   15   \n",
       "244211                   17   \n",
       "256286                   47   \n",
       "247662                    6   \n",
       "\n",
       "                                                  tagline   age  age_in_days  \\\n",
       "pk                                                                             \n",
       "263742                                              🤷🏼‍♀️  20.0         7442   \n",
       "260988                                                     31.0        11625   \n",
       "244211                                                 🍄🐢  23.0         8532   \n",
       "256286  From Sac town! \\nAll about the bass😝 \\nSc:tguM...  21.0         7775   \n",
       "247662                                                     25.0         9205   \n",
       "\n",
       "        iphone_user  has_bio  avg_num_msgs  num_matches  pct_logins_wknd  \\\n",
       "pk                                                                         \n",
       "263742            0        1             2          0.0         0.086400   \n",
       "260988            0        0             3          0.0         0.227566   \n",
       "244211            0        1             6          0.0         0.293893   \n",
       "256286            1        1             1          0.0         0.194379   \n",
       "247662            1        0             4          0.0         0.275547   \n",
       "\n",
       "          Q1_pct    Q2_pct    Q3_pct    Q4_pct  churn  \n",
       "pk                                                     \n",
       "263742  0.068800  0.006400  0.392000  0.532800      0  \n",
       "260988  0.084709  0.180187  0.222541  0.512563      0  \n",
       "244211  0.024809  0.150763  0.437023  0.387405      0  \n",
       "256286  0.175644  0.296253  0.199063  0.329040      0  \n",
       "247662  0.084854  0.065693  0.497263  0.352190      0  "
      ]
     },
     "execution_count": 92,
     "metadata": {},
     "output_type": "execute_result"
    }
   ],
   "source": [
    "df_peeps.head()"
   ]
  },
  {
   "cell_type": "code",
   "execution_count": 43,
   "metadata": {},
   "outputs": [
    {
     "name": "stdout",
     "output_type": "stream",
     "text": [
      "<class 'pandas.core.frame.DataFrame'>\n",
      "Int64Index: 143302 entries, 263742 to 306280\n",
      "Data columns (total 12 columns):\n",
      "android_api_level      22972 non-null float64\n",
      "birthday               143302 non-null object\n",
      "country                100464 non-null object\n",
      "crush_ratio            143302 non-null float64\n",
      "gender                 143302 non-null object\n",
      "has_instagram          143302 non-null bool\n",
      "ios_system_version     88708 non-null object\n",
      "last_location          121891 non-null object\n",
      "last_login             143302 non-null object\n",
      "matches                143302 non-null object\n",
      "peep_bubbles__count    143302 non-null int64\n",
      "tagline                143302 non-null object\n",
      "dtypes: bool(1), float64(2), int64(1), object(8)\n",
      "memory usage: 13.3+ MB\n"
     ]
    }
   ],
   "source": [
    "df_peeps.info()"
   ]
  },
  {
   "cell_type": "code",
   "execution_count": 44,
   "metadata": {},
   "outputs": [],
   "source": [
    "df_peeps['last_login'] = pd.to_datetime(df_peeps['last_login'])"
   ]
  },
  {
   "cell_type": "code",
   "execution_count": 45,
   "metadata": {},
   "outputs": [],
   "source": [
    "# Feature Engineering - create age feature\n",
    "\n",
    "def calculate_age(bday):\n",
    "    today = dt.date.today()\n",
    "    return today.year - bday.year - ((today.month, today.day) < (bday.month, bday.day))\n",
    "\n",
    "df_peeps['birthday'].replace('1349-12-17', np.nan, inplace=True)\n",
    "df_peeps['birthday'] = pd.to_datetime(df_peeps['birthday'])\n",
    "df_peeps['age'] = df_peeps['birthday'].apply(calculate_age)\n",
    "df_peeps.dropna(subset=['age'], inplace=True)"
   ]
  },
  {
   "cell_type": "code",
   "execution_count": 46,
   "metadata": {},
   "outputs": [],
   "source": [
    "def calculate_age_in_days(bday):\n",
    "    today = dt.date.today()\n",
    "    age = today - bday.date()\n",
    "    return age.days\n",
    "\n",
    "df_peeps['age_in_days'] = df_peeps['birthday'].apply(calculate_age_in_days)"
   ]
  },
  {
   "cell_type": "code",
   "execution_count": 47,
   "metadata": {},
   "outputs": [
    {
     "data": {
      "image/png": "[encoded data removed]",
      "text/plain": [
       "<matplotlib.figure.Figure at 0x7feae4e617d0>"
      ]
     },
     "metadata": {},
     "output_type": "display_data"
    }
   ],
   "source": [
    "plt.hist(df_peeps['age'])\n",
    "plt.show()"
   ]
  },
  {
   "cell_type": "code",
   "execution_count": 48,
   "metadata": {},
   "outputs": [
    {
     "data": {
      "image/png": "[encoded data removed]",
      "text/plain": [
       "<matplotlib.figure.Figure at 0x7febc5703990>"
      ]
     },
     "metadata": {},
     "output_type": "display_data"
    }
   ],
   "source": [
    "plt.hist(df_peeps['age'], range=(0,20))\n",
    "plt.show()"
   ]
  },
  {
   "cell_type": "code",
   "execution_count": 49,
   "metadata": {},
   "outputs": [
    {
     "data": {
      "image/png": "[encoded data removed]",
      "text/plain": [
       "<matplotlib.figure.Figure at 0x7febc1911590>"
      ]
     },
     "metadata": {},
     "output_type": "display_data"
    }
   ],
   "source": [
    "plt.hist(df_peeps['age'], range=(45,120))\n",
    "plt.show()"
   ]
  },
  {
   "cell_type": "markdown",
   "metadata": {},
   "source": [
    "The two histograms above show user spikes at age <2 and >90 which is likely erroneous, so we will remove these observations from the dataset."
   ]
  },
  {
   "cell_type": "code",
   "execution_count": 50,
   "metadata": {},
   "outputs": [],
   "source": [
    "df_peeps = df_peeps[(df_peeps['age']>1) & (df_peeps['age']<90)]"
   ]
  },
  {
   "cell_type": "code",
   "execution_count": 51,
   "metadata": {},
   "outputs": [],
   "source": [
    "# Convert binary columns to 0's and 1's\n",
    "\n",
    "df_peeps['gender'] = df_peeps['gender'].replace({'m':0,'f':1}) #0 means male\n",
    "df_peeps['has_instagram'] = df_peeps['has_instagram'].map({True:1, False:0})\n",
    "df_peeps['iphone_user'] = pd.isnull(df_peeps['android_api_level']).map({True: 1, False: 0})\n",
    "\n",
    "df_peeps.drop(['ios_system_version','android_api_level'], axis=1, inplace=True)"
   ]
  },
  {
   "cell_type": "code",
   "execution_count": 52,
   "metadata": {},
   "outputs": [],
   "source": [
    "# drop country and last_location (we will look at location data in a cleaner way later)\n",
    "\n",
    "df_peeps.drop(['country', 'last_location'], axis=1, inplace=True)"
   ]
  },
  {
   "cell_type": "code",
   "execution_count": 53,
   "metadata": {},
   "outputs": [],
   "source": [
    "# Feature enginnering - create bio columns\n",
    "\n",
    "df_peeps['has_bio'] = df_peeps['tagline'].apply(lambda x: 0 if x=='' else 1)"
   ]
  },
  {
   "cell_type": "code",
   "execution_count": 54,
   "metadata": {},
   "outputs": [],
   "source": [
    "# Feature engineering - create avg num messages column\n",
    "\n",
    "def avg_num_msgs(row):\n",
    "    sum_msgs = 0\n",
    "    for d in row:\n",
    "        sum_msgs += d['num_privatemessages']\n",
    "        \n",
    "    total_matches = len(row)\n",
    "    if total_matches==0:\n",
    "        return 0\n",
    "    else:\n",
    "        return sum_msgs/total_matches\n",
    "    \n",
    "df_peeps['avg_num_msgs'] = df_peeps['matches'].apply(avg_num_msgs)"
   ]
  },
  {
   "cell_type": "code",
   "execution_count": 55,
   "metadata": {},
   "outputs": [],
   "source": [
    "# need to remove all matches with \"Rad the Rhino\", a robot who is matched with all users \n",
    "\n",
    "def remove_rad_match(row):\n",
    "    return row[1:]\n",
    "\n",
    "df_peeps['matches'] = df_peeps['matches'].apply(remove_rad_match)"
   ]
  },
  {
   "cell_type": "code",
   "execution_count": 56,
   "metadata": {},
   "outputs": [],
   "source": [
    "# Feature engineering - create num matches column\n",
    "\n",
    "df_peeps['num_matches'] = pd.Series([len(i) for i in df_peeps['matches']])\n",
    "df_peeps['num_matches'].fillna(0, inplace=True)\n",
    "\n",
    "df_peeps.drop('matches', axis=1, inplace=True)"
   ]
  },
  {
   "cell_type": "markdown",
   "metadata": {},
   "source": [
    "# Logins Dataframe"
   ]
  },
  {
   "cell_type": "code",
   "execution_count": 57,
   "metadata": {},
   "outputs": [],
   "source": [
    "df_logins = pd.read_csv('radiate_logins.csv', usecols=[1,2], parse_dates=['login'])"
   ]
  },
  {
   "cell_type": "code",
   "execution_count": 76,
   "metadata": {},
   "outputs": [
    {
     "data": {
      "text/html": [
       "<div>\n",
       "<style scoped>\n",
       "    .dataframe tbody tr th:only-of-type {\n",
       "        vertical-align: middle;\n",
       "    }\n",
       "\n",
       "    .dataframe tbody tr th {\n",
       "        vertical-align: top;\n",
       "    }\n",
       "\n",
       "    .dataframe thead th {\n",
       "        text-align: right;\n",
       "    }\n",
       "</style>\n",
       "<table border=\"1\" class=\"dataframe\">\n",
       "  <thead>\n",
       "    <tr style=\"text-align: right;\">\n",
       "      <th></th>\n",
       "      <th>pk</th>\n",
       "      <th>login</th>\n",
       "      <th>weekend</th>\n",
       "      <th>weekday</th>\n",
       "      <th>qtr</th>\n",
       "      <th>year</th>\n",
       "      <th>qtr_yr</th>\n",
       "      <th>_Q1-2016</th>\n",
       "      <th>_Q1-2017</th>\n",
       "      <th>_Q2-2016</th>\n",
       "      <th>_Q2-2017</th>\n",
       "      <th>_Q3-2016</th>\n",
       "      <th>_Q3-2017</th>\n",
       "      <th>_Q4-2016</th>\n",
       "      <th>_Q4-2017</th>\n",
       "    </tr>\n",
       "  </thead>\n",
       "  <tbody>\n",
       "    <tr>\n",
       "      <th>0</th>\n",
       "      <td>263742</td>\n",
       "      <td>2017-12-25 21:22:11.523082</td>\n",
       "      <td>0</td>\n",
       "      <td>1</td>\n",
       "      <td>Q4</td>\n",
       "      <td>2017</td>\n",
       "      <td>Q4-2017</td>\n",
       "      <td>0</td>\n",
       "      <td>0</td>\n",
       "      <td>0</td>\n",
       "      <td>0</td>\n",
       "      <td>0</td>\n",
       "      <td>0</td>\n",
       "      <td>0</td>\n",
       "      <td>1</td>\n",
       "    </tr>\n",
       "    <tr>\n",
       "      <th>1</th>\n",
       "      <td>263742</td>\n",
       "      <td>2017-12-25 21:10:39.479529</td>\n",
       "      <td>0</td>\n",
       "      <td>1</td>\n",
       "      <td>Q4</td>\n",
       "      <td>2017</td>\n",
       "      <td>Q4-2017</td>\n",
       "      <td>0</td>\n",
       "      <td>0</td>\n",
       "      <td>0</td>\n",
       "      <td>0</td>\n",
       "      <td>0</td>\n",
       "      <td>0</td>\n",
       "      <td>0</td>\n",
       "      <td>1</td>\n",
       "    </tr>\n",
       "    <tr>\n",
       "      <th>2</th>\n",
       "      <td>263742</td>\n",
       "      <td>2017-12-25 04:02:56.129357</td>\n",
       "      <td>0</td>\n",
       "      <td>1</td>\n",
       "      <td>Q4</td>\n",
       "      <td>2017</td>\n",
       "      <td>Q4-2017</td>\n",
       "      <td>0</td>\n",
       "      <td>0</td>\n",
       "      <td>0</td>\n",
       "      <td>0</td>\n",
       "      <td>0</td>\n",
       "      <td>0</td>\n",
       "      <td>0</td>\n",
       "      <td>1</td>\n",
       "    </tr>\n",
       "    <tr>\n",
       "      <th>3</th>\n",
       "      <td>263742</td>\n",
       "      <td>2017-12-25 04:02:23.743966</td>\n",
       "      <td>0</td>\n",
       "      <td>1</td>\n",
       "      <td>Q4</td>\n",
       "      <td>2017</td>\n",
       "      <td>Q4-2017</td>\n",
       "      <td>0</td>\n",
       "      <td>0</td>\n",
       "      <td>0</td>\n",
       "      <td>0</td>\n",
       "      <td>0</td>\n",
       "      <td>0</td>\n",
       "      <td>0</td>\n",
       "      <td>1</td>\n",
       "    </tr>\n",
       "    <tr>\n",
       "      <th>4</th>\n",
       "      <td>263742</td>\n",
       "      <td>2017-12-25 03:58:38.612911</td>\n",
       "      <td>0</td>\n",
       "      <td>1</td>\n",
       "      <td>Q4</td>\n",
       "      <td>2017</td>\n",
       "      <td>Q4-2017</td>\n",
       "      <td>0</td>\n",
       "      <td>0</td>\n",
       "      <td>0</td>\n",
       "      <td>0</td>\n",
       "      <td>0</td>\n",
       "      <td>0</td>\n",
       "      <td>0</td>\n",
       "      <td>1</td>\n",
       "    </tr>\n",
       "  </tbody>\n",
       "</table>\n",
       "</div>"
      ],
      "text/plain": [
       "       pk                      login  weekend  weekday qtr  year   qtr_yr  \\\n",
       "0  263742 2017-12-25 21:22:11.523082        0        1  Q4  2017  Q4-2017   \n",
       "1  263742 2017-12-25 21:10:39.479529        0        1  Q4  2017  Q4-2017   \n",
       "2  263742 2017-12-25 04:02:56.129357        0        1  Q4  2017  Q4-2017   \n",
       "3  263742 2017-12-25 04:02:23.743966        0        1  Q4  2017  Q4-2017   \n",
       "4  263742 2017-12-25 03:58:38.612911        0        1  Q4  2017  Q4-2017   \n",
       "\n",
       "   _Q1-2016  _Q1-2017  _Q2-2016  _Q2-2017  _Q3-2016  _Q3-2017  _Q4-2016  \\\n",
       "0         0         0         0         0         0         0         0   \n",
       "1         0         0         0         0         0         0         0   \n",
       "2         0         0         0         0         0         0         0   \n",
       "3         0         0         0         0         0         0         0   \n",
       "4         0         0         0         0         0         0         0   \n",
       "\n",
       "   _Q4-2017  \n",
       "0         1  \n",
       "1         1  \n",
       "2         1  \n",
       "3         1  \n",
       "4         1  "
      ]
     },
     "execution_count": 76,
     "metadata": {},
     "output_type": "execute_result"
    }
   ],
   "source": [
    "df_logins.head()"
   ]
  },
  {
   "cell_type": "code",
   "execution_count": 59,
   "metadata": {},
   "outputs": [
    {
     "name": "stdout",
     "output_type": "stream",
     "text": [
      "<class 'pandas.core.frame.DataFrame'>\n",
      "RangeIndex: 34549450 entries, 0 to 34549449\n",
      "Data columns (total 2 columns):\n",
      "pk       int64\n",
      "login    datetime64[ns]\n",
      "dtypes: datetime64[ns](1), int64(1)\n",
      "memory usage: 527.2 MB\n"
     ]
    }
   ],
   "source": [
    "df_logins.info()"
   ]
  },
  {
   "cell_type": "code",
   "execution_count": 60,
   "metadata": {},
   "outputs": [],
   "source": [
    "df_logins['weekend'] = np.where(df_logins['login'].dt.weekday>=5, 1, 0) #sat and sun\n",
    "df_logins['weekday'] = np.where(df_logins['login'].dt.weekday<5, 1, 0)\n",
    "\n",
    "# 0 is Monday and 6 is Sunday"
   ]
  },
  {
   "cell_type": "code",
   "execution_count": 61,
   "metadata": {},
   "outputs": [],
   "source": [
    "def calendar_qtr(row):\n",
    "    doy = row.timetuple().tm_yday\n",
    "    if doy in range(0, 92):\n",
    "        return 'Q1'\n",
    "    elif doy in range(92, 183):\n",
    "        return 'Q2'\n",
    "    elif doy in range(183, 274):\n",
    "        return 'Q3'\n",
    "    else:\n",
    "        return 'Q4'"
   ]
  },
  {
   "cell_type": "code",
   "execution_count": 62,
   "metadata": {},
   "outputs": [],
   "source": [
    "df_logins['qtr'] = df_logins['login'].apply(calendar_qtr)"
   ]
  },
  {
   "cell_type": "code",
   "execution_count": 63,
   "metadata": {},
   "outputs": [],
   "source": [
    "df_logins['year'] = df_logins['login'].dt.year"
   ]
  },
  {
   "cell_type": "code",
   "execution_count": 64,
   "metadata": {},
   "outputs": [],
   "source": [
    "# Exclude 2015 and 2018 since we don't have full years\n",
    "\n",
    "df_logins = df_logins[(df_logins['year']==2016) | (df_logins['year']==2017)]"
   ]
  },
  {
   "cell_type": "code",
   "execution_count": 65,
   "metadata": {},
   "outputs": [],
   "source": [
    "# Create qtr+year column\n",
    "\n",
    "df_logins['qtr_yr'] = df_logins['qtr'] + '-' + df_logins['year'].map(str)"
   ]
  },
  {
   "cell_type": "code",
   "execution_count": 66,
   "metadata": {},
   "outputs": [],
   "source": [
    "# Create dummies for qtr_yr and merge with \n",
    "\n",
    "qtr_yr_dum = pd.get_dummies(df_logins['qtr_yr'], prefix='')\n",
    "df_logins = pd.concat([df_logins, qtr_yr_dum], axis=1)\n",
    "\n",
    "# del qtr_yr_dum"
   ]
  },
  {
   "cell_type": "code",
   "execution_count": 67,
   "metadata": {},
   "outputs": [],
   "source": [
    "# df_logins = pd.read_pickle('df_logins.pkl')"
   ]
  },
  {
   "cell_type": "code",
   "execution_count": 68,
   "metadata": {},
   "outputs": [],
   "source": [
    "# 'groupby' the logins dataframe so we can analyze logins per user\n",
    "\n",
    "df_logins_groupby = df_logins.groupby('pk').sum()"
   ]
  },
  {
   "cell_type": "code",
   "execution_count": 69,
   "metadata": {},
   "outputs": [
    {
     "data": {
      "text/html": [
       "<div>\n",
       "<style scoped>\n",
       "    .dataframe tbody tr th:only-of-type {\n",
       "        vertical-align: middle;\n",
       "    }\n",
       "\n",
       "    .dataframe tbody tr th {\n",
       "        vertical-align: top;\n",
       "    }\n",
       "\n",
       "    .dataframe thead th {\n",
       "        text-align: right;\n",
       "    }\n",
       "</style>\n",
       "<table border=\"1\" class=\"dataframe\">\n",
       "  <thead>\n",
       "    <tr style=\"text-align: right;\">\n",
       "      <th></th>\n",
       "      <th>weekend</th>\n",
       "      <th>weekday</th>\n",
       "      <th>year</th>\n",
       "      <th>_Q1-2016</th>\n",
       "      <th>_Q1-2017</th>\n",
       "      <th>_Q2-2016</th>\n",
       "      <th>_Q2-2017</th>\n",
       "      <th>_Q3-2016</th>\n",
       "      <th>_Q3-2017</th>\n",
       "      <th>_Q4-2016</th>\n",
       "      <th>_Q4-2017</th>\n",
       "    </tr>\n",
       "    <tr>\n",
       "      <th>pk</th>\n",
       "      <th></th>\n",
       "      <th></th>\n",
       "      <th></th>\n",
       "      <th></th>\n",
       "      <th></th>\n",
       "      <th></th>\n",
       "      <th></th>\n",
       "      <th></th>\n",
       "      <th></th>\n",
       "      <th></th>\n",
       "      <th></th>\n",
       "    </tr>\n",
       "  </thead>\n",
       "  <tbody>\n",
       "    <tr>\n",
       "      <th>200016</th>\n",
       "      <td>8660</td>\n",
       "      <td>21326</td>\n",
       "      <td>60464982</td>\n",
       "      <td>7603.0</td>\n",
       "      <td>1450.0</td>\n",
       "      <td>4584.0</td>\n",
       "      <td>8386.0</td>\n",
       "      <td>3345.0</td>\n",
       "      <td>1375.0</td>\n",
       "      <td>1248.0</td>\n",
       "      <td>1995.0</td>\n",
       "    </tr>\n",
       "    <tr>\n",
       "      <th>200017</th>\n",
       "      <td>10587</td>\n",
       "      <td>32935</td>\n",
       "      <td>87761354</td>\n",
       "      <td>6151.0</td>\n",
       "      <td>5398.0</td>\n",
       "      <td>7090.0</td>\n",
       "      <td>7312.0</td>\n",
       "      <td>5503.0</td>\n",
       "      <td>3821.0</td>\n",
       "      <td>3776.0</td>\n",
       "      <td>4471.0</td>\n",
       "    </tr>\n",
       "    <tr>\n",
       "      <th>200019</th>\n",
       "      <td>6</td>\n",
       "      <td>12</td>\n",
       "      <td>36288</td>\n",
       "      <td>9.0</td>\n",
       "      <td>0.0</td>\n",
       "      <td>9.0</td>\n",
       "      <td>0.0</td>\n",
       "      <td>0.0</td>\n",
       "      <td>0.0</td>\n",
       "      <td>0.0</td>\n",
       "      <td>0.0</td>\n",
       "    </tr>\n",
       "    <tr>\n",
       "      <th>200020</th>\n",
       "      <td>55</td>\n",
       "      <td>87</td>\n",
       "      <td>286297</td>\n",
       "      <td>65.0</td>\n",
       "      <td>9.0</td>\n",
       "      <td>12.0</td>\n",
       "      <td>1.0</td>\n",
       "      <td>16.0</td>\n",
       "      <td>9.0</td>\n",
       "      <td>24.0</td>\n",
       "      <td>6.0</td>\n",
       "    </tr>\n",
       "    <tr>\n",
       "      <th>200029</th>\n",
       "      <td>28</td>\n",
       "      <td>159</td>\n",
       "      <td>377054</td>\n",
       "      <td>43.0</td>\n",
       "      <td>26.0</td>\n",
       "      <td>46.0</td>\n",
       "      <td>28.0</td>\n",
       "      <td>22.0</td>\n",
       "      <td>7.0</td>\n",
       "      <td>14.0</td>\n",
       "      <td>1.0</td>\n",
       "    </tr>\n",
       "  </tbody>\n",
       "</table>\n",
       "</div>"
      ],
      "text/plain": [
       "        weekend  weekday      year  _Q1-2016  _Q1-2017  _Q2-2016  _Q2-2017  \\\n",
       "pk                                                                           \n",
       "200016     8660    21326  60464982    7603.0    1450.0    4584.0    8386.0   \n",
       "200017    10587    32935  87761354    6151.0    5398.0    7090.0    7312.0   \n",
       "200019        6       12     36288       9.0       0.0       9.0       0.0   \n",
       "200020       55       87    286297      65.0       9.0      12.0       1.0   \n",
       "200029       28      159    377054      43.0      26.0      46.0      28.0   \n",
       "\n",
       "        _Q3-2016  _Q3-2017  _Q4-2016  _Q4-2017  \n",
       "pk                                              \n",
       "200016    3345.0    1375.0    1248.0    1995.0  \n",
       "200017    5503.0    3821.0    3776.0    4471.0  \n",
       "200019       0.0       0.0       0.0       0.0  \n",
       "200020      16.0       9.0      24.0       6.0  \n",
       "200029      22.0       7.0      14.0       1.0  "
      ]
     },
     "execution_count": 69,
     "metadata": {},
     "output_type": "execute_result"
    }
   ],
   "source": [
    "df_logins_groupby.head()"
   ]
  },
  {
   "cell_type": "code",
   "execution_count": 70,
   "metadata": {},
   "outputs": [],
   "source": [
    "# Feature engineering - create weekday/weekend and calendar quarter percent columns\n",
    "\n",
    "df_logins_groupby['total'] = df_logins_groupby['weekend']+df_logins_groupby['weekday']\n",
    "\n",
    "df_logins_groupby['pct_logins_wknd'] = df_logins_groupby['weekend']/df_logins_groupby['total']\n",
    "\n",
    "df_logins_groupby['Q1_pct'] = (df_logins_groupby['_Q1-2016']+df_logins_groupby['_Q1-2017'])/df_logins_groupby['total']\n",
    "df_logins_groupby['Q2_pct'] = (df_logins_groupby['_Q2-2016']+df_logins_groupby['_Q2-2017'])/df_logins_groupby['total']\n",
    "df_logins_groupby['Q3_pct'] = (df_logins_groupby['_Q3-2016']+df_logins_groupby['_Q3-2017'])/df_logins_groupby['total']\n",
    "df_logins_groupby['Q4_pct'] = (df_logins_groupby['_Q4-2016']+df_logins_groupby['_Q4-2017'])/df_logins_groupby['total']"
   ]
  },
  {
   "cell_type": "markdown",
   "metadata": {},
   "source": [
    "Note: I have included all quarters for now to make interpretation easier in EDA but I will drop Q1 later on to make it the baseline before running models"
   ]
  },
  {
   "cell_type": "markdown",
   "metadata": {},
   "source": [
    "Because music festivals are seasonal (more popular in late Spring, Summer, and early Fall), we want to analyze the data on a year-over-year basis. First, we define quarterly churn for each user. A value of 1 means that this user logged in in a particular calendar quarter last year, but not this year. \n",
    "\n",
    "The binary churn metric we will use is, if a user churned in any particular calendar quarter, they are considered a churn user."
   ]
  },
  {
   "cell_type": "code",
   "execution_count": 71,
   "metadata": {},
   "outputs": [],
   "source": [
    "def quarterly_churn(row16,row17):\n",
    "    if int(row16)>0 and int(row17)==0:\n",
    "        return 1\n",
    "    else:\n",
    "        return 0"
   ]
  },
  {
   "cell_type": "code",
   "execution_count": 72,
   "metadata": {},
   "outputs": [],
   "source": [
    "for q in ['_Q1','_Q2','_Q3','_Q4']:\n",
    "    col_16 = q+'-2016'\n",
    "    col_17 = q+'-2017'\n",
    "    churn = q[1:]+'_churn'\n",
    "    df_logins_groupby[churn] = df_logins_groupby.apply(lambda x: quarterly_churn(x[col_16], x[col_17]),axis=1)"
   ]
  },
  {
   "cell_type": "code",
   "execution_count": 73,
   "metadata": {},
   "outputs": [],
   "source": [
    "df_logins_groupby = df_logins_groupby[(df_logins_groupby['_Q1-2016']>0) |\n",
    "                                      (df_logins_groupby['_Q2-2016']>0) |\n",
    "                                      (df_logins_groupby['_Q3-2016']>0) |\n",
    "                                      (df_logins_groupby['_Q4-2016']>0) ]"
   ]
  },
  {
   "cell_type": "markdown",
   "metadata": {},
   "source": [
    "We will only look at users who we have data from 2016 for since we are using a year-over-year churn definition from 2016 to 2017."
   ]
  },
  {
   "cell_type": "code",
   "execution_count": 74,
   "metadata": {},
   "outputs": [],
   "source": [
    "df_logins_groupby['churn'] = np.where((df_logins_groupby['Q1_churn']>0)|\n",
    "                                      (df_logins_groupby['Q2_churn']>0)|\n",
    "                                      (df_logins_groupby['Q3_churn']>0)|\n",
    "                                      (df_logins_groupby['Q4_churn']>0), 1, 0)"
   ]
  },
  {
   "cell_type": "code",
   "execution_count": 75,
   "metadata": {},
   "outputs": [],
   "source": [
    "# Merge with df_peeps (by-user dataframe)\n",
    "\n",
    "df_peeps = df_peeps.merge(df_logins_groupby[['pct_logins_wknd','Q1_pct','Q2_pct','Q3_pct','Q4_pct','churn']], left_index=True, right_index=True)\n",
    "del df_logins_groupby"
   ]
  },
  {
   "cell_type": "markdown",
   "metadata": {},
   "source": [
    "# Bubbles"
   ]
  },
  {
   "cell_type": "code",
   "execution_count": 93,
   "metadata": {},
   "outputs": [],
   "source": [
    "df_bubbles = pd.read_json('radiate_bubbles.json', convert_dates=['date_start','date_end'])"
   ]
  },
  {
   "cell_type": "code",
   "execution_count": 94,
   "metadata": {},
   "outputs": [],
   "source": [
    "df_bubbles = df_bubbles.set_index('bubble_id')"
   ]
  },
  {
   "cell_type": "code",
   "execution_count": 95,
   "metadata": {},
   "outputs": [
    {
     "data": {
      "text/html": [
       "<div>\n",
       "<style scoped>\n",
       "    .dataframe tbody tr th:only-of-type {\n",
       "        vertical-align: middle;\n",
       "    }\n",
       "\n",
       "    .dataframe tbody tr th {\n",
       "        vertical-align: top;\n",
       "    }\n",
       "\n",
       "    .dataframe thead th {\n",
       "        text-align: right;\n",
       "    }\n",
       "</style>\n",
       "<table border=\"1\" class=\"dataframe\">\n",
       "  <thead>\n",
       "    <tr style=\"text-align: right;\">\n",
       "      <th></th>\n",
       "      <th>address</th>\n",
       "      <th>date_end</th>\n",
       "      <th>date_start</th>\n",
       "      <th>display_name</th>\n",
       "    </tr>\n",
       "    <tr>\n",
       "      <th>bubble_id</th>\n",
       "      <th></th>\n",
       "      <th></th>\n",
       "      <th></th>\n",
       "      <th></th>\n",
       "    </tr>\n",
       "  </thead>\n",
       "  <tbody>\n",
       "    <tr>\n",
       "      <th>205</th>\n",
       "      <td>Todd Mission, TX</td>\n",
       "      <td>2017-05-07</td>\n",
       "      <td>2017-05-05</td>\n",
       "      <td>Middlelands</td>\n",
       "    </tr>\n",
       "    <tr>\n",
       "      <th>179</th>\n",
       "      <td>Nos Events Center, CA</td>\n",
       "      <td>2017-11-25</td>\n",
       "      <td>2017-11-24</td>\n",
       "      <td>Dreamstate</td>\n",
       "    </tr>\n",
       "    <tr>\n",
       "      <th>46</th>\n",
       "      <td>San Bernardino, CA</td>\n",
       "      <td>2017-09-16</td>\n",
       "      <td>2017-09-15</td>\n",
       "      <td>Nocturnal Wonderland</td>\n",
       "    </tr>\n",
       "    <tr>\n",
       "      <th>278</th>\n",
       "      <td>Oklahoma City, OK</td>\n",
       "      <td>2017-08-19</td>\n",
       "      <td>2017-08-19</td>\n",
       "      <td>DayDream</td>\n",
       "    </tr>\n",
       "    <tr>\n",
       "      <th>54</th>\n",
       "      <td>Atlantic City, NJ</td>\n",
       "      <td>2016-08-02</td>\n",
       "      <td>2016-08-01</td>\n",
       "      <td>Electric Adventure</td>\n",
       "    </tr>\n",
       "  </tbody>\n",
       "</table>\n",
       "</div>"
      ],
      "text/plain": [
       "                         address   date_end date_start          display_name\n",
       "bubble_id                                                                   \n",
       "205             Todd Mission, TX 2017-05-07 2017-05-05           Middlelands\n",
       "179        Nos Events Center, CA 2017-11-25 2017-11-24            Dreamstate\n",
       "46            San Bernardino, CA 2017-09-16 2017-09-15  Nocturnal Wonderland\n",
       "278            Oklahoma City, OK 2017-08-19 2017-08-19              DayDream\n",
       "54             Atlantic City, NJ 2016-08-02 2016-08-01    Electric Adventure"
      ]
     },
     "execution_count": 95,
     "metadata": {},
     "output_type": "execute_result"
    }
   ],
   "source": [
    "df_bubbles.head()"
   ]
  },
  {
   "cell_type": "code",
   "execution_count": 96,
   "metadata": {},
   "outputs": [
    {
     "name": "stdout",
     "output_type": "stream",
     "text": [
      "<class 'pandas.core.frame.DataFrame'>\n",
      "Int64Index: 217 entries, 205 to 224\n",
      "Data columns (total 4 columns):\n",
      "address         217 non-null object\n",
      "date_end        217 non-null datetime64[ns]\n",
      "date_start      217 non-null datetime64[ns]\n",
      "display_name    217 non-null object\n",
      "dtypes: datetime64[ns](2), object(2)\n",
      "memory usage: 8.5+ KB\n"
     ]
    }
   ],
   "source": [
    "df_bubbles.info()"
   ]
  },
  {
   "cell_type": "code",
   "execution_count": 97,
   "metadata": {},
   "outputs": [],
   "source": [
    "def get_loc(row):\n",
    "    ix = row.find(',')\n",
    "    return row[ix+2:].upper()\n",
    "\n",
    "df_bubbles['festival_loc'] = df_bubbles['address'].apply(get_loc)"
   ]
  },
  {
   "cell_type": "code",
   "execution_count": 98,
   "metadata": {},
   "outputs": [],
   "source": [
    "df_bubbles.replace({\n",
    "    'CALIFORNIA':'CA',\n",
    "    'OREGON':'OR',\n",
    "    'MICHIGAN':'MI',\n",
    "    'WEST VIRGINIA':'WV',\n",
    "    'OHIO':'OH',\n",
    "    'ARIZONA':'AZ',\n",
    "    'VIRGINIA':'VA',\n",
    "    'TEXAS':'TX',\n",
    "    'FLORIDA':'FL',\n",
    "    'CHICAGO, MICHIGAN':'IL', #just calling this IL\n",
    "    'DELAWARE':'DE',\n",
    "    'NITED KINGDOM':'UNITED KINGDOM',\n",
    "    'UK':'UNITED KINGDOM',\n",
    "    '.C. / BALTIMORE':'MD',\n",
    "    'ITI FIELD':'NY',\n",
    "    'ON':'CANADA'\n",
    "}, inplace=True)"
   ]
  },
  {
   "cell_type": "code",
   "execution_count": 99,
   "metadata": {},
   "outputs": [
    {
     "data": {
      "text/plain": [
       "CA        38\n",
       "FL        18\n",
       "TX        17\n",
       "NY        16\n",
       "CANADA    12\n",
       "Name: festival_loc, dtype: int64"
      ]
     },
     "execution_count": 99,
     "metadata": {},
     "output_type": "execute_result"
    }
   ],
   "source": [
    "df_bubbles['festival_loc'].value_counts().head()\n",
    "\n",
    "# location counts have a long tail so I'm going to group them into \n",
    "# census regions to get more of an idea of general trends"
   ]
  },
  {
   "cell_type": "code",
   "execution_count": 100,
   "metadata": {},
   "outputs": [],
   "source": [
    "census = pd.read_csv('census_divisions.csv')"
   ]
  },
  {
   "cell_type": "code",
   "execution_count": 101,
   "metadata": {},
   "outputs": [
    {
     "data": {
      "text/html": [
       "<div>\n",
       "<style scoped>\n",
       "    .dataframe tbody tr th:only-of-type {\n",
       "        vertical-align: middle;\n",
       "    }\n",
       "\n",
       "    .dataframe tbody tr th {\n",
       "        vertical-align: top;\n",
       "    }\n",
       "\n",
       "    .dataframe thead th {\n",
       "        text-align: right;\n",
       "    }\n",
       "</style>\n",
       "<table border=\"1\" class=\"dataframe\">\n",
       "  <thead>\n",
       "    <tr style=\"text-align: right;\">\n",
       "      <th></th>\n",
       "      <th>State</th>\n",
       "      <th>State Code</th>\n",
       "      <th>Region</th>\n",
       "      <th>Division</th>\n",
       "    </tr>\n",
       "  </thead>\n",
       "  <tbody>\n",
       "    <tr>\n",
       "      <th>0</th>\n",
       "      <td>Alaska</td>\n",
       "      <td>AK</td>\n",
       "      <td>West</td>\n",
       "      <td>Pacific</td>\n",
       "    </tr>\n",
       "    <tr>\n",
       "      <th>1</th>\n",
       "      <td>Alabama</td>\n",
       "      <td>AL</td>\n",
       "      <td>South</td>\n",
       "      <td>East South Central</td>\n",
       "    </tr>\n",
       "    <tr>\n",
       "      <th>2</th>\n",
       "      <td>Arkansas</td>\n",
       "      <td>AR</td>\n",
       "      <td>South</td>\n",
       "      <td>West South Central</td>\n",
       "    </tr>\n",
       "    <tr>\n",
       "      <th>3</th>\n",
       "      <td>Arizona</td>\n",
       "      <td>AZ</td>\n",
       "      <td>West</td>\n",
       "      <td>Mountain</td>\n",
       "    </tr>\n",
       "    <tr>\n",
       "      <th>4</th>\n",
       "      <td>California</td>\n",
       "      <td>CA</td>\n",
       "      <td>West</td>\n",
       "      <td>Pacific</td>\n",
       "    </tr>\n",
       "  </tbody>\n",
       "</table>\n",
       "</div>"
      ],
      "text/plain": [
       "        State State Code Region            Division\n",
       "0      Alaska         AK   West             Pacific\n",
       "1     Alabama         AL  South  East South Central\n",
       "2    Arkansas         AR  South  West South Central\n",
       "3     Arizona         AZ   West            Mountain\n",
       "4  California         CA   West             Pacific"
      ]
     },
     "execution_count": 101,
     "metadata": {},
     "output_type": "execute_result"
    }
   ],
   "source": [
    "census.head()"
   ]
  },
  {
   "cell_type": "code",
   "execution_count": 102,
   "metadata": {},
   "outputs": [],
   "source": [
    "df_bubbles = df_bubbles.merge(census, how ='left', left_on='festival_loc', right_on='State Code')\n",
    "df_bubbles.drop(['State', 'State Code', 'Region'], axis=1, inplace=True)"
   ]
  },
  {
   "cell_type": "code",
   "execution_count": 103,
   "metadata": {},
   "outputs": [],
   "source": [
    "df_bubbles.rename(columns={'Division':'Region'}, inplace=True)"
   ]
  },
  {
   "cell_type": "code",
   "execution_count": 104,
   "metadata": {},
   "outputs": [
    {
     "data": {
      "text/plain": [
       "CANADA            12\n",
       "UNITED KINGDOM     4\n",
       "FRANCE             4\n",
       "BELGIUM            2\n",
       "GERMANY            2\n",
       "MEXICO             2\n",
       "NETHERLANDS        2\n",
       "HUNGARY            1\n",
       "CROATIA            1\n",
       "IRELAND            1\n",
       "INDIA              1\n",
       "ICELAND            1\n",
       "WHENEVER           1\n",
       "ROMANIA            1\n",
       "Name: festival_loc, dtype: int64"
      ]
     },
     "execution_count": 104,
     "metadata": {},
     "output_type": "execute_result"
    }
   ],
   "source": [
    "# Inspect Non-US festivals\n",
    "\n",
    "df_bubbles[df_bubbles['Region'].isnull()]['festival_loc'].value_counts()"
   ]
  },
  {
   "cell_type": "code",
   "execution_count": 105,
   "metadata": {},
   "outputs": [],
   "source": [
    "df_bubbles.loc[df_bubbles['festival_loc']=='CANADA', 'Region'] = 'Canada'\n",
    "df_bubbles.loc[df_bubbles['festival_loc']=='MEXICO', 'Region'] = 'Mexico'\n",
    "df_bubbles.loc[(df_bubbles['festival_loc']=='INDIA')|(df_bubbles['festival_loc']=='WHEREVER'), 'Region'] = 'Misc'\n",
    "df_bubbles['Region'].fillna('Europe', inplace=True)"
   ]
  },
  {
   "cell_type": "code",
   "execution_count": 106,
   "metadata": {},
   "outputs": [],
   "source": [
    "region_dum = pd.get_dummies(df_bubbles['Region'], prefix='festival_region')\n",
    "df_bubbles = pd.concat([df_bubbles, region_dum], axis=1)\n",
    "del region_dum"
   ]
  },
  {
   "cell_type": "code",
   "execution_count": 107,
   "metadata": {},
   "outputs": [],
   "source": [
    "df_bubbles['qtr'] = df_bubbles['date_start'].apply(calendar_qtr)\n",
    "qtr_dums = pd.get_dummies(df_bubbles['qtr'])\n",
    "df_bubbles = pd.concat([df_bubbles, qtr_dums],axis=1)\n",
    "\n",
    "df_bubbles.drop('qtr', axis=1, inplace=True)\n",
    "del qtr_dums"
   ]
  },
  {
   "cell_type": "code",
   "execution_count": 108,
   "metadata": {},
   "outputs": [],
   "source": [
    "# Feature Engineering - create avg festival length feature\n",
    "df_bubbles['festival_length'] = (df_bubbles['date_end'] - df_bubbles['date_start']).dt.days"
   ]
  },
  {
   "cell_type": "markdown",
   "metadata": {},
   "source": [
    "# Peep Bubbles\n",
    "\n",
    "Each row in this dataframe is for a specific bubble/user combination, so we have bubble and user-specific info"
   ]
  },
  {
   "cell_type": "code",
   "execution_count": 109,
   "metadata": {},
   "outputs": [],
   "source": [
    "df_peep_bubbles = pd.read_csv('radiate_peep_bubbles.csv', usecols=[1,3,4])"
   ]
  },
  {
   "cell_type": "code",
   "execution_count": 110,
   "metadata": {},
   "outputs": [],
   "source": [
    "# merge bubbles with peep bubbles so we can get peep-specific info to later merge w/ main df\n",
    "df_peep_bubbles = df_peep_bubbles.merge(df_bubbles, left_on='bubble_id', right_index=True)"
   ]
  },
  {
   "cell_type": "code",
   "execution_count": 111,
   "metadata": {},
   "outputs": [
    {
     "data": {
      "text/html": [
       "<div>\n",
       "<style scoped>\n",
       "    .dataframe tbody tr th:only-of-type {\n",
       "        vertical-align: middle;\n",
       "    }\n",
       "\n",
       "    .dataframe tbody tr th {\n",
       "        vertical-align: top;\n",
       "    }\n",
       "\n",
       "    .dataframe thead th {\n",
       "        text-align: right;\n",
       "    }\n",
       "</style>\n",
       "<table border=\"1\" class=\"dataframe\">\n",
       "  <thead>\n",
       "    <tr style=\"text-align: right;\">\n",
       "      <th></th>\n",
       "      <th>bubble_id</th>\n",
       "      <th>joined_status</th>\n",
       "      <th>pk</th>\n",
       "      <th>address</th>\n",
       "      <th>date_end</th>\n",
       "      <th>date_start</th>\n",
       "      <th>display_name</th>\n",
       "      <th>festival_loc</th>\n",
       "      <th>Region</th>\n",
       "      <th>festival_region_Canada</th>\n",
       "      <th>...</th>\n",
       "      <th>festival_region_New England</th>\n",
       "      <th>festival_region_Pacific</th>\n",
       "      <th>festival_region_South Atlantic</th>\n",
       "      <th>festival_region_West North Central</th>\n",
       "      <th>festival_region_West South Central</th>\n",
       "      <th>Q1</th>\n",
       "      <th>Q2</th>\n",
       "      <th>Q3</th>\n",
       "      <th>Q4</th>\n",
       "      <th>festival_length</th>\n",
       "    </tr>\n",
       "  </thead>\n",
       "  <tbody>\n",
       "    <tr>\n",
       "      <th>0</th>\n",
       "      <td>23</td>\n",
       "      <td>NO</td>\n",
       "      <td>263742</td>\n",
       "      <td>Mountain View, CA</td>\n",
       "      <td>2017-07-15</td>\n",
       "      <td>2017-07-15</td>\n",
       "      <td>Audiotistic</td>\n",
       "      <td>CA</td>\n",
       "      <td>Pacific</td>\n",
       "      <td>0</td>\n",
       "      <td>...</td>\n",
       "      <td>0</td>\n",
       "      <td>1</td>\n",
       "      <td>0</td>\n",
       "      <td>0</td>\n",
       "      <td>0</td>\n",
       "      <td>0</td>\n",
       "      <td>0</td>\n",
       "      <td>1</td>\n",
       "      <td>0</td>\n",
       "      <td>0</td>\n",
       "    </tr>\n",
       "    <tr>\n",
       "      <th>69</th>\n",
       "      <td>23</td>\n",
       "      <td>YES</td>\n",
       "      <td>292558</td>\n",
       "      <td>Mountain View, CA</td>\n",
       "      <td>2017-07-15</td>\n",
       "      <td>2017-07-15</td>\n",
       "      <td>Audiotistic</td>\n",
       "      <td>CA</td>\n",
       "      <td>Pacific</td>\n",
       "      <td>0</td>\n",
       "      <td>...</td>\n",
       "      <td>0</td>\n",
       "      <td>1</td>\n",
       "      <td>0</td>\n",
       "      <td>0</td>\n",
       "      <td>0</td>\n",
       "      <td>0</td>\n",
       "      <td>0</td>\n",
       "      <td>1</td>\n",
       "      <td>0</td>\n",
       "      <td>0</td>\n",
       "    </tr>\n",
       "    <tr>\n",
       "      <th>83</th>\n",
       "      <td>23</td>\n",
       "      <td>YES</td>\n",
       "      <td>328806</td>\n",
       "      <td>Mountain View, CA</td>\n",
       "      <td>2017-07-15</td>\n",
       "      <td>2017-07-15</td>\n",
       "      <td>Audiotistic</td>\n",
       "      <td>CA</td>\n",
       "      <td>Pacific</td>\n",
       "      <td>0</td>\n",
       "      <td>...</td>\n",
       "      <td>0</td>\n",
       "      <td>1</td>\n",
       "      <td>0</td>\n",
       "      <td>0</td>\n",
       "      <td>0</td>\n",
       "      <td>0</td>\n",
       "      <td>0</td>\n",
       "      <td>1</td>\n",
       "      <td>0</td>\n",
       "      <td>0</td>\n",
       "    </tr>\n",
       "    <tr>\n",
       "      <th>103</th>\n",
       "      <td>23</td>\n",
       "      <td>YES</td>\n",
       "      <td>283681</td>\n",
       "      <td>Mountain View, CA</td>\n",
       "      <td>2017-07-15</td>\n",
       "      <td>2017-07-15</td>\n",
       "      <td>Audiotistic</td>\n",
       "      <td>CA</td>\n",
       "      <td>Pacific</td>\n",
       "      <td>0</td>\n",
       "      <td>...</td>\n",
       "      <td>0</td>\n",
       "      <td>1</td>\n",
       "      <td>0</td>\n",
       "      <td>0</td>\n",
       "      <td>0</td>\n",
       "      <td>0</td>\n",
       "      <td>0</td>\n",
       "      <td>1</td>\n",
       "      <td>0</td>\n",
       "      <td>0</td>\n",
       "    </tr>\n",
       "    <tr>\n",
       "      <th>108</th>\n",
       "      <td>23</td>\n",
       "      <td>YES</td>\n",
       "      <td>339394</td>\n",
       "      <td>Mountain View, CA</td>\n",
       "      <td>2017-07-15</td>\n",
       "      <td>2017-07-15</td>\n",
       "      <td>Audiotistic</td>\n",
       "      <td>CA</td>\n",
       "      <td>Pacific</td>\n",
       "      <td>0</td>\n",
       "      <td>...</td>\n",
       "      <td>0</td>\n",
       "      <td>1</td>\n",
       "      <td>0</td>\n",
       "      <td>0</td>\n",
       "      <td>0</td>\n",
       "      <td>0</td>\n",
       "      <td>0</td>\n",
       "      <td>1</td>\n",
       "      <td>0</td>\n",
       "      <td>0</td>\n",
       "    </tr>\n",
       "  </tbody>\n",
       "</table>\n",
       "<p>5 rows × 27 columns</p>\n",
       "</div>"
      ],
      "text/plain": [
       "     bubble_id joined_status      pk            address   date_end date_start  \\\n",
       "0           23            NO  263742  Mountain View, CA 2017-07-15 2017-07-15   \n",
       "69          23           YES  292558  Mountain View, CA 2017-07-15 2017-07-15   \n",
       "83          23           YES  328806  Mountain View, CA 2017-07-15 2017-07-15   \n",
       "103         23           YES  283681  Mountain View, CA 2017-07-15 2017-07-15   \n",
       "108         23           YES  339394  Mountain View, CA 2017-07-15 2017-07-15   \n",
       "\n",
       "    display_name festival_loc   Region  festival_region_Canada  \\\n",
       "0    Audiotistic           CA  Pacific                       0   \n",
       "69   Audiotistic           CA  Pacific                       0   \n",
       "83   Audiotistic           CA  Pacific                       0   \n",
       "103  Audiotistic           CA  Pacific                       0   \n",
       "108  Audiotistic           CA  Pacific                       0   \n",
       "\n",
       "          ...         festival_region_New England  festival_region_Pacific  \\\n",
       "0         ...                                   0                        1   \n",
       "69        ...                                   0                        1   \n",
       "83        ...                                   0                        1   \n",
       "103       ...                                   0                        1   \n",
       "108       ...                                   0                        1   \n",
       "\n",
       "     festival_region_South Atlantic  festival_region_West North Central  \\\n",
       "0                                 0                                   0   \n",
       "69                                0                                   0   \n",
       "83                                0                                   0   \n",
       "103                               0                                   0   \n",
       "108                               0                                   0   \n",
       "\n",
       "     festival_region_West South Central  Q1  Q2  Q3  Q4  festival_length  \n",
       "0                                     0   0   0   1   0                0  \n",
       "69                                    0   0   0   1   0                0  \n",
       "83                                    0   0   0   1   0                0  \n",
       "103                                   0   0   0   1   0                0  \n",
       "108                                   0   0   0   1   0                0  \n",
       "\n",
       "[5 rows x 27 columns]"
      ]
     },
     "execution_count": 111,
     "metadata": {},
     "output_type": "execute_result"
    }
   ],
   "source": [
    "df_peep_bubbles.head()"
   ]
  },
  {
   "cell_type": "code",
   "execution_count": 112,
   "metadata": {},
   "outputs": [],
   "source": [
    "join_dums = pd.get_dummies(df_peep_bubbles['joined_status'], prefix='joined')\n",
    "df_peep_bubbles = pd.concat([df_peep_bubbles, join_dums], axis=1).drop('joined_status', axis=1)\n",
    "\n",
    "del join_dums"
   ]
  },
  {
   "cell_type": "code",
   "execution_count": 113,
   "metadata": {},
   "outputs": [],
   "source": [
    "df_peep_bubbles_groupby = df_peep_bubbles.groupby('pk').sum()"
   ]
  },
  {
   "cell_type": "code",
   "execution_count": 114,
   "metadata": {},
   "outputs": [],
   "source": [
    "df_peep_bubbles_groupby = df_peep_bubbles.groupby('pk').sum()\n",
    "df_fest_len = df_peep_bubbles.groupby('pk')['festival_length'].mean().to_frame()"
   ]
  },
  {
   "cell_type": "code",
   "execution_count": 115,
   "metadata": {},
   "outputs": [],
   "source": [
    "# Feature Engineering - Create Avg Festival Length feature\n",
    "\n",
    "df_peep_bubbles_groupby = df_peep_bubbles.groupby('pk').sum()\n",
    "df_fest_len = df_peep_bubbles.groupby('pk')['festival_length'].mean().to_frame()\n",
    "df_fest_len.rename(columns={'festival_length':'avg_festival_length'}, inplace=True)\n",
    "\n",
    "df_peep_bubbles_groupby = df_peep_bubbles_groupby.merge(df_fest_len, left_index=True, right_index=True)\n",
    "df_peep_bubbles.drop('festival_length', axis=1, inplace=True)"
   ]
  },
  {
   "cell_type": "code",
   "execution_count": 116,
   "metadata": {},
   "outputs": [],
   "source": [
    "# Feature Engineering - percent of peeps left\n",
    "\n",
    "df_peep_bubbles_groupby['total'] = df_peep_bubbles_groupby[['joined_MAYBE','joined_YES','joined_NO']].sum(axis=1)\n",
    "df_peep_bubbles_groupby['pct_peeps_left'] = 1.*df_peep_bubbles_groupby['joined_NO']/df_peep_bubbles_groupby['total']"
   ]
  },
  {
   "cell_type": "code",
   "execution_count": 117,
   "metadata": {},
   "outputs": [
    {
     "data": {
      "text/html": [
       "<div>\n",
       "<style scoped>\n",
       "    .dataframe tbody tr th:only-of-type {\n",
       "        vertical-align: middle;\n",
       "    }\n",
       "\n",
       "    .dataframe tbody tr th {\n",
       "        vertical-align: top;\n",
       "    }\n",
       "\n",
       "    .dataframe thead th {\n",
       "        text-align: right;\n",
       "    }\n",
       "</style>\n",
       "<table border=\"1\" class=\"dataframe\">\n",
       "  <thead>\n",
       "    <tr style=\"text-align: right;\">\n",
       "      <th></th>\n",
       "      <th>bubble_id</th>\n",
       "      <th>festival_region_Canada</th>\n",
       "      <th>festival_region_East North Central</th>\n",
       "      <th>festival_region_East South Central</th>\n",
       "      <th>festival_region_Europe</th>\n",
       "      <th>festival_region_Mexico</th>\n",
       "      <th>festival_region_Middle Atlantic</th>\n",
       "      <th>festival_region_Misc</th>\n",
       "      <th>festival_region_Mountain</th>\n",
       "      <th>festival_region_New England</th>\n",
       "      <th>...</th>\n",
       "      <th>Q2</th>\n",
       "      <th>Q3</th>\n",
       "      <th>Q4</th>\n",
       "      <th>festival_length</th>\n",
       "      <th>joined_MAYBE</th>\n",
       "      <th>joined_NO</th>\n",
       "      <th>joined_YES</th>\n",
       "      <th>avg_festival_length</th>\n",
       "      <th>total</th>\n",
       "      <th>pct_peeps_left</th>\n",
       "    </tr>\n",
       "    <tr>\n",
       "      <th>pk</th>\n",
       "      <th></th>\n",
       "      <th></th>\n",
       "      <th></th>\n",
       "      <th></th>\n",
       "      <th></th>\n",
       "      <th></th>\n",
       "      <th></th>\n",
       "      <th></th>\n",
       "      <th></th>\n",
       "      <th></th>\n",
       "      <th></th>\n",
       "      <th></th>\n",
       "      <th></th>\n",
       "      <th></th>\n",
       "      <th></th>\n",
       "      <th></th>\n",
       "      <th></th>\n",
       "      <th></th>\n",
       "      <th></th>\n",
       "      <th></th>\n",
       "      <th></th>\n",
       "    </tr>\n",
       "  </thead>\n",
       "  <tbody>\n",
       "    <tr>\n",
       "      <th>200016</th>\n",
       "      <td>9892</td>\n",
       "      <td>4</td>\n",
       "      <td>7</td>\n",
       "      <td>2</td>\n",
       "      <td>11</td>\n",
       "      <td>0</td>\n",
       "      <td>10</td>\n",
       "      <td>1</td>\n",
       "      <td>11</td>\n",
       "      <td>1</td>\n",
       "      <td>...</td>\n",
       "      <td>31</td>\n",
       "      <td>38</td>\n",
       "      <td>26</td>\n",
       "      <td>195</td>\n",
       "      <td>22</td>\n",
       "      <td>39</td>\n",
       "      <td>46</td>\n",
       "      <td>1.822430</td>\n",
       "      <td>107</td>\n",
       "      <td>0.364486</td>\n",
       "    </tr>\n",
       "    <tr>\n",
       "      <th>200017</th>\n",
       "      <td>20884</td>\n",
       "      <td>7</td>\n",
       "      <td>15</td>\n",
       "      <td>2</td>\n",
       "      <td>18</td>\n",
       "      <td>2</td>\n",
       "      <td>21</td>\n",
       "      <td>1</td>\n",
       "      <td>20</td>\n",
       "      <td>4</td>\n",
       "      <td>...</td>\n",
       "      <td>38</td>\n",
       "      <td>74</td>\n",
       "      <td>45</td>\n",
       "      <td>324</td>\n",
       "      <td>5</td>\n",
       "      <td>38</td>\n",
       "      <td>134</td>\n",
       "      <td>1.830508</td>\n",
       "      <td>177</td>\n",
       "      <td>0.214689</td>\n",
       "    </tr>\n",
       "    <tr>\n",
       "      <th>200019</th>\n",
       "      <td>1293</td>\n",
       "      <td>0</td>\n",
       "      <td>3</td>\n",
       "      <td>1</td>\n",
       "      <td>1</td>\n",
       "      <td>0</td>\n",
       "      <td>3</td>\n",
       "      <td>0</td>\n",
       "      <td>2</td>\n",
       "      <td>0</td>\n",
       "      <td>...</td>\n",
       "      <td>7</td>\n",
       "      <td>7</td>\n",
       "      <td>4</td>\n",
       "      <td>37</td>\n",
       "      <td>1</td>\n",
       "      <td>0</td>\n",
       "      <td>18</td>\n",
       "      <td>1.947368</td>\n",
       "      <td>19</td>\n",
       "      <td>0.000000</td>\n",
       "    </tr>\n",
       "    <tr>\n",
       "      <th>200020</th>\n",
       "      <td>3079</td>\n",
       "      <td>2</td>\n",
       "      <td>3</td>\n",
       "      <td>2</td>\n",
       "      <td>7</td>\n",
       "      <td>1</td>\n",
       "      <td>4</td>\n",
       "      <td>1</td>\n",
       "      <td>4</td>\n",
       "      <td>1</td>\n",
       "      <td>...</td>\n",
       "      <td>16</td>\n",
       "      <td>18</td>\n",
       "      <td>9</td>\n",
       "      <td>97</td>\n",
       "      <td>5</td>\n",
       "      <td>0</td>\n",
       "      <td>45</td>\n",
       "      <td>1.940000</td>\n",
       "      <td>50</td>\n",
       "      <td>0.000000</td>\n",
       "    </tr>\n",
       "    <tr>\n",
       "      <th>200029</th>\n",
       "      <td>1295</td>\n",
       "      <td>1</td>\n",
       "      <td>2</td>\n",
       "      <td>0</td>\n",
       "      <td>1</td>\n",
       "      <td>0</td>\n",
       "      <td>1</td>\n",
       "      <td>1</td>\n",
       "      <td>3</td>\n",
       "      <td>0</td>\n",
       "      <td>...</td>\n",
       "      <td>7</td>\n",
       "      <td>5</td>\n",
       "      <td>7</td>\n",
       "      <td>43</td>\n",
       "      <td>1</td>\n",
       "      <td>0</td>\n",
       "      <td>22</td>\n",
       "      <td>1.869565</td>\n",
       "      <td>23</td>\n",
       "      <td>0.000000</td>\n",
       "    </tr>\n",
       "  </tbody>\n",
       "</table>\n",
       "<p>5 rows × 25 columns</p>\n",
       "</div>"
      ],
      "text/plain": [
       "        bubble_id  festival_region_Canada  festival_region_East North Central  \\\n",
       "pk                                                                              \n",
       "200016       9892                       4                                   7   \n",
       "200017      20884                       7                                  15   \n",
       "200019       1293                       0                                   3   \n",
       "200020       3079                       2                                   3   \n",
       "200029       1295                       1                                   2   \n",
       "\n",
       "        festival_region_East South Central  festival_region_Europe  \\\n",
       "pk                                                                   \n",
       "200016                                   2                      11   \n",
       "200017                                   2                      18   \n",
       "200019                                   1                       1   \n",
       "200020                                   2                       7   \n",
       "200029                                   0                       1   \n",
       "\n",
       "        festival_region_Mexico  festival_region_Middle Atlantic  \\\n",
       "pk                                                                \n",
       "200016                       0                               10   \n",
       "200017                       2                               21   \n",
       "200019                       0                                3   \n",
       "200020                       1                                4   \n",
       "200029                       0                                1   \n",
       "\n",
       "        festival_region_Misc  festival_region_Mountain  \\\n",
       "pk                                                       \n",
       "200016                     1                        11   \n",
       "200017                     1                        20   \n",
       "200019                     0                         2   \n",
       "200020                     1                         4   \n",
       "200029                     1                         3   \n",
       "\n",
       "        festival_region_New England       ...        Q2  Q3  Q4  \\\n",
       "pk                                        ...                     \n",
       "200016                            1       ...        31  38  26   \n",
       "200017                            4       ...        38  74  45   \n",
       "200019                            0       ...         7   7   4   \n",
       "200020                            1       ...        16  18   9   \n",
       "200029                            0       ...         7   5   7   \n",
       "\n",
       "        festival_length  joined_MAYBE  joined_NO  joined_YES  \\\n",
       "pk                                                             \n",
       "200016              195            22         39          46   \n",
       "200017              324             5         38         134   \n",
       "200019               37             1          0          18   \n",
       "200020               97             5          0          45   \n",
       "200029               43             1          0          22   \n",
       "\n",
       "        avg_festival_length  total  pct_peeps_left  \n",
       "pk                                                  \n",
       "200016             1.822430    107        0.364486  \n",
       "200017             1.830508    177        0.214689  \n",
       "200019             1.947368     19        0.000000  \n",
       "200020             1.940000     50        0.000000  \n",
       "200029             1.869565     23        0.000000  \n",
       "\n",
       "[5 rows x 25 columns]"
      ]
     },
     "execution_count": 117,
     "metadata": {},
     "output_type": "execute_result"
    }
   ],
   "source": [
    "df_peep_bubbles_groupby.head()"
   ]
  },
  {
   "cell_type": "code",
   "execution_count": 118,
   "metadata": {},
   "outputs": [],
   "source": [
    "# Merge with user dataframe\n",
    "df_peeps = df_peeps.merge(df_peep_bubbles_groupby.drop(['Q1','Q2','Q3','Q4','joined_MAYBE','joined_YES','joined_NO','total'],axis=1), left_index=True, right_index=True)\n",
    "\n",
    "# del df_peep_bubbles_groupby"
   ]
  },
  {
   "cell_type": "markdown",
   "metadata": {},
   "source": [
    "# More EDA"
   ]
  },
  {
   "cell_type": "code",
   "execution_count": 119,
   "metadata": {},
   "outputs": [
    {
     "data": {
      "text/html": [
       "<div>\n",
       "<style scoped>\n",
       "    .dataframe tbody tr th:only-of-type {\n",
       "        vertical-align: middle;\n",
       "    }\n",
       "\n",
       "    .dataframe tbody tr th {\n",
       "        vertical-align: top;\n",
       "    }\n",
       "\n",
       "    .dataframe thead th {\n",
       "        text-align: right;\n",
       "    }\n",
       "</style>\n",
       "<table border=\"1\" class=\"dataframe\">\n",
       "  <thead>\n",
       "    <tr style=\"text-align: right;\">\n",
       "      <th></th>\n",
       "      <th>birthday</th>\n",
       "      <th>crush_ratio</th>\n",
       "      <th>gender</th>\n",
       "      <th>has_instagram</th>\n",
       "      <th>last_login</th>\n",
       "      <th>matches</th>\n",
       "      <th>peep_bubbles__count</th>\n",
       "      <th>tagline</th>\n",
       "      <th>age</th>\n",
       "      <th>age_in_days</th>\n",
       "      <th>...</th>\n",
       "      <th>festival_region_Misc</th>\n",
       "      <th>festival_region_Mountain</th>\n",
       "      <th>festival_region_New England</th>\n",
       "      <th>festival_region_Pacific</th>\n",
       "      <th>festival_region_South Atlantic</th>\n",
       "      <th>festival_region_West North Central</th>\n",
       "      <th>festival_region_West South Central</th>\n",
       "      <th>festival_length</th>\n",
       "      <th>avg_festival_length</th>\n",
       "      <th>pct_peeps_left</th>\n",
       "    </tr>\n",
       "    <tr>\n",
       "      <th>pk</th>\n",
       "      <th></th>\n",
       "      <th></th>\n",
       "      <th></th>\n",
       "      <th></th>\n",
       "      <th></th>\n",
       "      <th></th>\n",
       "      <th></th>\n",
       "      <th></th>\n",
       "      <th></th>\n",
       "      <th></th>\n",
       "      <th></th>\n",
       "      <th></th>\n",
       "      <th></th>\n",
       "      <th></th>\n",
       "      <th></th>\n",
       "      <th></th>\n",
       "      <th></th>\n",
       "      <th></th>\n",
       "      <th></th>\n",
       "      <th></th>\n",
       "      <th></th>\n",
       "    </tr>\n",
       "  </thead>\n",
       "  <tbody>\n",
       "    <tr>\n",
       "      <th>263742</th>\n",
       "      <td>1997-09-21</td>\n",
       "      <td>0.772937</td>\n",
       "      <td>1</td>\n",
       "      <td>0</td>\n",
       "      <td>2017-12-25 21:22:11.543180</td>\n",
       "      <td>[{u'created_on': u'2017-08-27T18:11:21.556813+...</td>\n",
       "      <td>19</td>\n",
       "      <td>🤷🏼‍♀️</td>\n",
       "      <td>20.0</td>\n",
       "      <td>7442</td>\n",
       "      <td>...</td>\n",
       "      <td>0</td>\n",
       "      <td>4</td>\n",
       "      <td>0</td>\n",
       "      <td>4</td>\n",
       "      <td>1</td>\n",
       "      <td>0</td>\n",
       "      <td>0</td>\n",
       "      <td>19</td>\n",
       "      <td>1.266667</td>\n",
       "      <td>0.800000</td>\n",
       "    </tr>\n",
       "    <tr>\n",
       "      <th>260988</th>\n",
       "      <td>1986-04-09</td>\n",
       "      <td>0.237527</td>\n",
       "      <td>0</td>\n",
       "      <td>0</td>\n",
       "      <td>2018-01-18 06:07:33.574752</td>\n",
       "      <td>[{u'created_on': u'2017-10-22T03:56:35.656612+...</td>\n",
       "      <td>15</td>\n",
       "      <td></td>\n",
       "      <td>31.0</td>\n",
       "      <td>11625</td>\n",
       "      <td>...</td>\n",
       "      <td>0</td>\n",
       "      <td>1</td>\n",
       "      <td>0</td>\n",
       "      <td>4</td>\n",
       "      <td>4</td>\n",
       "      <td>0</td>\n",
       "      <td>1</td>\n",
       "      <td>29</td>\n",
       "      <td>2.071429</td>\n",
       "      <td>0.071429</td>\n",
       "    </tr>\n",
       "    <tr>\n",
       "      <th>244211</th>\n",
       "      <td>1994-09-27</td>\n",
       "      <td>0.794365</td>\n",
       "      <td>1</td>\n",
       "      <td>1</td>\n",
       "      <td>2018-01-22 17:09:54.480483</td>\n",
       "      <td>[{u'created_on': u'2018-01-19T21:44:25.739253+...</td>\n",
       "      <td>17</td>\n",
       "      <td>🍄🐢</td>\n",
       "      <td>23.0</td>\n",
       "      <td>8532</td>\n",
       "      <td>...</td>\n",
       "      <td>0</td>\n",
       "      <td>0</td>\n",
       "      <td>0</td>\n",
       "      <td>4</td>\n",
       "      <td>5</td>\n",
       "      <td>0</td>\n",
       "      <td>1</td>\n",
       "      <td>21</td>\n",
       "      <td>1.615385</td>\n",
       "      <td>0.000000</td>\n",
       "    </tr>\n",
       "    <tr>\n",
       "      <th>256286</th>\n",
       "      <td>1996-10-23</td>\n",
       "      <td>0.321168</td>\n",
       "      <td>0</td>\n",
       "      <td>0</td>\n",
       "      <td>2018-01-14 23:05:18.539342</td>\n",
       "      <td>[{u'created_on': u'2016-10-06T02:21:14.432229+...</td>\n",
       "      <td>47</td>\n",
       "      <td>From Sac town! \\nAll about the bass😝 \\nSc:tguM...</td>\n",
       "      <td>21.0</td>\n",
       "      <td>7775</td>\n",
       "      <td>...</td>\n",
       "      <td>1</td>\n",
       "      <td>4</td>\n",
       "      <td>1</td>\n",
       "      <td>6</td>\n",
       "      <td>8</td>\n",
       "      <td>0</td>\n",
       "      <td>3</td>\n",
       "      <td>60</td>\n",
       "      <td>1.578947</td>\n",
       "      <td>0.736842</td>\n",
       "    </tr>\n",
       "    <tr>\n",
       "      <th>247662</th>\n",
       "      <td>1992-11-23</td>\n",
       "      <td>0.230469</td>\n",
       "      <td>0</td>\n",
       "      <td>0</td>\n",
       "      <td>2018-01-21 01:08:56.720441</td>\n",
       "      <td>[{u'created_on': u'2017-12-29T16:30:28.929724+...</td>\n",
       "      <td>6</td>\n",
       "      <td></td>\n",
       "      <td>25.0</td>\n",
       "      <td>9205</td>\n",
       "      <td>...</td>\n",
       "      <td>0</td>\n",
       "      <td>0</td>\n",
       "      <td>0</td>\n",
       "      <td>1</td>\n",
       "      <td>2</td>\n",
       "      <td>0</td>\n",
       "      <td>1</td>\n",
       "      <td>12</td>\n",
       "      <td>2.400000</td>\n",
       "      <td>0.000000</td>\n",
       "    </tr>\n",
       "  </tbody>\n",
       "</table>\n",
       "<p>5 rows × 37 columns</p>\n",
       "</div>"
      ],
      "text/plain": [
       "         birthday  crush_ratio  gender  has_instagram  \\\n",
       "pk                                                      \n",
       "263742 1997-09-21     0.772937       1              0   \n",
       "260988 1986-04-09     0.237527       0              0   \n",
       "244211 1994-09-27     0.794365       1              1   \n",
       "256286 1996-10-23     0.321168       0              0   \n",
       "247662 1992-11-23     0.230469       0              0   \n",
       "\n",
       "                       last_login  \\\n",
       "pk                                  \n",
       "263742 2017-12-25 21:22:11.543180   \n",
       "260988 2018-01-18 06:07:33.574752   \n",
       "244211 2018-01-22 17:09:54.480483   \n",
       "256286 2018-01-14 23:05:18.539342   \n",
       "247662 2018-01-21 01:08:56.720441   \n",
       "\n",
       "                                                  matches  \\\n",
       "pk                                                          \n",
       "263742  [{u'created_on': u'2017-08-27T18:11:21.556813+...   \n",
       "260988  [{u'created_on': u'2017-10-22T03:56:35.656612+...   \n",
       "244211  [{u'created_on': u'2018-01-19T21:44:25.739253+...   \n",
       "256286  [{u'created_on': u'2016-10-06T02:21:14.432229+...   \n",
       "247662  [{u'created_on': u'2017-12-29T16:30:28.929724+...   \n",
       "\n",
       "        peep_bubbles__count  \\\n",
       "pk                            \n",
       "263742                   19   \n",
       "260988                   15   \n",
       "244211                   17   \n",
       "256286                   47   \n",
       "247662                    6   \n",
       "\n",
       "                                                  tagline   age  age_in_days  \\\n",
       "pk                                                                             \n",
       "263742                                              🤷🏼‍♀️  20.0         7442   \n",
       "260988                                                     31.0        11625   \n",
       "244211                                                 🍄🐢  23.0         8532   \n",
       "256286  From Sac town! \\nAll about the bass😝 \\nSc:tguM...  21.0         7775   \n",
       "247662                                                     25.0         9205   \n",
       "\n",
       "             ...        festival_region_Misc  festival_region_Mountain  \\\n",
       "pk           ...                                                         \n",
       "263742       ...                           0                         4   \n",
       "260988       ...                           0                         1   \n",
       "244211       ...                           0                         0   \n",
       "256286       ...                           1                         4   \n",
       "247662       ...                           0                         0   \n",
       "\n",
       "        festival_region_New England  festival_region_Pacific  \\\n",
       "pk                                                             \n",
       "263742                            0                        4   \n",
       "260988                            0                        4   \n",
       "244211                            0                        4   \n",
       "256286                            1                        6   \n",
       "247662                            0                        1   \n",
       "\n",
       "        festival_region_South Atlantic  festival_region_West North Central  \\\n",
       "pk                                                                           \n",
       "263742                               1                                   0   \n",
       "260988                               4                                   0   \n",
       "244211                               5                                   0   \n",
       "256286                               8                                   0   \n",
       "247662                               2                                   0   \n",
       "\n",
       "        festival_region_West South Central  festival_length  \\\n",
       "pk                                                            \n",
       "263742                                   0               19   \n",
       "260988                                   1               29   \n",
       "244211                                   1               21   \n",
       "256286                                   3               60   \n",
       "247662                                   1               12   \n",
       "\n",
       "        avg_festival_length  pct_peeps_left  \n",
       "pk                                           \n",
       "263742             1.266667        0.800000  \n",
       "260988             2.071429        0.071429  \n",
       "244211             1.615385        0.000000  \n",
       "256286             1.578947        0.736842  \n",
       "247662             2.400000        0.000000  \n",
       "\n",
       "[5 rows x 37 columns]"
      ]
     },
     "execution_count": 119,
     "metadata": {},
     "output_type": "execute_result"
    }
   ],
   "source": [
    "df_peeps.head()"
   ]
  },
  {
   "cell_type": "code",
   "execution_count": 435,
   "metadata": {},
   "outputs": [
    {
     "data": {
      "text/html": [
       "<div>\n",
       "<style scoped>\n",
       "    .dataframe tbody tr th:only-of-type {\n",
       "        vertical-align: middle;\n",
       "    }\n",
       "\n",
       "    .dataframe tbody tr th {\n",
       "        vertical-align: top;\n",
       "    }\n",
       "\n",
       "    .dataframe thead th {\n",
       "        text-align: right;\n",
       "    }\n",
       "</style>\n",
       "<table border=\"1\" class=\"dataframe\">\n",
       "  <thead>\n",
       "    <tr style=\"text-align: right;\">\n",
       "      <th>churn</th>\n",
       "      <th>0</th>\n",
       "      <th>1</th>\n",
       "    </tr>\n",
       "  </thead>\n",
       "  <tbody>\n",
       "    <tr>\n",
       "      <th>crush_ratio</th>\n",
       "      <td>0.406027</td>\n",
       "      <td>0.382400</td>\n",
       "    </tr>\n",
       "    <tr>\n",
       "      <th>gender</th>\n",
       "      <td>0.312380</td>\n",
       "      <td>0.320486</td>\n",
       "    </tr>\n",
       "    <tr>\n",
       "      <th>has_instagram</th>\n",
       "      <td>0.220222</td>\n",
       "      <td>0.066810</td>\n",
       "    </tr>\n",
       "    <tr>\n",
       "      <th>peep_bubbles__count</th>\n",
       "      <td>13.650437</td>\n",
       "      <td>6.085745</td>\n",
       "    </tr>\n",
       "    <tr>\n",
       "      <th>pk</th>\n",
       "      <td>236937.039314</td>\n",
       "      <td>240433.349090</td>\n",
       "    </tr>\n",
       "    <tr>\n",
       "      <th>age</th>\n",
       "      <td>24.316429</td>\n",
       "      <td>24.773316</td>\n",
       "    </tr>\n",
       "    <tr>\n",
       "      <th>iphone_user</th>\n",
       "      <td>0.798104</td>\n",
       "      <td>0.538441</td>\n",
       "    </tr>\n",
       "    <tr>\n",
       "      <th>has_bio</th>\n",
       "      <td>0.724590</td>\n",
       "      <td>0.445243</td>\n",
       "    </tr>\n",
       "    <tr>\n",
       "      <th>avg_num_msgs</th>\n",
       "      <td>3.434797</td>\n",
       "      <td>2.192439</td>\n",
       "    </tr>\n",
       "    <tr>\n",
       "      <th>num_matches</th>\n",
       "      <td>14.748029</td>\n",
       "      <td>19.917545</td>\n",
       "    </tr>\n",
       "    <tr>\n",
       "      <th>pct_logins_wknd</th>\n",
       "      <td>0.247436</td>\n",
       "      <td>0.265680</td>\n",
       "    </tr>\n",
       "    <tr>\n",
       "      <th>Q1_pct</th>\n",
       "      <td>0.139571</td>\n",
       "      <td>0.099029</td>\n",
       "    </tr>\n",
       "    <tr>\n",
       "      <th>Q2_pct</th>\n",
       "      <td>0.362023</td>\n",
       "      <td>0.282466</td>\n",
       "    </tr>\n",
       "    <tr>\n",
       "      <th>Q3_pct</th>\n",
       "      <td>0.280314</td>\n",
       "      <td>0.389546</td>\n",
       "    </tr>\n",
       "    <tr>\n",
       "      <th>Q4_pct</th>\n",
       "      <td>0.218091</td>\n",
       "      <td>0.228960</td>\n",
       "    </tr>\n",
       "    <tr>\n",
       "      <th>bubble_id</th>\n",
       "      <td>1492.824313</td>\n",
       "      <td>591.173773</td>\n",
       "    </tr>\n",
       "    <tr>\n",
       "      <th>festival_region_Canada</th>\n",
       "      <td>0.204027</td>\n",
       "      <td>0.069026</td>\n",
       "    </tr>\n",
       "    <tr>\n",
       "      <th>festival_region_East North Central</th>\n",
       "      <td>1.555508</td>\n",
       "      <td>0.667361</td>\n",
       "    </tr>\n",
       "    <tr>\n",
       "      <th>festival_region_East South Central</th>\n",
       "      <td>0.417963</td>\n",
       "      <td>0.184382</td>\n",
       "    </tr>\n",
       "    <tr>\n",
       "      <th>festival_region_Europe</th>\n",
       "      <td>0.331238</td>\n",
       "      <td>0.246290</td>\n",
       "    </tr>\n",
       "    <tr>\n",
       "      <th>festival_region_Mexico</th>\n",
       "      <td>0.036331</td>\n",
       "      <td>0.007386</td>\n",
       "    </tr>\n",
       "    <tr>\n",
       "      <th>festival_region_Middle Atlantic</th>\n",
       "      <td>1.234392</td>\n",
       "      <td>0.656684</td>\n",
       "    </tr>\n",
       "    <tr>\n",
       "      <th>festival_region_Misc</th>\n",
       "      <td>0.030897</td>\n",
       "      <td>0.032297</td>\n",
       "    </tr>\n",
       "    <tr>\n",
       "      <th>festival_region_Mountain</th>\n",
       "      <td>1.773386</td>\n",
       "      <td>0.776271</td>\n",
       "    </tr>\n",
       "    <tr>\n",
       "      <th>festival_region_New England</th>\n",
       "      <td>0.086086</td>\n",
       "      <td>0.036191</td>\n",
       "    </tr>\n",
       "    <tr>\n",
       "      <th>festival_region_Pacific</th>\n",
       "      <td>3.003090</td>\n",
       "      <td>1.181226</td>\n",
       "    </tr>\n",
       "    <tr>\n",
       "      <th>festival_region_South Atlantic</th>\n",
       "      <td>3.303750</td>\n",
       "      <td>1.520849</td>\n",
       "    </tr>\n",
       "    <tr>\n",
       "      <th>festival_region_West North Central</th>\n",
       "      <td>0.208502</td>\n",
       "      <td>0.113140</td>\n",
       "    </tr>\n",
       "    <tr>\n",
       "      <th>festival_region_West South Central</th>\n",
       "      <td>1.371085</td>\n",
       "      <td>0.510038</td>\n",
       "    </tr>\n",
       "    <tr>\n",
       "      <th>festival_length</th>\n",
       "      <td>32.063179</td>\n",
       "      <td>14.698516</td>\n",
       "    </tr>\n",
       "    <tr>\n",
       "      <th>avg_festival_length</th>\n",
       "      <td>2.408364</td>\n",
       "      <td>2.432578</td>\n",
       "    </tr>\n",
       "    <tr>\n",
       "      <th>pct_peeps_left</th>\n",
       "      <td>0.173461</td>\n",
       "      <td>0.065882</td>\n",
       "    </tr>\n",
       "  </tbody>\n",
       "</table>\n",
       "</div>"
      ],
      "text/plain": [
       "churn                                           0              1\n",
       "crush_ratio                              0.406027       0.382400\n",
       "gender                                   0.312380       0.320486\n",
       "has_instagram                            0.220222       0.066810\n",
       "peep_bubbles__count                     13.650437       6.085745\n",
       "pk                                  236937.039314  240433.349090\n",
       "age                                     24.316429      24.773316\n",
       "iphone_user                              0.798104       0.538441\n",
       "has_bio                                  0.724590       0.445243\n",
       "avg_num_msgs                             3.434797       2.192439\n",
       "num_matches                             14.748029      19.917545\n",
       "pct_logins_wknd                          0.247436       0.265680\n",
       "Q1_pct                                   0.139571       0.099029\n",
       "Q2_pct                                   0.362023       0.282466\n",
       "Q3_pct                                   0.280314       0.389546\n",
       "Q4_pct                                   0.218091       0.228960\n",
       "bubble_id                             1492.824313     591.173773\n",
       "festival_region_Canada                   0.204027       0.069026\n",
       "festival_region_East North Central       1.555508       0.667361\n",
       "festival_region_East South Central       0.417963       0.184382\n",
       "festival_region_Europe                   0.331238       0.246290\n",
       "festival_region_Mexico                   0.036331       0.007386\n",
       "festival_region_Middle Atlantic          1.234392       0.656684\n",
       "festival_region_Misc                     0.030897       0.032297\n",
       "festival_region_Mountain                 1.773386       0.776271\n",
       "festival_region_New England              0.086086       0.036191\n",
       "festival_region_Pacific                  3.003090       1.181226\n",
       "festival_region_South Atlantic           3.303750       1.520849\n",
       "festival_region_West North Central       0.208502       0.113140\n",
       "festival_region_West South Central       1.371085       0.510038\n",
       "festival_length                         32.063179      14.698516\n",
       "avg_festival_length                      2.408364       2.432578\n",
       "pct_peeps_left                           0.173461       0.065882"
      ]
     },
     "execution_count": 435,
     "metadata": {},
     "output_type": "execute_result"
    }
   ],
   "source": [
    "df_peeps.groupby('churn').mean().T"
   ]
  },
  {
   "cell_type": "code",
   "execution_count": 268,
   "metadata": {},
   "outputs": [],
   "source": [
    "# df_peeps.drop(['pct_logins_wknd_y','pct_logins_wkday'],axis=1,inplace=True)"
   ]
  },
  {
   "cell_type": "code",
   "execution_count": 70,
   "metadata": {},
   "outputs": [
    {
     "data": {
      "text/plain": [
       "\"\\nhigher churn:\\nlower CR\\nlower gender\\nlower insta\\nhigher peep_bubbles ct\\nolder\\nnot iphone user\\nless likely to have bio\\nshorter bio length\\nlower num msgs\\nless matches\\nmore maybes\\nless no's\\nmore yes's\\nless CA\\nmore FL\\nmore fall\\nmore spring\\nmore summer\\nless winter --> winter ppl are more devoted\\nless peeps left - ppl who go and update status are more involved w app\\nshorter festival length\\nmore India\\n\""
      ]
     },
     "execution_count": 70,
     "metadata": {},
     "output_type": "execute_result"
    }
   ],
   "source": [
    "'''\n",
    "higher churn:\n",
    "lower CR\n",
    "lower gender\n",
    "lower insta\n",
    "higher peep_bubbles ct\n",
    "older\n",
    "not iphone user\n",
    "less likely to have bio\n",
    "shorter bio length\n",
    "lower num msgs\n",
    "less matches\n",
    "more maybes\n",
    "less no's\n",
    "more yes's\n",
    "less CA\n",
    "more FL\n",
    "more fall\n",
    "more spring\n",
    "more summer\n",
    "less winter --> winter ppl are more devoted\n",
    "less peeps left - ppl who go and update status are more involved w app\n",
    "shorter festival length\n",
    "more India\n",
    "'''"
   ]
  },
  {
   "cell_type": "code",
   "execution_count": 162,
   "metadata": {},
   "outputs": [],
   "source": [
    "# df_peeps.describe().T"
   ]
  },
  {
   "cell_type": "code",
   "execution_count": 72,
   "metadata": {},
   "outputs": [
    {
     "data": {
      "text/plain": [
       "'\\nout of total population...\\nmore android users than iphone users\\nmore men than women\\n\\n'"
      ]
     },
     "execution_count": 72,
     "metadata": {},
     "output_type": "execute_result"
    }
   ],
   "source": [
    "'''\n",
    "out of total population...\n",
    "more android users than iphone users\n",
    "more men than women\n",
    "'''"
   ]
  },
  {
   "cell_type": "code",
   "execution_count": 89,
   "metadata": {},
   "outputs": [
    {
     "data": {
      "image/png": "[encoded data removed]",
      "text/plain": [
       "<matplotlib.figure.Figure at 0x7fa4cb38cb90>"
      ]
     },
     "metadata": {},
     "output_type": "display_data"
    }
   ],
   "source": [
    "scatter_features = ['churn','crush_ratio', 'num_matches', 'iphone_user', 'age','avg_num_msgs','peep_bubbles__count','pct_peeps_left']\n",
    "colors = ['red' if i else 'blue' for i in df_peeps['churn']]\n",
    "# red means churn\n",
    "\n",
    "scatter_matrix(df_peeps[scatter_features], alpha=0.2, figsize=(20, 20), diagonal='hist', color=colors)\n",
    "plt.show()"
   ]
  },
  {
   "cell_type": "code",
   "execution_count": null,
   "metadata": {},
   "outputs": [],
   "source": [
    "df_peeps['peep_bubbles__count'].describe()"
   ]
  },
  {
   "cell_type": "code",
   "execution_count": null,
   "metadata": {},
   "outputs": [],
   "source": [
    "# scatter_features2 = df_cleaned[['pct_joined','peeps_joined','peep_bubbles__count', 'avg_bubble_joins']]\n",
    "# colors = ['red' if i else 'blue' for i in df_peeps['churn_Dec']]\n",
    "# # red means churn, blue is not churn\n",
    "\n",
    "# scatter_matrix(scatter_features2, alpha=0.2, figsize=(20, 20), diagonal='hist', color=colors)\n",
    "# plt.show()"
   ]
  },
  {
   "cell_type": "code",
   "execution_count": 45,
   "metadata": {},
   "outputs": [
    {
     "data": {
      "text/plain": [
       "'\\nusers who do not churn... \\nhigher peep bubbles count - going to more events\\nslightly higher crush ratio\\n'"
      ]
     },
     "execution_count": 45,
     "metadata": {},
     "output_type": "execute_result"
    }
   ],
   "source": [
    "'''\n",
    "users who do not churn (blue)... \n",
    "higher peep bubbles count - going to more events\n",
    "slightly higher crush ratio\n",
    "'''"
   ]
  },
  {
   "cell_type": "markdown",
   "metadata": {
    "collapsed": true
   },
   "source": [
    "# Modeling"
   ]
  },
  {
   "cell_type": "code",
   "execution_count": 120,
   "metadata": {},
   "outputs": [],
   "source": [
    "from sklearn.linear_model import LogisticRegression\n",
    "from sklearn.pipeline import Pipeline\n",
    "from sklearn.svm import SVC\n",
    "from sklearn.model_selection import GridSearchCV, train_test_split, cross_val_score\n",
    "import sklearn.metrics as skm\n",
    "from sklearn.ensemble import GradientBoostingClassifier, RandomForestClassifier, BaggingClassifier\n",
    "from sklearn.cluster import KMeans\n",
    "from sklearn.preprocessing import StandardScaler"
   ]
  },
  {
   "cell_type": "code",
   "execution_count": 145,
   "metadata": {},
   "outputs": [],
   "source": [
    "y = df_peeps['churn']\n",
    "X = df_peeps.drop(['churn','tagline','birthday', 'last_login','age',\n",
    "                   'matches', 'num_matches', 'Q1_pct'], axis=1)\n",
    "\n",
    "X_train, X_test, y_train, y_test = train_test_split(X.values, y.values, test_size=0.20, random_state=67)"
   ]
  },
  {
   "cell_type": "markdown",
   "metadata": {},
   "source": [
    "Dropping columns:\n",
    "* churn - we should not include this in the model since this is what we are trying to predict!\n",
    "* last_login - we used this to define churn, so definitely don't want to include\n",
    "* age - we have age_in_days... we only used age for EDA purposes\n",
    "* bubble_id - this is just an identifier for the actual festivals and we have coded the attributes of festivals in separate features\n",
    "* tagline - this is text based and we used it for our topic modeling\n",
    "* matches - we used this to create num_matches\n",
    "* num_matches - highly correlated w/ other features"
   ]
  },
  {
   "cell_type": "code",
   "execution_count": 128,
   "metadata": {},
   "outputs": [],
   "source": [
    "def run_model(model, X_train, X_test, y_train, y_test):\n",
    "    model.fit(X_train, y_train)\n",
    "    print \"Accuracy:\", round(model.score(X_test, y_test),3)\n",
    "    print \"AUC:\", round(skm.roc_auc_score(y_test, model.predict(X_test)),3)\n",
    "    return"
   ]
  },
  {
   "cell_type": "markdown",
   "metadata": {},
   "source": [
    "# Logistic Regression"
   ]
  },
  {
   "cell_type": "code",
   "execution_count": 123,
   "metadata": {},
   "outputs": [],
   "source": [
    "logistic = LogisticRegression()"
   ]
  },
  {
   "cell_type": "code",
   "execution_count": 124,
   "metadata": {},
   "outputs": [
    {
     "name": "stdout",
     "output_type": "stream",
     "text": [
      "Accuracy: 0.726\n",
      "AUC 0.693\n"
     ]
    }
   ],
   "source": [
    "run_model(logistic, X_train, X_test, y_train, y_test)"
   ]
  },
  {
   "cell_type": "code",
   "execution_count": 186,
   "metadata": {},
   "outputs": [],
   "source": [
    "# for col, feat_imp in sorted(zip(X.columns, logistic.coef_[0]), key = lambda x:x[1], reverse=True):\n",
    "#     print col, feat_imp"
   ]
  },
  {
   "cell_type": "code",
   "execution_count": 162,
   "metadata": {},
   "outputs": [],
   "source": [
    "# logistic.coef_[0]"
   ]
  },
  {
   "cell_type": "markdown",
   "metadata": {},
   "source": [
    "# SVM"
   ]
  },
  {
   "cell_type": "code",
   "execution_count": 125,
   "metadata": {},
   "outputs": [
    {
     "data": {
      "text/plain": [
       "Pipeline(memory=None,\n",
       "     steps=[('scaler', StandardScaler(copy=True, with_mean=True, with_std=True)), ('svc', SVC(C=1.0, cache_size=200, class_weight=None, coef0=0.0,\n",
       "  decision_function_shape='ovr', degree=3, gamma='auto', kernel='rbf',\n",
       "  max_iter=-1, probability=False, random_state=None, shrinking=True,\n",
       "  tol=0.001, verbose=False))])"
      ]
     },
     "execution_count": 125,
     "metadata": {},
     "output_type": "execute_result"
    }
   ],
   "source": [
    "svm_pipe = Pipeline([('scaler', StandardScaler()),\n",
    "                        ('svc', SVC(kernel='rbf'))])\n",
    "svm_pipe.fit(X_train, y_train)"
   ]
  },
  {
   "cell_type": "code",
   "execution_count": 127,
   "metadata": {},
   "outputs": [
    {
     "name": "stdout",
     "output_type": "stream",
     "text": [
      "Accuracy: 0.743\n",
      "AUC 0.714\n"
     ]
    }
   ],
   "source": [
    "run_model(svm_pipe, X_train, X_test, y_train, y_test)"
   ]
  },
  {
   "cell_type": "code",
   "execution_count": null,
   "metadata": {},
   "outputs": [],
   "source": []
  },
  {
   "cell_type": "markdown",
   "metadata": {},
   "source": [
    "# Random Forest"
   ]
  },
  {
   "cell_type": "code",
   "execution_count": 146,
   "metadata": {},
   "outputs": [
    {
     "data": {
      "text/plain": [
       "RandomForestClassifier(bootstrap=True, class_weight=None, criterion='gini',\n",
       "            max_depth=None, max_features='auto', max_leaf_nodes=None,\n",
       "            min_impurity_decrease=0.0, min_impurity_split=None,\n",
       "            min_samples_leaf=1, min_samples_split=2,\n",
       "            min_weight_fraction_leaf=0.0, n_estimators=10, n_jobs=1,\n",
       "            oob_score=False, random_state=None, verbose=0,\n",
       "            warm_start=False)"
      ]
     },
     "execution_count": 146,
     "metadata": {},
     "output_type": "execute_result"
    }
   ],
   "source": [
    "rf = RandomForestClassifier()\n",
    "rf.fit(X_train, y_train)"
   ]
  },
  {
   "cell_type": "code",
   "execution_count": 147,
   "metadata": {},
   "outputs": [
    {
     "name": "stdout",
     "output_type": "stream",
     "text": [
      "Accuracy: 0.752\n",
      "AUC: 0.746\n"
     ]
    }
   ],
   "source": [
    "run_model(rf, X_train, X_test, y_train, y_test)"
   ]
  },
  {
   "cell_type": "code",
   "execution_count": 148,
   "metadata": {},
   "outputs": [
    {
     "name": "stdout",
     "output_type": "stream",
     "text": [
      "Q2_pct 0.109\n",
      "peep_bubbles__count 0.095\n",
      "bubble_id 0.073\n",
      "Q3_pct 0.071\n",
      "pct_logins_wknd 0.064\n",
      "festival_length 0.064\n",
      "Q4_pct 0.063\n",
      "crush_ratio 0.06\n",
      "age_in_days 0.057\n",
      "pct_peeps_left 0.046\n",
      "avg_num_msgs 0.045\n",
      "avg_festival_length 0.043\n",
      "festival_region_Pacific 0.033\n",
      "iphone_user 0.025\n",
      "festival_region_South Atlantic 0.024\n",
      "festival_region_Middle Atlantic 0.018\n",
      "festival_region_Mountain 0.016\n",
      "has_instagram 0.014\n",
      "festival_region_East North Central 0.014\n",
      "festival_region_Europe 0.013\n",
      "festival_region_West South Central 0.012\n",
      "has_bio 0.011\n",
      "festival_region_Canada 0.009\n",
      "gender 0.007\n",
      "festival_region_East South Central 0.005\n",
      "festival_region_Misc 0.004\n",
      "festival_region_New England 0.003\n",
      "festival_region_West North Central 0.001\n",
      "festival_region_Mexico 0.001\n"
     ]
    }
   ],
   "source": [
    "for col, feat_imp in sorted(zip(X.columns, rf.feature_importances_), key = lambda x:x[1], reverse=True):\n",
    "    print col, round(feat_imp, 3)"
   ]
  },
  {
   "cell_type": "markdown",
   "metadata": {},
   "source": [
    "# Boosting"
   ]
  },
  {
   "cell_type": "code",
   "execution_count": 134,
   "metadata": {},
   "outputs": [],
   "source": [
    "gbc = GradientBoostingClassifier()"
   ]
  },
  {
   "cell_type": "code",
   "execution_count": 136,
   "metadata": {},
   "outputs": [
    {
     "name": "stdout",
     "output_type": "stream",
     "text": [
      "Accuracy: 0.774\n",
      "AUC: 0.753\n"
     ]
    }
   ],
   "source": [
    "run_model(gbc, X_train, X_test, y_train, y_test)"
   ]
  },
  {
   "cell_type": "code",
   "execution_count": 137,
   "metadata": {},
   "outputs": [],
   "source": [
    "gbc_grid = {\n",
    "    'learning_rate': [.01, .1, .5],\n",
    "    'max_depth': [2, 4, 6, 8],\n",
    "    'min_samples_leaf': [1, 3, 5],\n",
    "    'n_estimators': [500, 1000],\n",
    "    'subsample': [0.5, 0.75, 1.0],\n",
    "    'max_features': ['sqrt', 'log2', None]\n",
    "}"
   ]
  },
  {
   "cell_type": "code",
   "execution_count": 138,
   "metadata": {},
   "outputs": [],
   "source": [
    "gbc_grid_cv = GridSearchCV(GradientBoostingClassifier(), gbc_grid, n_jobs=-1, scoring='roc_auc')"
   ]
  },
  {
   "cell_type": "code",
   "execution_count": 139,
   "metadata": {},
   "outputs": [
    {
     "data": {
      "text/plain": [
       "GridSearchCV(cv=None, error_score='raise',\n",
       "       estimator=GradientBoostingClassifier(criterion='friedman_mse', init=None,\n",
       "              learning_rate=0.1, loss='deviance', max_depth=3,\n",
       "              max_features=None, max_leaf_nodes=None,\n",
       "              min_impurity_decrease=0.0, min_impurity_split=None,\n",
       "              min_samples_leaf=1, min_samples_split=2,\n",
       "              min_weight_fraction_leaf=0.0, n_estimators=100,\n",
       "              presort='auto', random_state=None, subsample=1.0, verbose=0,\n",
       "              warm_start=False),\n",
       "       fit_params=None, iid=True, n_jobs=-1,\n",
       "       param_grid={'learning_rate': [0.01, 0.1, 0.5], 'min_samples_leaf': [1, 3, 5], 'n_estimators': [500, 1000], 'subsample': [0.5, 0.75, 1.0], 'max_features': ['sqrt', 'log2', None], 'max_depth': [2, 4, 6, 8]},\n",
       "       pre_dispatch='2*n_jobs', refit=True, return_train_score='warn',\n",
       "       scoring='roc_auc', verbose=0)"
      ]
     },
     "execution_count": 139,
     "metadata": {},
     "output_type": "execute_result"
    }
   ],
   "source": [
    "gbc_grid_cv.fit(X_train, y_train)"
   ]
  },
  {
   "cell_type": "code",
   "execution_count": 140,
   "metadata": {},
   "outputs": [],
   "source": [
    "best_model = gbc_grid_cv.best_estimator_\n",
    "best_params = gbc_grid_cv.best_params_"
   ]
  },
  {
   "cell_type": "code",
   "execution_count": 141,
   "metadata": {},
   "outputs": [
    {
     "data": {
      "text/plain": [
       "{'learning_rate': 0.01,\n",
       " 'max_depth': 6,\n",
       " 'max_features': None,\n",
       " 'min_samples_leaf': 3,\n",
       " 'n_estimators': 1000,\n",
       " 'subsample': 0.75}"
      ]
     },
     "execution_count": 141,
     "metadata": {},
     "output_type": "execute_result"
    }
   ],
   "source": [
    "best_params"
   ]
  },
  {
   "cell_type": "code",
   "execution_count": 142,
   "metadata": {},
   "outputs": [
    {
     "data": {
      "text/plain": [
       "0.8494989510685621"
      ]
     },
     "execution_count": 142,
     "metadata": {},
     "output_type": "execute_result"
    }
   ],
   "source": [
    "gbc_grid_cv.best_score_"
   ]
  },
  {
   "cell_type": "code",
   "execution_count": 144,
   "metadata": {},
   "outputs": [
    {
     "name": "stdout",
     "output_type": "stream",
     "text": [
      "Q2_pct 0.124\n",
      "peep_bubbles__count 0.111\n",
      "Q3_pct 0.088\n",
      "crush_ratio 0.086\n",
      "pct_logins_wknd 0.081\n",
      "Q4_pct 0.07\n",
      "age_in_days 0.064\n",
      "bubble_id 0.06\n",
      "avg_festival_length 0.047\n",
      "avg_num_msgs 0.04\n",
      "festival_length 0.04\n",
      "pct_peeps_left 0.032\n",
      "festival_region_South Atlantic 0.018\n",
      "iphone_user 0.018\n",
      "festival_region_East North Central 0.017\n",
      "festival_region_Pacific 0.016\n",
      "has_instagram 0.015\n",
      "festival_region_Middle Atlantic 0.013\n",
      "festival_region_Europe 0.013\n",
      "festival_region_Mountain 0.012\n",
      "festival_region_West South Central 0.008\n",
      "has_bio 0.008\n",
      "festival_region_Canada 0.006\n",
      "festival_region_East South Central 0.003\n",
      "festival_region_West North Central 0.003\n",
      "gender 0.003\n",
      "festival_region_Misc 0.003\n",
      "festival_region_New England 0.002\n",
      "festival_region_Mexico 0.001\n",
      "num_matches 0.0\n"
     ]
    }
   ],
   "source": [
    "for col, feat_imp in sorted(zip(X.columns, best_model.feature_importances_), key = lambda x:x[1], reverse=True):\n",
    "    print col, round(feat_imp, 3)"
   ]
  },
  {
   "cell_type": "code",
   "execution_count": null,
   "metadata": {},
   "outputs": [],
   "source": []
  }
 ],
 "metadata": {
  "kernelspec": {
   "display_name": "Python 2",
   "language": "python",
   "name": "python2"
  },
  "language_info": {
   "codemirror_mode": {
    "name": "ipython",
    "version": 2
   },
   "file_extension": ".py",
   "mimetype": "text/x-python",
   "name": "python",
   "nbconvert_exporter": "python",
   "pygments_lexer": "ipython2",
   "version": "2.7.12"
  }
 },
 "nbformat": 4,
 "nbformat_minor": 2
}
